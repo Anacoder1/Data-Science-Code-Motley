{
  "nbformat": 4,
  "nbformat_minor": 0,
  "metadata": {
    "colab": {
      "name": "Denoising Autoencoder_MNIST.ipynb",
      "version": "0.3.2",
      "provenance": [],
      "collapsed_sections": []
    },
    "kernelspec": {
      "name": "python3",
      "display_name": "Python 3"
    },
    "accelerator": "GPU"
  },
  "cells": [
    {
      "cell_type": "code",
      "metadata": {
        "id": "pv6Y4BEnOiNU",
        "colab_type": "code",
        "colab": {
          "base_uri": "https://localhost:8080/",
          "height": 35
        },
        "outputId": "5561bc69-36c2-49eb-d8fc-fecfb0593ebd"
      },
      "source": [
        "import numpy as np\n",
        "import matplotlib.pyplot as plt\n",
        "\n",
        "from keras.models import Model\n",
        "from keras.layers import Input, Conv2D, MaxPooling2D\n",
        "from keras.layers import UpSampling2D, LeakyReLU"
      ],
      "execution_count": 1,
      "outputs": [
        {
          "output_type": "stream",
          "text": [
            "Using TensorFlow backend.\n"
          ],
          "name": "stderr"
        }
      ]
    },
    {
      "cell_type": "code",
      "metadata": {
        "id": "-11iCvfoPiY4",
        "colab_type": "code",
        "colab": {}
      },
      "source": [
        "## Load data\n",
        "from keras.datasets import mnist"
      ],
      "execution_count": 0,
      "outputs": []
    },
    {
      "cell_type": "code",
      "metadata": {
        "id": "sNVAdLnVPk9J",
        "colab_type": "code",
        "colab": {}
      },
      "source": [
        "## Input image dimensions\n",
        "img_rows, img_cols = 28, 28\n",
        "input_shape = (img_rows, img_cols, 1)"
      ],
      "execution_count": 0,
      "outputs": []
    },
    {
      "cell_type": "code",
      "metadata": {
        "id": "k6w8K8tmPq82",
        "colab_type": "code",
        "colab": {
          "base_uri": "https://localhost:8080/",
          "height": 53
        },
        "outputId": "cd3b2624-a36a-4b24-8482-e5482db6e77e"
      },
      "source": [
        "## The data, shuffled and split between train and test sets\n",
        "(X_train, _), (X_test, _) = mnist.load_data()\n",
        "\n",
        "X_train = X_train.reshape(X_train.shape[0], img_rows, img_cols, 1)\n",
        "X_test = X_test.reshape(X_test.shape[0], img_rows, img_cols, 1)\n",
        "\n",
        "X_train = X_train.astype('float32') / 255.\n",
        "X_test = X_test.astype('float32') / 255."
      ],
      "execution_count": 4,
      "outputs": [
        {
          "output_type": "stream",
          "text": [
            "Downloading data from https://s3.amazonaws.com/img-datasets/mnist.npz\n",
            "11493376/11490434 [==============================] - 2s 0us/step\n"
          ],
          "name": "stdout"
        }
      ]
    },
    {
      "cell_type": "code",
      "metadata": {
        "id": "CwsLznZGQKAz",
        "colab_type": "code",
        "colab": {}
      },
      "source": [
        "noise_factor = 0.5\n",
        "\n",
        "X_train_noisy = X_train + noise_factor * np.random.normal(loc = 0.0, scale = 1.0, \n",
        "                                                          size = X_train.shape)\n",
        "X_test_noisy = X_test + noise_factor * np.random.normal(loc = 0.0, scale = 1.0, \n",
        "                                                        size = X_test.shape)\n",
        "\n",
        "X_train_noisy = np.clip(X_train_noisy, 0., 1.)\n",
        "X_test_noisy = np.clip(X_test_noisy, 0., 1.)"
      ],
      "execution_count": 0,
      "outputs": []
    },
    {
      "cell_type": "code",
      "metadata": {
        "id": "C-oabIC_Qu1P",
        "colab_type": "code",
        "colab": {
          "base_uri": "https://localhost:8080/",
          "height": 53
        },
        "outputId": "47f127cc-b5c3-43a2-d1aa-fff0e7e8ab8a"
      },
      "source": [
        "print(X_train.shape[0], ' training samples')\n",
        "print(X_test.shape[0], ' test samples')"
      ],
      "execution_count": 6,
      "outputs": [
        {
          "output_type": "stream",
          "text": [
            "60000  training samples\n",
            "10000  test samples\n"
          ],
          "name": "stdout"
        }
      ]
    },
    {
      "cell_type": "code",
      "metadata": {
        "id": "IHTBT6Q4Q2AR",
        "colab_type": "code",
        "colab": {}
      },
      "source": [
        "def DAE_CNN(features_shape, act = 'relu'):\n",
        "  \n",
        "  #Input\n",
        "  x = Input(name = 'inputs', shape = features_shape, dtype = 'float32')\n",
        "  o = x\n",
        "  \n",
        "  \n",
        "  #Encoder\n",
        "  o = Conv2D(32, (3, 3), activation = act, padding = 'same',\n",
        "             strides = (1, 1), name = 'en_conv1')(o)\n",
        "  o = MaxPooling2D((2, 2), strides = (2, 2), padding = 'same',\n",
        "                   name = 'en_pool1')(o)\n",
        "  o = Conv2D(32, (3, 3), activation = act, padding = 'same',\n",
        "             strides = (1, 1), name = 'en_conv2')(o)\n",
        "  enc = MaxPooling2D((2, 2), strides = (2, 2), padding = 'same',\n",
        "                     name = 'en_pool2')(o)\n",
        "  \n",
        "  \n",
        "  #Decoder\n",
        "  o = Conv2D(32, (3, 3), activation = act, padding = 'same',\n",
        "             strides = (1, 1), name = 'de_conv1')(enc)\n",
        "  o = UpSampling2D((2, 2), name = 'upsampling1')(o)\n",
        "  o = Conv2D(32, (3, 3), activation = act, padding = 'same',\n",
        "             strides = (1, 1), name = 'de_conv2')(o)\n",
        "  o = UpSampling2D((2, 2), name = 'upsampling2')(o)\n",
        "  dec = Conv2D(1, (3, 3), activation = 'sigmoid', padding = 'same',\n",
        "               strides = (1, 1), name = 'de_conv3')(o)\n",
        "  \n",
        "  \n",
        "  #Print network summary\n",
        "  Model(inputs = x, outputs = dec).summary()\n",
        "  \n",
        "  return Model(inputs = x, outputs = dec)"
      ],
      "execution_count": 0,
      "outputs": []
    },
    {
      "cell_type": "code",
      "metadata": {
        "id": "ydbE0GGaTifn",
        "colab_type": "code",
        "colab": {
          "base_uri": "https://localhost:8080/",
          "height": 1000
        },
        "outputId": "39805431-1a26-4f70-9327-cf3ac2cf0b08"
      },
      "source": [
        "batch_size = 128\n",
        "epochs = 40\n",
        "\n",
        "autoencoder = DAE_CNN(input_shape, act = LeakyReLU(alpha = 0.1))\n",
        "autoencoder.compile(optimizer = 'adadelta', \n",
        "                    loss = 'binary_crossentropy')\n",
        "\n",
        "autoencoder.fit(X_train_noisy, X_train,\n",
        "                epochs = epochs,\n",
        "                batch_size = batch_size,\n",
        "                shuffle = True,\n",
        "                validation_data = (X_test_noisy, X_test))\n",
        "\n",
        "decoded_imgs = autoencoder.predict(X_test_noisy)"
      ],
      "execution_count": 8,
      "outputs": [
        {
          "output_type": "stream",
          "text": [
            "WARNING: Logging before flag parsing goes to stderr.\n",
            "W0902 19:14:11.957674 139940059129728 deprecation_wrapper.py:119] From /usr/local/lib/python3.6/dist-packages/keras/backend/tensorflow_backend.py:66: The name tf.get_default_graph is deprecated. Please use tf.compat.v1.get_default_graph instead.\n",
            "\n",
            "W0902 19:14:11.998645 139940059129728 deprecation_wrapper.py:119] From /usr/local/lib/python3.6/dist-packages/keras/backend/tensorflow_backend.py:541: The name tf.placeholder is deprecated. Please use tf.compat.v1.placeholder instead.\n",
            "\n",
            "/usr/local/lib/python3.6/dist-packages/keras/activations.py:235: UserWarning: Do not pass a layer instance (such as LeakyReLU) as the activation argument of another layer. Instead, advanced activation layers should be used just like any other layer in a model.\n",
            "  identifier=identifier.__class__.__name__))\n",
            "W0902 19:14:12.005703 139940059129728 deprecation_wrapper.py:119] From /usr/local/lib/python3.6/dist-packages/keras/backend/tensorflow_backend.py:4432: The name tf.random_uniform is deprecated. Please use tf.random.uniform instead.\n",
            "\n",
            "W0902 19:14:12.032094 139940059129728 deprecation_wrapper.py:119] From /usr/local/lib/python3.6/dist-packages/keras/backend/tensorflow_backend.py:4267: The name tf.nn.max_pool is deprecated. Please use tf.nn.max_pool2d instead.\n",
            "\n",
            "W0902 19:14:12.060331 139940059129728 deprecation_wrapper.py:119] From /usr/local/lib/python3.6/dist-packages/keras/backend/tensorflow_backend.py:2239: The name tf.image.resize_nearest_neighbor is deprecated. Please use tf.compat.v1.image.resize_nearest_neighbor instead.\n",
            "\n",
            "W0902 19:14:12.091259 139940059129728 deprecation_wrapper.py:119] From /usr/local/lib/python3.6/dist-packages/keras/optimizers.py:793: The name tf.train.Optimizer is deprecated. Please use tf.compat.v1.train.Optimizer instead.\n",
            "\n",
            "W0902 19:14:12.105010 139940059129728 deprecation_wrapper.py:119] From /usr/local/lib/python3.6/dist-packages/keras/backend/tensorflow_backend.py:3657: The name tf.log is deprecated. Please use tf.math.log instead.\n",
            "\n",
            "W0902 19:14:12.110268 139940059129728 deprecation.py:323] From /usr/local/lib/python3.6/dist-packages/tensorflow/python/ops/nn_impl.py:180: add_dispatch_support.<locals>.wrapper (from tensorflow.python.ops.array_ops) is deprecated and will be removed in a future version.\n",
            "Instructions for updating:\n",
            "Use tf.where in 2.0, which has the same broadcast rule as np.where\n"
          ],
          "name": "stderr"
        },
        {
          "output_type": "stream",
          "text": [
            "Model: \"model_1\"\n",
            "_________________________________________________________________\n",
            "Layer (type)                 Output Shape              Param #   \n",
            "=================================================================\n",
            "inputs (InputLayer)          (None, 28, 28, 1)         0         \n",
            "_________________________________________________________________\n",
            "en_conv1 (Conv2D)            (None, 28, 28, 32)        320       \n",
            "_________________________________________________________________\n",
            "en_pool1 (MaxPooling2D)      (None, 14, 14, 32)        0         \n",
            "_________________________________________________________________\n",
            "en_conv2 (Conv2D)            (None, 14, 14, 32)        9248      \n",
            "_________________________________________________________________\n",
            "en_pool2 (MaxPooling2D)      (None, 7, 7, 32)          0         \n",
            "_________________________________________________________________\n",
            "de_conv1 (Conv2D)            (None, 7, 7, 32)          9248      \n",
            "_________________________________________________________________\n",
            "upsampling1 (UpSampling2D)   (None, 14, 14, 32)        0         \n",
            "_________________________________________________________________\n",
            "de_conv2 (Conv2D)            (None, 14, 14, 32)        9248      \n",
            "_________________________________________________________________\n",
            "upsampling2 (UpSampling2D)   (None, 28, 28, 32)        0         \n",
            "_________________________________________________________________\n",
            "de_conv3 (Conv2D)            (None, 28, 28, 1)         289       \n",
            "=================================================================\n",
            "Total params: 28,353\n",
            "Trainable params: 28,353\n",
            "Non-trainable params: 0\n",
            "_________________________________________________________________\n"
          ],
          "name": "stdout"
        },
        {
          "output_type": "stream",
          "text": [
            "W0902 19:14:12.452394 139940059129728 deprecation_wrapper.py:119] From /usr/local/lib/python3.6/dist-packages/keras/backend/tensorflow_backend.py:1033: The name tf.assign_add is deprecated. Please use tf.compat.v1.assign_add instead.\n",
            "\n"
          ],
          "name": "stderr"
        },
        {
          "output_type": "stream",
          "text": [
            "Train on 60000 samples, validate on 10000 samples\n",
            "Epoch 1/40\n",
            "60000/60000 [==============================] - 10s 173us/step - loss: 0.1725 - val_loss: 0.1222\n",
            "Epoch 2/40\n",
            "60000/60000 [==============================] - 4s 64us/step - loss: 0.1175 - val_loss: 0.1102\n",
            "Epoch 3/40\n",
            "60000/60000 [==============================] - 4s 64us/step - loss: 0.1101 - val_loss: 0.1064\n",
            "Epoch 4/40\n",
            "60000/60000 [==============================] - 4s 65us/step - loss: 0.1065 - val_loss: 0.1054\n",
            "Epoch 5/40\n",
            "60000/60000 [==============================] - 4s 64us/step - loss: 0.1044 - val_loss: 0.1040\n",
            "Epoch 6/40\n",
            "60000/60000 [==============================] - 4s 64us/step - loss: 0.1031 - val_loss: 0.1037\n",
            "Epoch 7/40\n",
            "60000/60000 [==============================] - 4s 65us/step - loss: 0.1021 - val_loss: 0.0999\n",
            "Epoch 8/40\n",
            "60000/60000 [==============================] - 4s 65us/step - loss: 0.1014 - val_loss: 0.1004\n",
            "Epoch 9/40\n",
            "60000/60000 [==============================] - 4s 65us/step - loss: 0.1008 - val_loss: 0.1000\n",
            "Epoch 10/40\n",
            "60000/60000 [==============================] - 4s 65us/step - loss: 0.1004 - val_loss: 0.0990\n",
            "Epoch 11/40\n",
            "60000/60000 [==============================] - 4s 65us/step - loss: 0.0998 - val_loss: 0.0999\n",
            "Epoch 12/40\n",
            "60000/60000 [==============================] - 4s 65us/step - loss: 0.0996 - val_loss: 0.0992\n",
            "Epoch 13/40\n",
            "60000/60000 [==============================] - 4s 66us/step - loss: 0.0993 - val_loss: 0.0987\n",
            "Epoch 14/40\n",
            "60000/60000 [==============================] - 4s 66us/step - loss: 0.0990 - val_loss: 0.0978\n",
            "Epoch 15/40\n",
            "60000/60000 [==============================] - 4s 66us/step - loss: 0.0988 - val_loss: 0.0980\n",
            "Epoch 16/40\n",
            "60000/60000 [==============================] - 4s 66us/step - loss: 0.0986 - val_loss: 0.0977\n",
            "Epoch 17/40\n",
            "60000/60000 [==============================] - 4s 64us/step - loss: 0.0983 - val_loss: 0.0972\n",
            "Epoch 18/40\n",
            "60000/60000 [==============================] - 4s 64us/step - loss: 0.0981 - val_loss: 0.0970\n",
            "Epoch 19/40\n",
            "60000/60000 [==============================] - 4s 65us/step - loss: 0.0978 - val_loss: 0.0973\n",
            "Epoch 20/40\n",
            "60000/60000 [==============================] - 4s 65us/step - loss: 0.0978 - val_loss: 0.0969\n",
            "Epoch 21/40\n",
            "60000/60000 [==============================] - 4s 64us/step - loss: 0.0976 - val_loss: 0.0976\n",
            "Epoch 22/40\n",
            "60000/60000 [==============================] - 4s 65us/step - loss: 0.0974 - val_loss: 0.0968\n",
            "Epoch 23/40\n",
            "60000/60000 [==============================] - 4s 65us/step - loss: 0.0973 - val_loss: 0.0969\n",
            "Epoch 24/40\n",
            "60000/60000 [==============================] - 4s 64us/step - loss: 0.0971 - val_loss: 0.0968\n",
            "Epoch 25/40\n",
            "60000/60000 [==============================] - 4s 65us/step - loss: 0.0971 - val_loss: 0.0984\n",
            "Epoch 26/40\n",
            "60000/60000 [==============================] - 4s 65us/step - loss: 0.0969 - val_loss: 0.0965\n",
            "Epoch 27/40\n",
            "60000/60000 [==============================] - 4s 65us/step - loss: 0.0969 - val_loss: 0.0959\n",
            "Epoch 28/40\n",
            "60000/60000 [==============================] - 4s 65us/step - loss: 0.0967 - val_loss: 0.0963\n",
            "Epoch 29/40\n",
            "60000/60000 [==============================] - 4s 65us/step - loss: 0.0965 - val_loss: 0.0958\n",
            "Epoch 30/40\n",
            "60000/60000 [==============================] - 4s 65us/step - loss: 0.0965 - val_loss: 0.0956\n",
            "Epoch 31/40\n",
            "60000/60000 [==============================] - 4s 65us/step - loss: 0.0964 - val_loss: 0.0965\n",
            "Epoch 32/40\n",
            "60000/60000 [==============================] - 4s 65us/step - loss: 0.0963 - val_loss: 0.0960\n",
            "Epoch 33/40\n",
            "60000/60000 [==============================] - 4s 65us/step - loss: 0.0962 - val_loss: 0.0956\n",
            "Epoch 34/40\n",
            "60000/60000 [==============================] - 4s 66us/step - loss: 0.0962 - val_loss: 0.0966\n",
            "Epoch 35/40\n",
            "60000/60000 [==============================] - 4s 66us/step - loss: 0.0961 - val_loss: 0.0956\n",
            "Epoch 36/40\n",
            "60000/60000 [==============================] - 4s 65us/step - loss: 0.0959 - val_loss: 0.0956\n",
            "Epoch 37/40\n",
            "60000/60000 [==============================] - 4s 66us/step - loss: 0.0959 - val_loss: 0.0951\n",
            "Epoch 38/40\n",
            "60000/60000 [==============================] - 4s 65us/step - loss: 0.0958 - val_loss: 0.0958\n",
            "Epoch 39/40\n",
            "60000/60000 [==============================] - 4s 65us/step - loss: 0.0958 - val_loss: 0.0951\n",
            "Epoch 40/40\n",
            "60000/60000 [==============================] - 4s 66us/step - loss: 0.0957 - val_loss: 0.0960\n"
          ],
          "name": "stdout"
        }
      ]
    },
    {
      "cell_type": "code",
      "metadata": {
        "id": "42ddKni_VRH3",
        "colab_type": "code",
        "colab": {
          "base_uri": "https://localhost:8080/",
          "height": 264
        },
        "outputId": "ec4af252-c813-4624-f262-1e3e8994ad14"
      },
      "source": [
        "n = 10\n",
        "\n",
        "plt.figure(figsize = (20, 4))\n",
        "\n",
        "for i in range(1, n + 1):\n",
        "  ##Displaying original images\n",
        "  ax = plt.subplot(2, n, i)\n",
        "  plt.imshow(X_test_noisy[i].reshape(28, 28))\n",
        "  plt.gray()\n",
        "  ax.get_xaxis().set_visible(False)\n",
        "  ax.get_yaxis().set_visible(False)\n",
        "  \n",
        "  ##Displaying reconstructed images\n",
        "  ax = plt.subplot(2, n, i + n)\n",
        "  plt.imshow(decoded_imgs[i].reshape(28, 28))\n",
        "  plt.gray()\n",
        "  ax.get_xaxis().set_visible(False)\n",
        "  ax.get_yaxis().set_visible(False)\n",
        "\n",
        "plt.show()"
      ],
      "execution_count": 9,
      "outputs": [
        {
          "output_type": "display_data",
          "data": {
            "image/png": "[encoded data removed]",
            "text/plain": [
              "<Figure size 1440x288 with 20 Axes>"
            ]
          },
          "metadata": {
            "tags": []
          }
        }
      ]
    }
  ]
}