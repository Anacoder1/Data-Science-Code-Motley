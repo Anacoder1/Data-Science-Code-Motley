{
  "nbformat": 4,
  "nbformat_minor": 0,
  "metadata": {
    "colab": {
      "name": "DAE_RepLearning.ipynb",
      "version": "0.3.2",
      "provenance": [],
      "collapsed_sections": []
    },
    "kernelspec": {
      "name": "python3",
      "display_name": "Python 3"
    },
    "accelerator": "GPU"
  },
  "cells": [
    {
      "cell_type": "code",
      "metadata": {
        "id": "QlqiIPj829c8",
        "colab_type": "code",
        "colab": {
          "base_uri": "https://localhost:8080/",
          "height": 35
        },
        "outputId": "ffd60de4-f959-42db-caaa-2a125121c30e"
      },
      "source": [
        "import numpy as np\n",
        "import matplotlib.pyplot as plt\n",
        "\n",
        "from keras.models import Model\n",
        "from keras.layers import Input, Dense, Concatenate\n",
        "from keras.callbacks import ModelCheckpoint\n",
        "from keras.utils import np_utils\n",
        "\n",
        "##Load data\n",
        "from keras.datasets import mnist"
      ],
      "execution_count": 1,
      "outputs": [
        {
          "output_type": "stream",
          "text": [
            "Using TensorFlow backend.\n"
          ],
          "name": "stderr"
        }
      ]
    },
    {
      "cell_type": "code",
      "metadata": {
        "id": "ftTEIk283S5a",
        "colab_type": "code",
        "colab": {}
      },
      "source": [
        "##Input image dimensions\n",
        "\n",
        "img_rows, img_cols = 28, 28\n",
        "input_shape = (img_rows * img_cols, )"
      ],
      "execution_count": 0,
      "outputs": []
    },
    {
      "cell_type": "code",
      "metadata": {
        "id": "AYHkdpps3kTW",
        "colab_type": "code",
        "colab": {
          "base_uri": "https://localhost:8080/",
          "height": 53
        },
        "outputId": "cc654d6e-0479-4513-c9ae-1295138c7296"
      },
      "source": [
        "## The data, split into training and test sets, and resized\n",
        "\n",
        "(X_train, y_train), (X_test, y_test) = mnist.load_data()\n",
        "\n",
        "X_train = X_train.reshape(X_train.shape[0], np.prod(X_train.shape[1:]))\n",
        "X_test = X_test.reshape(X_test.shape[0], np.prod(X_test.shape[1:]))\n",
        "\n",
        "X_train = X_train.astype('float32') / 255.\n",
        "X_test = X_test.astype('float32') / 255."
      ],
      "execution_count": 3,
      "outputs": [
        {
          "output_type": "stream",
          "text": [
            "Downloading data from https://s3.amazonaws.com/img-datasets/mnist.npz\n",
            "11493376/11490434 [==============================] - 1s 0us/step\n"
          ],
          "name": "stdout"
        }
      ]
    },
    {
      "cell_type": "code",
      "metadata": {
        "id": "PrFAADaJ4gUz",
        "colab_type": "code",
        "colab": {
          "base_uri": "https://localhost:8080/",
          "height": 35
        },
        "outputId": "7f14c7f1-09c8-4118-9b5c-34a0ff9205b4"
      },
      "source": [
        "noise_factor = 0.5\n",
        "\n",
        "X_train_noisy = X_train + noise_factor * np.random.normal(loc = 0.0, scale = 1.0,\n",
        "                                                          size = X_train.shape)\n",
        "X_test_noisy = X_test + noise_factor * np.random.normal(loc = 0.0, scale = 1.0,\n",
        "                                                        size = X_test.shape)\n",
        "\n",
        "X_train_noisy = np.clip(X_train_noisy, 0., 1.)\n",
        "X_test_noisy = np.clip(X_test_noisy, 0., 1.)\n",
        "\n",
        "\n",
        "X_feat_train = np.concatenate((X_train, X_test), axis = 0)\n",
        "X_feat_train_noisy = np.concatenate((X_train_noisy, X_test_noisy), axis =0)\n",
        "\n",
        "\n",
        "print(X_feat_train_noisy.shape[0], ' DAE train samples')"
      ],
      "execution_count": 4,
      "outputs": [
        {
          "output_type": "stream",
          "text": [
            "70000  DAE train samples\n"
          ],
          "name": "stdout"
        }
      ]
    },
    {
      "cell_type": "code",
      "metadata": {
        "id": "lfM2Gbkb5hT3",
        "colab_type": "code",
        "colab": {}
      },
      "source": [
        "def DEEP_DAE(features_shape, act = 'relu'):\n",
        "  \n",
        "  ##Input\n",
        "  x = Input(name = 'inputs', shape = features_shape, \n",
        "            dtype = 'float32')\n",
        "  o = x\n",
        "  \n",
        "  \n",
        "  ##Encoder / Decoder\n",
        "  o = Dense(1024, activation = act, name = 'dense1')(o)\n",
        "  o = Dense(1024, activation = act, name = 'dense2')(o)\n",
        "  o = Dense(1024, activation = act, name = 'dense3')(o)\n",
        "  dec = Dense(784, activation = 'sigmoid', name = 'dense_dec')(o)\n",
        "  \n",
        "  \n",
        "  ## Print network summary\n",
        "  Model(inputs = x, outputs = dec).summary()\n",
        "  \n",
        "  return Model(inputs = x, outputs = dec)"
      ],
      "execution_count": 0,
      "outputs": []
    },
    {
      "cell_type": "code",
      "metadata": {
        "id": "-A8PqwCT6nEu",
        "colab_type": "code",
        "colab": {
          "base_uri": "https://localhost:8080/",
          "height": 1000
        },
        "outputId": "465e01aa-b311-4c92-bd55-f859ae2561d4"
      },
      "source": [
        "batch_size = 128\n",
        "epochs = 40\n",
        "\n",
        "autoencoder = DEEP_DAE(input_shape)\n",
        "autoencoder.compile(optimizer = 'adadelta',\n",
        "                    loss = 'binary_crossentropy')\n",
        "\n",
        "autoencoder.fit(X_feat_train_noisy, X_feat_train,\n",
        "                epochs = epochs,\n",
        "                batch_size = batch_size,\n",
        "                shuffle = True)\n",
        "\n",
        "decoded_imgs = autoencoder.predict(X_feat_train_noisy)"
      ],
      "execution_count": 6,
      "outputs": [
        {
          "output_type": "stream",
          "text": [
            "WARNING: Logging before flag parsing goes to stderr.\n",
            "W0903 15:57:13.913218 140529824221056 deprecation_wrapper.py:119] From /usr/local/lib/python3.6/dist-packages/keras/backend/tensorflow_backend.py:541: The name tf.placeholder is deprecated. Please use tf.compat.v1.placeholder instead.\n",
            "\n",
            "W0903 15:57:13.966767 140529824221056 deprecation_wrapper.py:119] From /usr/local/lib/python3.6/dist-packages/keras/backend/tensorflow_backend.py:4432: The name tf.random_uniform is deprecated. Please use tf.random.uniform instead.\n",
            "\n",
            "W0903 15:57:14.031396 140529824221056 deprecation_wrapper.py:119] From /usr/local/lib/python3.6/dist-packages/keras/backend/tensorflow_backend.py:66: The name tf.get_default_graph is deprecated. Please use tf.compat.v1.get_default_graph instead.\n",
            "\n",
            "W0903 15:57:14.039062 140529824221056 deprecation_wrapper.py:119] From /usr/local/lib/python3.6/dist-packages/keras/optimizers.py:793: The name tf.train.Optimizer is deprecated. Please use tf.compat.v1.train.Optimizer instead.\n",
            "\n",
            "W0903 15:57:14.060262 140529824221056 deprecation_wrapper.py:119] From /usr/local/lib/python3.6/dist-packages/keras/backend/tensorflow_backend.py:3657: The name tf.log is deprecated. Please use tf.math.log instead.\n",
            "\n",
            "W0903 15:57:14.071039 140529824221056 deprecation.py:323] From /usr/local/lib/python3.6/dist-packages/tensorflow/python/ops/nn_impl.py:180: add_dispatch_support.<locals>.wrapper (from tensorflow.python.ops.array_ops) is deprecated and will be removed in a future version.\n",
            "Instructions for updating:\n",
            "Use tf.where in 2.0, which has the same broadcast rule as np.where\n"
          ],
          "name": "stderr"
        },
        {
          "output_type": "stream",
          "text": [
            "Model: \"model_1\"\n",
            "_________________________________________________________________\n",
            "Layer (type)                 Output Shape              Param #   \n",
            "=================================================================\n",
            "inputs (InputLayer)          (None, 784)               0         \n",
            "_________________________________________________________________\n",
            "dense1 (Dense)               (None, 1024)              803840    \n",
            "_________________________________________________________________\n",
            "dense2 (Dense)               (None, 1024)              1049600   \n",
            "_________________________________________________________________\n",
            "dense3 (Dense)               (None, 1024)              1049600   \n",
            "_________________________________________________________________\n",
            "dense_dec (Dense)            (None, 784)               803600    \n",
            "=================================================================\n",
            "Total params: 3,706,640\n",
            "Trainable params: 3,706,640\n",
            "Non-trainable params: 0\n",
            "_________________________________________________________________\n"
          ],
          "name": "stdout"
        },
        {
          "output_type": "stream",
          "text": [
            "W0903 15:57:14.516355 140529824221056 deprecation_wrapper.py:119] From /usr/local/lib/python3.6/dist-packages/keras/backend/tensorflow_backend.py:1033: The name tf.assign_add is deprecated. Please use tf.compat.v1.assign_add instead.\n",
            "\n"
          ],
          "name": "stderr"
        },
        {
          "output_type": "stream",
          "text": [
            "Epoch 1/40\n",
            "70000/70000 [==============================] - 12s 173us/step - loss: 0.2512\n",
            "Epoch 2/40\n",
            "70000/70000 [==============================] - 7s 104us/step - loss: 0.1813\n",
            "Epoch 3/40\n",
            "70000/70000 [==============================] - 7s 103us/step - loss: 0.1560\n",
            "Epoch 4/40\n",
            "70000/70000 [==============================] - 7s 102us/step - loss: 0.1428\n",
            "Epoch 5/40\n",
            "70000/70000 [==============================] - 7s 102us/step - loss: 0.1346\n",
            "Epoch 6/40\n",
            "70000/70000 [==============================] - 7s 102us/step - loss: 0.1291\n",
            "Epoch 7/40\n",
            "70000/70000 [==============================] - 7s 102us/step - loss: 0.1252\n",
            "Epoch 8/40\n",
            "70000/70000 [==============================] - 7s 102us/step - loss: 0.1222\n",
            "Epoch 9/40\n",
            "70000/70000 [==============================] - 7s 103us/step - loss: 0.1197\n",
            "Epoch 10/40\n",
            "70000/70000 [==============================] - 7s 103us/step - loss: 0.1179\n",
            "Epoch 11/40\n",
            "70000/70000 [==============================] - 7s 103us/step - loss: 0.1162\n",
            "Epoch 12/40\n",
            "70000/70000 [==============================] - 7s 103us/step - loss: 0.1149\n",
            "Epoch 13/40\n",
            "70000/70000 [==============================] - 7s 103us/step - loss: 0.1137\n",
            "Epoch 14/40\n",
            "70000/70000 [==============================] - 7s 103us/step - loss: 0.1127\n",
            "Epoch 15/40\n",
            "70000/70000 [==============================] - 7s 103us/step - loss: 0.1116\n",
            "Epoch 16/40\n",
            "70000/70000 [==============================] - 7s 103us/step - loss: 0.1109\n",
            "Epoch 17/40\n",
            "70000/70000 [==============================] - 7s 103us/step - loss: 0.1101\n",
            "Epoch 18/40\n",
            "70000/70000 [==============================] - 7s 103us/step - loss: 0.1095\n",
            "Epoch 19/40\n",
            "70000/70000 [==============================] - 7s 102us/step - loss: 0.1087\n",
            "Epoch 20/40\n",
            "70000/70000 [==============================] - 7s 103us/step - loss: 0.1083\n",
            "Epoch 21/40\n",
            "70000/70000 [==============================] - 7s 102us/step - loss: 0.1076\n",
            "Epoch 22/40\n",
            "70000/70000 [==============================] - 7s 103us/step - loss: 0.1073\n",
            "Epoch 23/40\n",
            "70000/70000 [==============================] - 7s 102us/step - loss: 0.1066\n",
            "Epoch 24/40\n",
            "70000/70000 [==============================] - 7s 103us/step - loss: 0.1062\n",
            "Epoch 25/40\n",
            "70000/70000 [==============================] - 7s 102us/step - loss: 0.1057\n",
            "Epoch 26/40\n",
            "70000/70000 [==============================] - 7s 103us/step - loss: 0.1054\n",
            "Epoch 27/40\n",
            "70000/70000 [==============================] - 7s 102us/step - loss: 0.1050\n",
            "Epoch 28/40\n",
            "70000/70000 [==============================] - 7s 103us/step - loss: 0.1046\n",
            "Epoch 29/40\n",
            "70000/70000 [==============================] - 7s 102us/step - loss: 0.1042\n",
            "Epoch 30/40\n",
            "70000/70000 [==============================] - 7s 103us/step - loss: 0.1039\n",
            "Epoch 31/40\n",
            "70000/70000 [==============================] - 7s 101us/step - loss: 0.1036\n",
            "Epoch 32/40\n",
            "70000/70000 [==============================] - 7s 102us/step - loss: 0.1033\n",
            "Epoch 33/40\n",
            "70000/70000 [==============================] - 7s 102us/step - loss: 0.1029\n",
            "Epoch 34/40\n",
            "70000/70000 [==============================] - 7s 102us/step - loss: 0.1027\n",
            "Epoch 35/40\n",
            "70000/70000 [==============================] - 7s 102us/step - loss: 0.1024\n",
            "Epoch 36/40\n",
            "70000/70000 [==============================] - 7s 102us/step - loss: 0.1021\n",
            "Epoch 37/40\n",
            "70000/70000 [==============================] - 7s 102us/step - loss: 0.1019\n",
            "Epoch 38/40\n",
            "70000/70000 [==============================] - 7s 102us/step - loss: 0.1016\n",
            "Epoch 39/40\n",
            "70000/70000 [==============================] - 7s 102us/step - loss: 0.1014\n",
            "Epoch 40/40\n",
            "70000/70000 [==============================] - 7s 103us/step - loss: 0.1011\n"
          ],
          "name": "stdout"
        }
      ]
    },
    {
      "cell_type": "code",
      "metadata": {
        "id": "Uoj9B8fo7uCW",
        "colab_type": "code",
        "colab": {
          "base_uri": "https://localhost:8080/",
          "height": 244
        },
        "outputId": "90cd1073-7d23-4d65-932a-1d7d3e781ed9"
      },
      "source": [
        "n = 10\n",
        "plt.figure(figsize = (20, 4))\n",
        "\n",
        "for i in range(1, n+1):\n",
        "  ##Displaying original images\n",
        "  ax = plt.subplot(2, n, i)\n",
        "  plt.imshow(X_feat_train_noisy[i].reshape(28, 28))\n",
        "  plt.gray()\n",
        "  ax.get_xaxis().set_visible(False)\n",
        "  ax.get_yaxis().set_visible(False)\n",
        "  \n",
        "  ##Displaying reconstructed images\n",
        "  ax = plt.subplot(2, n, i + n)\n",
        "  plt.imshow(decoded_imgs[i].reshape(28, 28))\n",
        "  plt.gray()\n",
        "  ax.get_xaxis().set_visible(False)\n",
        "  ax.get_yaxis().set_visible(False)\n",
        "plt.show()"
      ],
      "execution_count": 7,
      "outputs": [
        {
          "output_type": "display_data",
          "data": {
            "image/png": "[encoded data removed]",
            "text/plain": [
              "<Figure size 1440x288 with 20 Axes>"
            ]
          },
          "metadata": {
            "tags": []
          }
        }
      ]
    },
    {
      "cell_type": "code",
      "metadata": {
        "id": "NvcxVilc3iX8",
        "colab_type": "code",
        "colab": {}
      },
      "source": [
        "def FEATURES(model):\n",
        "  \n",
        "  input_ = model.get_layer('inputs').input\n",
        "  feat1 = model.get_layer('dense1').output\n",
        "  feat2 = model.get_layer('dense2').output\n",
        "  feat3 = model.get_layer('dense3').output\n",
        "  feat = Concatenate(name = 'concat')([feat1, feat2, feat3])\n",
        "  \n",
        "  model = Model(inputs = [input_], \n",
        "                outputs = [feat])\n",
        "  return model"
      ],
      "execution_count": 0,
      "outputs": []
    },
    {
      "cell_type": "code",
      "metadata": {
        "id": "11E6JA9c4awR",
        "colab_type": "code",
        "colab": {
          "base_uri": "https://localhost:8080/",
          "height": 53
        },
        "outputId": "7cdfba2a-4d14-44c5-d57b-3727c0ae2478"
      },
      "source": [
        "_model = FEATURES(autoencoder)\n",
        "\n",
        "features_train = _model.predict(X_train)\n",
        "features_test = _model.predict(X_test)\n",
        "\n",
        "print(features_train.shape, ' training samples shape')\n",
        "print(features_test.shape, ' test samples shape')"
      ],
      "execution_count": 9,
      "outputs": [
        {
          "output_type": "stream",
          "text": [
            "(60000, 3072)  training samples shape\n",
            "(10000, 3072)  test samples shape\n"
          ],
          "name": "stdout"
        }
      ]
    },
    {
      "cell_type": "code",
      "metadata": {
        "id": "pITAnC0L4sor",
        "colab_type": "code",
        "colab": {}
      },
      "source": [
        "def DNN(features_shape, num_classes, act = 'relu'):\n",
        "  \n",
        "  ##Input\n",
        "  x = Input(name = 'inputs', shape = features_shape, dtype = 'float32')\n",
        "  o = x\n",
        "  \n",
        "  \n",
        "  ##Encoder / Decoder\n",
        "  o = Dense(1024, activation = act, name = 'dense1')(o)\n",
        "  o = Dense(1024, activation = act, name = 'dense2')(o)\n",
        "  o = Dense(1024, activation = act, name = 'dense3')(o)\n",
        "  y_pred = Dense(num_classes, activation = 'sigmoid', name = 'pred')(o)\n",
        "  \n",
        "  \n",
        "  ##Print network summary\n",
        "  Model(inputs = x, outputs = y_pred).summary()\n",
        "  \n",
        "  return Model(inputs = x, outputs = y_pred)"
      ],
      "execution_count": 0,
      "outputs": []
    },
    {
      "cell_type": "code",
      "metadata": {
        "id": "uiD-aphd5aCX",
        "colab_type": "code",
        "colab": {}
      },
      "source": [
        "input_shape2 = (features_train.shape[1], )\n",
        "num_classes = 10\n",
        "\n",
        "y_train_one = np_utils.to_categorical(y_train, num_classes)\n",
        "y_test_one = np_utils.to_categorical(y_test, num_classes)"
      ],
      "execution_count": 0,
      "outputs": []
    },
    {
      "cell_type": "code",
      "metadata": {
        "id": "0eSUaCLC54lL",
        "colab_type": "code",
        "colab": {}
      },
      "source": [
        "batch_size = 128\n",
        "epochs = 20\n",
        "model_fname = 'dnn'\n",
        "\n",
        "callbacks = [ModelCheckpoint(monitor = 'val_acc', \n",
        "                             filepath = model_fname + '.hdf5',\n",
        "                             save_best_only = True,\n",
        "                             save_weights_only = True,\n",
        "                             mode = 'min')]"
      ],
      "execution_count": 0,
      "outputs": []
    },
    {
      "cell_type": "code",
      "metadata": {
        "id": "hJ1LUGpT6cNt",
        "colab_type": "code",
        "colab": {
          "base_uri": "https://localhost:8080/",
          "height": 1000
        },
        "outputId": "c1b0a163-cb0b-4811-d97e-c8b6f2eabb71"
      },
      "source": [
        "deep = DNN(input_shape2, num_classes)\n",
        "\n",
        "deep.compile(optimizer = 'adadelta',\n",
        "             loss = 'binary_crossentropy',\n",
        "             metrics = ['acc'])\n",
        "\n",
        "history = deep.fit(features_train, y_train_one,\n",
        "                   epochs = epochs,\n",
        "                   batch_size = batch_size,\n",
        "                   shuffle = True,\n",
        "                   validation_data = (features_test, y_test_one),\n",
        "                   callbacks = callbacks)"
      ],
      "execution_count": 13,
      "outputs": [
        {
          "output_type": "stream",
          "text": [
            "Model: \"model_4\"\n",
            "_________________________________________________________________\n",
            "Layer (type)                 Output Shape              Param #   \n",
            "=================================================================\n",
            "inputs (InputLayer)          (None, 3072)              0         \n",
            "_________________________________________________________________\n",
            "dense1 (Dense)               (None, 1024)              3146752   \n",
            "_________________________________________________________________\n",
            "dense2 (Dense)               (None, 1024)              1049600   \n",
            "_________________________________________________________________\n",
            "dense3 (Dense)               (None, 1024)              1049600   \n",
            "_________________________________________________________________\n",
            "pred (Dense)                 (None, 10)                10250     \n",
            "=================================================================\n",
            "Total params: 5,256,202\n",
            "Trainable params: 5,256,202\n",
            "Non-trainable params: 0\n",
            "_________________________________________________________________\n",
            "Train on 60000 samples, validate on 10000 samples\n",
            "Epoch 1/20\n",
            "60000/60000 [==============================] - 8s 141us/step - loss: 0.0630 - acc: 0.9777 - val_loss: 0.0289 - val_acc: 0.9896\n",
            "Epoch 2/20\n",
            "60000/60000 [==============================] - 8s 129us/step - loss: 0.0246 - acc: 0.9915 - val_loss: 0.0213 - val_acc: 0.9922\n",
            "Epoch 3/20\n",
            "60000/60000 [==============================] - 8s 125us/step - loss: 0.0184 - acc: 0.9937 - val_loss: 0.0186 - val_acc: 0.9937\n",
            "Epoch 4/20\n",
            "60000/60000 [==============================] - 7s 125us/step - loss: 0.0147 - acc: 0.9949 - val_loss: 0.0143 - val_acc: 0.9951\n",
            "Epoch 5/20\n",
            "60000/60000 [==============================] - 7s 124us/step - loss: 0.0122 - acc: 0.9958 - val_loss: 0.0164 - val_acc: 0.9945\n",
            "Epoch 6/20\n",
            "60000/60000 [==============================] - 7s 125us/step - loss: 0.0103 - acc: 0.9964 - val_loss: 0.0184 - val_acc: 0.9936\n",
            "Epoch 7/20\n",
            "60000/60000 [==============================] - 8s 125us/step - loss: 0.0089 - acc: 0.9970 - val_loss: 0.0129 - val_acc: 0.9957\n",
            "Epoch 8/20\n",
            "60000/60000 [==============================] - 8s 126us/step - loss: 0.0075 - acc: 0.9974 - val_loss: 0.0116 - val_acc: 0.9962\n",
            "Epoch 9/20\n",
            "60000/60000 [==============================] - 8s 126us/step - loss: 0.0067 - acc: 0.9977 - val_loss: 0.0177 - val_acc: 0.9941\n",
            "Epoch 10/20\n",
            "60000/60000 [==============================] - 8s 127us/step - loss: 0.0057 - acc: 0.9980 - val_loss: 0.0124 - val_acc: 0.9960\n",
            "Epoch 11/20\n",
            "60000/60000 [==============================] - 7s 124us/step - loss: 0.0049 - acc: 0.9983 - val_loss: 0.0121 - val_acc: 0.9962\n",
            "Epoch 12/20\n",
            "60000/60000 [==============================] - 7s 124us/step - loss: 0.0044 - acc: 0.9985 - val_loss: 0.0113 - val_acc: 0.9964\n",
            "Epoch 13/20\n",
            "60000/60000 [==============================] - 7s 116us/step - loss: 0.0036 - acc: 0.9988 - val_loss: 0.0118 - val_acc: 0.9965\n",
            "Epoch 14/20\n",
            "60000/60000 [==============================] - 8s 125us/step - loss: 0.0031 - acc: 0.9990 - val_loss: 0.0108 - val_acc: 0.9968\n",
            "Epoch 15/20\n",
            "60000/60000 [==============================] - 8s 128us/step - loss: 0.0032 - acc: 0.9990 - val_loss: 0.0114 - val_acc: 0.9966\n",
            "Epoch 16/20\n",
            "60000/60000 [==============================] - 8s 128us/step - loss: 0.0020 - acc: 0.9993 - val_loss: 0.0116 - val_acc: 0.9968\n",
            "Epoch 17/20\n",
            "60000/60000 [==============================] - 8s 127us/step - loss: 0.0018 - acc: 0.9995 - val_loss: 0.0121 - val_acc: 0.9964\n",
            "Epoch 18/20\n",
            "60000/60000 [==============================] - 8s 125us/step - loss: 0.0019 - acc: 0.9994 - val_loss: 0.0118 - val_acc: 0.9968\n",
            "Epoch 19/20\n",
            "60000/60000 [==============================] - 8s 128us/step - loss: 0.0014 - acc: 0.9996 - val_loss: 0.0127 - val_acc: 0.9965\n",
            "Epoch 20/20\n",
            "60000/60000 [==============================] - 8s 127us/step - loss: 0.0012 - acc: 0.9996 - val_loss: 0.0126 - val_acc: 0.9968\n"
          ],
          "name": "stdout"
        }
      ]
    },
    {
      "cell_type": "code",
      "metadata": {
        "id": "KoHfsnPi68Pa",
        "colab_type": "code",
        "colab": {}
      },
      "source": [
        "## The predicted_classes function outputs the highest \n",
        "## probability class according to the trained classifier\n",
        "## for each input example\n",
        "\n",
        "deep.load_weights(model_fname + '.hdf5')\n",
        "predictions = deep.predict(features_test)\n",
        "predicted_classes = np.argmax(predictions, axis = 1)"
      ],
      "execution_count": 0,
      "outputs": []
    },
    {
      "cell_type": "code",
      "metadata": {
        "id": "IdGl9P_q9HGq",
        "colab_type": "code",
        "colab": {}
      },
      "source": [
        "## Check which items we got right / wrong\n",
        "\n",
        "correct_indices = np.nonzero(predicted_classes == y_test)[0]\n",
        "incorrect_indices = np.nonzero(predicted_classes != y_test)[0]"
      ],
      "execution_count": 0,
      "outputs": []
    },
    {
      "cell_type": "code",
      "metadata": {
        "id": "YTd6QBVl-nKO",
        "colab_type": "code",
        "colab": {
          "base_uri": "https://localhost:8080/",
          "height": 281
        },
        "outputId": "e87cdb17-d0a5-4819-a58d-a7654abf7fcb"
      },
      "source": [
        "plt.figure()\n",
        "\n",
        "for i, correct in enumerate(correct_indices[:9]):\n",
        "  plt.subplot(3, 3, i + 1)\n",
        "  plt.imshow(X_test[correct].reshape(28, 28),\n",
        "             cmap = 'gray',\n",
        "             interpolation = 'none')\n",
        "  plt.title(\"Predicted {}, Class {}\".format(predicted_classes[correct],\n",
        "                                            y_test[correct]))"
      ],
      "execution_count": 16,
      "outputs": [
        {
          "output_type": "display_data",
          "data": {
            "image/png": "[encoded data removed]",
            "text/plain": [
              "<Figure size 432x288 with 9 Axes>"
            ]
          },
          "metadata": {
            "tags": []
          }
        }
      ]
    },
    {
      "cell_type": "code",
      "metadata": {
        "id": "znZaumzL_Z_8",
        "colab_type": "code",
        "colab": {
          "base_uri": "https://localhost:8080/",
          "height": 281
        },
        "outputId": "091bdeb8-2a48-4f0d-b9d7-4bec104ce940"
      },
      "source": [
        "plt.figure()\n",
        "\n",
        "for i, incorrect in enumerate(incorrect_indices[:9]):\n",
        "  plt.subplot(3, 3, i + 1)\n",
        "  plt.imshow(X_test[incorrect].reshape(28, 28),\n",
        "             cmap = 'gray',\n",
        "             interpolation = 'none')\n",
        "  plt.title(\"Predicted {}, Class {}\".format(predicted_classes[incorrect],\n",
        "                                            y_test[incorrect]))"
      ],
      "execution_count": 17,
      "outputs": [
        {
          "output_type": "display_data",
          "data": {
            "image/png": "[encoded data removed]",
            "text/plain": [
              "<Figure size 432x288 with 9 Axes>"
            ]
          },
          "metadata": {
            "tags": []
          }
        }
      ]
    }
  ]
}