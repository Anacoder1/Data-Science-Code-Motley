{
  "nbformat": 4,
  "nbformat_minor": 0,
  "metadata": {
    "colab": {
      "name": "Flair Tutorial 6-7A.ipynb",
      "provenance": [],
      "collapsed_sections": []
    },
    "kernelspec": {
      "name": "python3",
      "display_name": "Python 3"
    },
    "accelerator": "GPU"
  },
  "cells": [
    {
      "cell_type": "code",
      "metadata": {
        "id": "OSMBDWE6gJH4",
        "colab_type": "code",
        "colab": {
          "base_uri": "https://localhost:8080/",
          "height": 1000
        },
        "outputId": "ee04cff2-17ff-4959-e31f-2afc536ce114"
      },
      "source": [
        "!pip install flair"
      ],
      "execution_count": 1,
      "outputs": [
        {
          "output_type": "stream",
          "text": [
            "Requirement already satisfied: flair in /usr/local/lib/python3.6/dist-packages (0.4.4)\n",
            "Requirement already satisfied: gensim>=3.4.0 in /usr/local/lib/python3.6/dist-packages (from flair) (3.6.0)\n",
            "Requirement already satisfied: tabulate in /usr/local/lib/python3.6/dist-packages (from flair) (0.8.6)\n",
            "Requirement already satisfied: segtok>=1.5.7 in /usr/local/lib/python3.6/dist-packages (from flair) (1.5.7)\n",
            "Requirement already satisfied: langdetect in /usr/local/lib/python3.6/dist-packages (from flair) (1.0.7)\n",
            "Requirement already satisfied: ipython==7.6.1 in /usr/local/lib/python3.6/dist-packages (from flair) (7.6.1)\n",
            "Requirement already satisfied: transformers>=2.0.0 in /usr/local/lib/python3.6/dist-packages (from flair) (2.2.2)\n",
            "Requirement already satisfied: regex in /usr/local/lib/python3.6/dist-packages (from flair) (2019.12.9)\n",
            "Requirement already satisfied: tqdm>=4.26.0 in /usr/local/lib/python3.6/dist-packages (from flair) (4.28.1)\n",
            "Requirement already satisfied: torchvision in /usr/local/lib/python3.6/dist-packages (from flair) (0.4.2)\n",
            "Requirement already satisfied: bpemb>=0.2.9 in /usr/local/lib/python3.6/dist-packages (from flair) (0.3.0)\n",
            "Requirement already satisfied: torch>=1.1.0 in /usr/local/lib/python3.6/dist-packages (from flair) (1.3.1)\n",
            "Requirement already satisfied: mpld3==0.3 in /usr/local/lib/python3.6/dist-packages (from flair) (0.3)\n",
            "Requirement already satisfied: tiny-tokenizer[all] in /usr/local/lib/python3.6/dist-packages (from flair) (3.0.1)\n",
            "Requirement already satisfied: pytest>=3.6.4 in /usr/local/lib/python3.6/dist-packages (from flair) (3.6.4)\n",
            "Requirement already satisfied: pymongo in /usr/local/lib/python3.6/dist-packages (from flair) (3.10.0)\n",
            "Requirement already satisfied: sqlitedict>=1.6.0 in /usr/local/lib/python3.6/dist-packages (from flair) (1.6.0)\n",
            "Requirement already satisfied: hyperopt>=0.1.1 in /usr/local/lib/python3.6/dist-packages (from flair) (0.1.2)\n",
            "Requirement already satisfied: ipython-genutils==0.2.0 in /usr/local/lib/python3.6/dist-packages (from flair) (0.2.0)\n",
            "Requirement already satisfied: urllib3<1.25,>=1.20 in /usr/local/lib/python3.6/dist-packages (from flair) (1.24.3)\n",
            "Requirement already satisfied: sklearn in /usr/local/lib/python3.6/dist-packages (from flair) (0.0)\n",
            "Requirement already satisfied: deprecated>=1.2.4 in /usr/local/lib/python3.6/dist-packages (from flair) (1.2.7)\n",
            "Requirement already satisfied: matplotlib>=2.2.3 in /usr/local/lib/python3.6/dist-packages (from flair) (3.1.2)\n",
            "Requirement already satisfied: smart-open>=1.2.1 in /usr/local/lib/python3.6/dist-packages (from gensim>=3.4.0->flair) (1.9.0)\n",
            "Requirement already satisfied: six>=1.5.0 in /usr/local/lib/python3.6/dist-packages (from gensim>=3.4.0->flair) (1.12.0)\n",
            "Requirement already satisfied: scipy>=0.18.1 in /usr/local/lib/python3.6/dist-packages (from gensim>=3.4.0->flair) (1.3.3)\n",
            "Requirement already satisfied: numpy>=1.11.3 in /usr/local/lib/python3.6/dist-packages (from gensim>=3.4.0->flair) (1.17.4)\n",
            "Requirement already satisfied: pickleshare in /usr/local/lib/python3.6/dist-packages (from ipython==7.6.1->flair) (0.7.5)\n",
            "Requirement already satisfied: pexpect; sys_platform != \"win32\" in /usr/local/lib/python3.6/dist-packages (from ipython==7.6.1->flair) (4.7.0)\n",
            "Requirement already satisfied: backcall in /usr/local/lib/python3.6/dist-packages (from ipython==7.6.1->flair) (0.1.0)\n",
            "Requirement already satisfied: jedi>=0.10 in /usr/local/lib/python3.6/dist-packages (from ipython==7.6.1->flair) (0.15.1)\n",
            "Requirement already satisfied: pygments in /usr/local/lib/python3.6/dist-packages (from ipython==7.6.1->flair) (2.1.3)\n",
            "Requirement already satisfied: traitlets>=4.2 in /usr/local/lib/python3.6/dist-packages (from ipython==7.6.1->flair) (4.3.3)\n",
            "Requirement already satisfied: setuptools>=18.5 in /usr/local/lib/python3.6/dist-packages (from ipython==7.6.1->flair) (42.0.2)\n",
            "Requirement already satisfied: prompt-toolkit<2.1.0,>=2.0.0 in /usr/local/lib/python3.6/dist-packages (from ipython==7.6.1->flair) (2.0.10)\n",
            "Requirement already satisfied: decorator in /usr/local/lib/python3.6/dist-packages (from ipython==7.6.1->flair) (4.4.1)\n",
            "Requirement already satisfied: requests in /usr/local/lib/python3.6/dist-packages (from transformers>=2.0.0->flair) (2.21.0)\n",
            "Requirement already satisfied: boto3 in /usr/local/lib/python3.6/dist-packages (from transformers>=2.0.0->flair) (1.10.40)\n",
            "Requirement already satisfied: sentencepiece in /usr/local/lib/python3.6/dist-packages (from transformers>=2.0.0->flair) (0.1.85)\n",
            "Requirement already satisfied: sacremoses in /usr/local/lib/python3.6/dist-packages (from transformers>=2.0.0->flair) (0.0.35)\n",
            "Requirement already satisfied: pillow>=4.1.1 in /usr/local/lib/python3.6/dist-packages (from torchvision->flair) (4.3.0)\n",
            "Requirement already satisfied: kytea; extra == \"all\" in /usr/local/lib/python3.6/dist-packages (from tiny-tokenizer[all]->flair) (0.1.4)\n",
            "Requirement already satisfied: SudachiPy; extra == \"all\" in /usr/local/lib/python3.6/dist-packages (from tiny-tokenizer[all]->flair) (0.4.2)\n",
            "Requirement already satisfied: natto-py; extra == \"all\" in /usr/local/lib/python3.6/dist-packages (from tiny-tokenizer[all]->flair) (0.9.0)\n",
            "Requirement already satisfied: attrs>=17.4.0 in /usr/local/lib/python3.6/dist-packages (from pytest>=3.6.4->flair) (19.3.0)\n",
            "Requirement already satisfied: more-itertools>=4.0.0 in /usr/local/lib/python3.6/dist-packages (from pytest>=3.6.4->flair) (8.0.2)\n",
            "Requirement already satisfied: py>=1.5.0 in /usr/local/lib/python3.6/dist-packages (from pytest>=3.6.4->flair) (1.8.0)\n",
            "Requirement already satisfied: pluggy<0.8,>=0.5 in /usr/local/lib/python3.6/dist-packages (from pytest>=3.6.4->flair) (0.7.1)\n",
            "Requirement already satisfied: atomicwrites>=1.0 in /usr/local/lib/python3.6/dist-packages (from pytest>=3.6.4->flair) (1.3.0)\n",
            "Requirement already satisfied: networkx in /usr/local/lib/python3.6/dist-packages (from hyperopt>=0.1.1->flair) (2.4)\n",
            "Requirement already satisfied: future in /usr/local/lib/python3.6/dist-packages (from hyperopt>=0.1.1->flair) (0.16.0)\n",
            "Requirement already satisfied: scikit-learn in /usr/local/lib/python3.6/dist-packages (from sklearn->flair) (0.21.3)\n",
            "Requirement already satisfied: wrapt<2,>=1.10 in /usr/local/lib/python3.6/dist-packages (from deprecated>=1.2.4->flair) (1.11.2)\n",
            "Requirement already satisfied: kiwisolver>=1.0.1 in /usr/local/lib/python3.6/dist-packages (from matplotlib>=2.2.3->flair) (1.1.0)\n",
            "Requirement already satisfied: pyparsing!=2.0.4,!=2.1.2,!=2.1.6,>=2.0.1 in /usr/local/lib/python3.6/dist-packages (from matplotlib>=2.2.3->flair) (2.4.5)\n",
            "Requirement already satisfied: cycler>=0.10 in /usr/local/lib/python3.6/dist-packages (from matplotlib>=2.2.3->flair) (0.10.0)\n",
            "Requirement already satisfied: python-dateutil>=2.1 in /usr/local/lib/python3.6/dist-packages (from matplotlib>=2.2.3->flair) (2.6.1)\n",
            "Requirement already satisfied: boto>=2.32 in /usr/local/lib/python3.6/dist-packages (from smart-open>=1.2.1->gensim>=3.4.0->flair) (2.49.0)\n",
            "Requirement already satisfied: ptyprocess>=0.5 in /usr/local/lib/python3.6/dist-packages (from pexpect; sys_platform != \"win32\"->ipython==7.6.1->flair) (0.6.0)\n",
            "Requirement already satisfied: parso>=0.5.0 in /usr/local/lib/python3.6/dist-packages (from jedi>=0.10->ipython==7.6.1->flair) (0.5.2)\n",
            "Requirement already satisfied: wcwidth in /usr/local/lib/python3.6/dist-packages (from prompt-toolkit<2.1.0,>=2.0.0->ipython==7.6.1->flair) (0.1.7)\n",
            "Requirement already satisfied: chardet<3.1.0,>=3.0.2 in /usr/local/lib/python3.6/dist-packages (from requests->transformers>=2.0.0->flair) (3.0.4)\n",
            "Requirement already satisfied: certifi>=2017.4.17 in /usr/local/lib/python3.6/dist-packages (from requests->transformers>=2.0.0->flair) (2019.11.28)\n",
            "Requirement already satisfied: idna<2.9,>=2.5 in /usr/local/lib/python3.6/dist-packages (from requests->transformers>=2.0.0->flair) (2.8)\n",
            "Requirement already satisfied: jmespath<1.0.0,>=0.7.1 in /usr/local/lib/python3.6/dist-packages (from boto3->transformers>=2.0.0->flair) (0.9.4)\n",
            "Requirement already satisfied: s3transfer<0.3.0,>=0.2.0 in /usr/local/lib/python3.6/dist-packages (from boto3->transformers>=2.0.0->flair) (0.2.1)\n",
            "Requirement already satisfied: botocore<1.14.0,>=1.13.40 in /usr/local/lib/python3.6/dist-packages (from boto3->transformers>=2.0.0->flair) (1.13.40)\n",
            "Requirement already satisfied: joblib in /usr/local/lib/python3.6/dist-packages (from sacremoses->transformers>=2.0.0->flair) (0.14.1)\n",
            "Requirement already satisfied: click in /usr/local/lib/python3.6/dist-packages (from sacremoses->transformers>=2.0.0->flair) (7.0)\n",
            "Requirement already satisfied: olefile in /usr/local/lib/python3.6/dist-packages (from pillow>=4.1.1->torchvision->flair) (0.46)\n",
            "Requirement already satisfied: sortedcontainers~=2.1.0 in /usr/local/lib/python3.6/dist-packages (from SudachiPy; extra == \"all\"->tiny-tokenizer[all]->flair) (2.1.0)\n",
            "Requirement already satisfied: dartsclone~=0.6.0 in /usr/local/lib/python3.6/dist-packages (from SudachiPy; extra == \"all\"->tiny-tokenizer[all]->flair) (0.6)\n",
            "Requirement already satisfied: cffi in /usr/local/lib/python3.6/dist-packages (from natto-py; extra == \"all\"->tiny-tokenizer[all]->flair) (1.13.2)\n",
            "Requirement already satisfied: docutils<0.16,>=0.10 in /usr/local/lib/python3.6/dist-packages (from botocore<1.14.0,>=1.13.40->boto3->transformers>=2.0.0->flair) (0.15.2)\n",
            "Requirement already satisfied: Cython in /usr/local/lib/python3.6/dist-packages (from dartsclone~=0.6.0->SudachiPy; extra == \"all\"->tiny-tokenizer[all]->flair) (0.29.14)\n",
            "Requirement already satisfied: pycparser in /usr/local/lib/python3.6/dist-packages (from cffi->natto-py; extra == \"all\"->tiny-tokenizer[all]->flair) (2.19)\n"
          ],
          "name": "stdout"
        }
      ]
    },
    {
      "cell_type": "markdown",
      "metadata": {
        "id": "fhhkb0R8fx4b",
        "colab_type": "text"
      },
      "source": [
        "# Tutorial 6: Loading Training Data"
      ]
    },
    {
      "cell_type": "markdown",
      "metadata": {
        "id": "R8EwOec9f5od",
        "colab_type": "text"
      },
      "source": [
        "## A. The Corpus Object"
      ]
    },
    {
      "cell_type": "code",
      "metadata": {
        "id": "VOtEOh0Mfgt5",
        "colab_type": "code",
        "colab": {
          "base_uri": "https://localhost:8080/",
          "height": 393
        },
        "outputId": "489a7403-e8ed-48c5-8fcc-e0dda96b7f79"
      },
      "source": [
        "import flair.datasets\n",
        "corpus = flair.datasets.UD_ENGLISH()"
      ],
      "execution_count": 2,
      "outputs": [
        {
          "output_type": "display_data",
          "data": {
            "text/html": [
              "<p style=\"color: red;\">\n",
              "The default version of TensorFlow in Colab will soon switch to TensorFlow 2.x.<br>\n",
              "We recommend you <a href=\"https://www.tensorflow.org/guide/migrate\" target=\"_blank\">upgrade</a> now \n",
              "or ensure your notebook will continue to use TensorFlow 1.x via the <code>%tensorflow_version 1.x</code> magic:\n",
              "<a href=\"https://colab.research.google.com/notebooks/tensorflow_version.ipynb\" target=\"_blank\">more info</a>.</p>\n"
            ],
            "text/plain": [
              "<IPython.core.display.HTML object>"
            ]
          },
          "metadata": {
            "tags": []
          }
        },
        {
          "output_type": "stream",
          "text": [
            "2019-12-20 08:50:16,637 https://raw.githubusercontent.com/UniversalDependencies/UD_English-EWT/master/en_ewt-ud-dev.conllu not found in cache, downloading to /tmp/tmpl87hvbk8\n"
          ],
          "name": "stdout"
        },
        {
          "output_type": "stream",
          "text": [
            "1668224B [00:00, 75460922.70B/s]         "
          ],
          "name": "stderr"
        },
        {
          "output_type": "stream",
          "text": [
            "2019-12-20 08:50:16,694 copying /tmp/tmpl87hvbk8 to cache at /root/.flair/datasets/ud_english/en_ewt-ud-dev.conllu\n",
            "2019-12-20 08:50:16,697 removing temp file /tmp/tmpl87hvbk8\n"
          ],
          "name": "stdout"
        },
        {
          "output_type": "stream",
          "text": [
            "\n"
          ],
          "name": "stderr"
        },
        {
          "output_type": "stream",
          "text": [
            "2019-12-20 08:50:17,152 https://raw.githubusercontent.com/UniversalDependencies/UD_English-EWT/master/en_ewt-ud-test.conllu not found in cache, downloading to /tmp/tmp1rsewpsb\n"
          ],
          "name": "stdout"
        },
        {
          "output_type": "stream",
          "text": [
            "1662046B [00:00, 89557119.55B/s]         "
          ],
          "name": "stderr"
        },
        {
          "output_type": "stream",
          "text": [
            "2019-12-20 08:50:17,203 copying /tmp/tmp1rsewpsb to cache at /root/.flair/datasets/ud_english/en_ewt-ud-test.conllu\n",
            "2019-12-20 08:50:17,207 removing temp file /tmp/tmp1rsewpsb\n"
          ],
          "name": "stdout"
        },
        {
          "output_type": "stream",
          "text": [
            "\n"
          ],
          "name": "stderr"
        },
        {
          "output_type": "stream",
          "text": [
            "2019-12-20 08:50:18,002 https://raw.githubusercontent.com/UniversalDependencies/UD_English-EWT/master/en_ewt-ud-train.conllu not found in cache, downloading to /tmp/tmpzeemikdn\n"
          ],
          "name": "stdout"
        },
        {
          "output_type": "stream",
          "text": [
            "13303560B [00:00, 132874160.41B/s]        "
          ],
          "name": "stderr"
        },
        {
          "output_type": "stream",
          "text": [
            "2019-12-20 08:50:18,151 copying /tmp/tmpzeemikdn to cache at /root/.flair/datasets/ud_english/en_ewt-ud-train.conllu\n",
            "2019-12-20 08:50:18,165 removing temp file /tmp/tmpzeemikdn\n"
          ],
          "name": "stdout"
        },
        {
          "output_type": "stream",
          "text": [
            "\n"
          ],
          "name": "stderr"
        },
        {
          "output_type": "stream",
          "text": [
            "2019-12-20 08:50:18,500 Reading data from /root/.flair/datasets/ud_english\n",
            "2019-12-20 08:50:18,501 Train: /root/.flair/datasets/ud_english/en_ewt-ud-train.conllu\n",
            "2019-12-20 08:50:18,501 Test: /root/.flair/datasets/ud_english/en_ewt-ud-test.conllu\n",
            "2019-12-20 08:50:18,502 Dev: /root/.flair/datasets/ud_english/en_ewt-ud-dev.conllu\n"
          ],
          "name": "stdout"
        }
      ]
    },
    {
      "cell_type": "code",
      "metadata": {
        "id": "XM-_C4WJgHjb",
        "colab_type": "code",
        "colab": {
          "base_uri": "https://localhost:8080/",
          "height": 72
        },
        "outputId": "700ffc55-5b46-4d45-c8e9-22aab00dd0dd"
      },
      "source": [
        "# print the number of Sentences in the train split\n",
        "print(\"No. of sentences in the train split: \", len(corpus.train))\n",
        "\n",
        "# print the number of Sentences in the test split\n",
        "print(\"No. of sentences in the test split: \", len(corpus.test))\n",
        "\n",
        "# print the number of Sentences in the dev split\n",
        "print(\"No. of sentences in the dev split: \", len(corpus.dev))"
      ],
      "execution_count": 3,
      "outputs": [
        {
          "output_type": "stream",
          "text": [
            "No. of sentences in the train split:  12543\n",
            "No. of sentences in the test split:  2077\n",
            "No. of sentences in the dev split:  2002\n"
          ],
          "name": "stdout"
        }
      ]
    },
    {
      "cell_type": "code",
      "metadata": {
        "id": "shoYpA7Agqcr",
        "colab_type": "code",
        "colab": {
          "base_uri": "https://localhost:8080/",
          "height": 55
        },
        "outputId": "933740a8-2057-411d-cefb-27b04cf11914"
      },
      "source": [
        "# print the first Sentence in the training split\n",
        "print(corpus.train[0])"
      ],
      "execution_count": 4,
      "outputs": [
        {
          "output_type": "stream",
          "text": [
            "Sentence: \"Al - Zaman : American forces killed Shaikh Abdullah al - Ani , the preacher at the mosque in the town of Qaim , near the Syrian border .\" - 29 Tokens\n"
          ],
          "name": "stdout"
        }
      ]
    },
    {
      "cell_type": "code",
      "metadata": {
        "id": "NIBNSw69g7aD",
        "colab_type": "code",
        "colab": {
          "base_uri": "https://localhost:8080/",
          "height": 55
        },
        "outputId": "0e63ea6e-a22e-4a6c-e9e2-26587176cdea"
      },
      "source": [
        "# print the first Sentence in the training split with PoS tags\n",
        "print(corpus.train[0].to_tagged_string('pos'))"
      ],
      "execution_count": 5,
      "outputs": [
        {
          "output_type": "stream",
          "text": [
            "Al <NNP> - <HYPH> Zaman <NNP> : <:> American <JJ> forces <NNS> killed <VBD> Shaikh <NNP> Abdullah <NNP> al <NNP> - <HYPH> Ani <NNP> , <,> the <DT> preacher <NN> at <IN> the <DT> mosque <NN> in <IN> the <DT> town <NN> of <IN> Qaim <NNP> , <,> near <IN> the <DT> Syrian <JJ> border <NN> . <.>\n"
          ],
          "name": "stdout"
        }
      ]
    },
    {
      "cell_type": "markdown",
      "metadata": {
        "id": "MeqZo-47hFp7",
        "colab_type": "text"
      },
      "source": [
        "### A1. Helper functions"
      ]
    },
    {
      "cell_type": "code",
      "metadata": {
        "id": "tlt9OXBFhDh6",
        "colab_type": "code",
        "colab": {
          "base_uri": "https://localhost:8080/",
          "height": 110
        },
        "outputId": "717b23db-be45-49f6-d072-d11ab2039e0b"
      },
      "source": [
        "import flair.datasets\n",
        "\n",
        "downsampled_corpus = flair.datasets.UD_ENGLISH().downsample(0.1)"
      ],
      "execution_count": 6,
      "outputs": [
        {
          "output_type": "stream",
          "text": [
            "2019-12-20 08:54:36,224 Reading data from /root/.flair/datasets/ud_english\n",
            "2019-12-20 08:54:36,226 Train: /root/.flair/datasets/ud_english/en_ewt-ud-train.conllu\n",
            "2019-12-20 08:54:36,226 Test: /root/.flair/datasets/ud_english/en_ewt-ud-test.conllu\n",
            "2019-12-20 08:54:36,227 Dev: /root/.flair/datasets/ud_english/en_ewt-ud-dev.conllu\n"
          ],
          "name": "stdout"
        }
      ]
    },
    {
      "cell_type": "code",
      "metadata": {
        "id": "4JRapJdNhUhg",
        "colab_type": "code",
        "colab": {
          "base_uri": "https://localhost:8080/",
          "height": 90
        },
        "outputId": "e94d9a77-dedc-477d-b4ce-e64fba348e7e"
      },
      "source": [
        "print(\"---1 Original---\")\n",
        "print(corpus)\n",
        "\n",
        "print(\"---2 Downsampled---\")\n",
        "print(downsampled_corpus)"
      ],
      "execution_count": 7,
      "outputs": [
        {
          "output_type": "stream",
          "text": [
            "---1 Original---\n",
            "Corpus: 12543 train + 2002 dev + 2077 test sentences\n",
            "---2 Downsampled---\n",
            "Corpus: 1254 train + 200 dev + 208 test sentences\n"
          ],
          "name": "stdout"
        }
      ]
    },
    {
      "cell_type": "code",
      "metadata": {
        "id": "U6556liTheES",
        "colab_type": "code",
        "colab": {
          "base_uri": "https://localhost:8080/",
          "height": 729
        },
        "outputId": "b250f515-2e6f-4ff1-a28b-56e7555d0fa6"
      },
      "source": [
        "# create tag dictionary for a PoS task\n",
        "corpus = flair.datasets.UD_ENGLISH()\n",
        "print(corpus.make_tag_dictionary('upos'))\n",
        "\n",
        "# create tag dictionary for an NER task\n",
        "corpus = flair.datasets.CONLL_03_DUTCH()\n",
        "print(corpus.make_tag_dictionary('ner'))\n",
        "\n",
        "# create label dictionary for a text classification task\n",
        "corpus = flair.datasets.TREC_6()\n",
        "print(corpus.make_label_dictionary())"
      ],
      "execution_count": 8,
      "outputs": [
        {
          "output_type": "stream",
          "text": [
            "2019-12-20 08:57:26,003 Reading data from /root/.flair/datasets/ud_english\n",
            "2019-12-20 08:57:26,004 Train: /root/.flair/datasets/ud_english/en_ewt-ud-train.conllu\n",
            "2019-12-20 08:57:26,008 Test: /root/.flair/datasets/ud_english/en_ewt-ud-test.conllu\n",
            "2019-12-20 08:57:26,009 Dev: /root/.flair/datasets/ud_english/en_ewt-ud-dev.conllu\n",
            "<flair.data.Dictionary object at 0x7f986c907780>\n",
            "2019-12-20 08:57:34,032 https://www.clips.uantwerpen.be/conll2002/ner/data/ned.testa not found in cache, downloading to /tmp/tmpne_8n7vg\n"
          ],
          "name": "stdout"
        },
        {
          "output_type": "stream",
          "text": [
            "100%|██████████| 450512/450512 [00:00<00:00, 5949310.43B/s]"
          ],
          "name": "stderr"
        },
        {
          "output_type": "stream",
          "text": [
            "2019-12-20 08:57:34,183 copying /tmp/tmpne_8n7vg to cache at /root/.flair/datasets/conll_03_dutch/ned.testa\n",
            "2019-12-20 08:57:34,185 removing temp file /tmp/tmpne_8n7vg\n",
            "2019-12-20 08:57:34,258 https://www.clips.uantwerpen.be/conll2002/ner/data/ned.testb not found in cache, downloading to /tmp/tmpg_an342v\n"
          ],
          "name": "stdout"
        },
        {
          "output_type": "stream",
          "text": [
            "\n",
            "100%|██████████| 813815/813815 [00:00<00:00, 7646563.04B/s]"
          ],
          "name": "stderr"
        },
        {
          "output_type": "stream",
          "text": [
            "2019-12-20 08:57:34,438 copying /tmp/tmpg_an342v to cache at /root/.flair/datasets/conll_03_dutch/ned.testb\n",
            "2019-12-20 08:57:34,440 removing temp file /tmp/tmpg_an342v\n",
            "2019-12-20 08:57:34,515 https://www.clips.uantwerpen.be/conll2002/ner/data/ned.train not found in cache, downloading to /tmp/tmpanhn1xn2\n"
          ],
          "name": "stdout"
        },
        {
          "output_type": "stream",
          "text": [
            "\n",
            "100%|██████████| 2375449/2375449 [00:00<00:00, 9956057.45B/s]"
          ],
          "name": "stderr"
        },
        {
          "output_type": "stream",
          "text": [
            "2019-12-20 08:57:34,829 copying /tmp/tmpanhn1xn2 to cache at /root/.flair/datasets/conll_03_dutch/ned.train\n",
            "2019-12-20 08:57:34,836 removing temp file /tmp/tmpanhn1xn2\n",
            "2019-12-20 08:57:34,839 Reading data from /root/.flair/datasets/conll_03_dutch\n",
            "2019-12-20 08:57:34,840 Train: /root/.flair/datasets/conll_03_dutch/ned.train\n",
            "2019-12-20 08:57:34,843 Dev: /root/.flair/datasets/conll_03_dutch/ned.testa\n",
            "2019-12-20 08:57:34,844 Test: /root/.flair/datasets/conll_03_dutch/ned.testb\n"
          ],
          "name": "stdout"
        },
        {
          "output_type": "stream",
          "text": [
            "\n"
          ],
          "name": "stderr"
        },
        {
          "output_type": "stream",
          "text": [
            "<flair.data.Dictionary object at 0x7f986c907780>\n",
            "2019-12-20 08:57:42,174 https://cogcomp.seas.upenn.edu/Data/QA/QC/train_5500.label not found in cache, downloading to /tmp/tmpigpteeoy\n"
          ],
          "name": "stdout"
        },
        {
          "output_type": "stream",
          "text": [
            "100%|██████████| 335858/335858 [00:00<00:00, 1030954.12B/s]"
          ],
          "name": "stderr"
        },
        {
          "output_type": "stream",
          "text": [
            "2019-12-20 08:57:42,841 copying /tmp/tmpigpteeoy to cache at /root/.flair/datasets/trec_6/original/train_5500.label\n",
            "2019-12-20 08:57:42,843 removing temp file /tmp/tmpigpteeoy\n"
          ],
          "name": "stdout"
        },
        {
          "output_type": "stream",
          "text": [
            "\n"
          ],
          "name": "stderr"
        },
        {
          "output_type": "stream",
          "text": [
            "2019-12-20 08:57:43,179 https://cogcomp.seas.upenn.edu/Data/QA/QC/TREC_10.label not found in cache, downloading to /tmp/tmp5gwb1id7\n"
          ],
          "name": "stdout"
        },
        {
          "output_type": "stream",
          "text": [
            "100%|██████████| 23354/23354 [00:00<00:00, 284959.75B/s]"
          ],
          "name": "stderr"
        },
        {
          "output_type": "stream",
          "text": [
            "2019-12-20 08:57:43,602 copying /tmp/tmp5gwb1id7 to cache at /root/.flair/datasets/trec_6/original/TREC_10.label\n",
            "2019-12-20 08:57:43,605 removing temp file /tmp/tmp5gwb1id7\n",
            "2019-12-20 08:57:43,618 Reading data from /root/.flair/datasets/trec_6\n",
            "2019-12-20 08:57:43,618 Train: /root/.flair/datasets/trec_6/train.txt\n",
            "2019-12-20 08:57:43,619 Dev: None\n",
            "2019-12-20 08:57:43,620 Test: /root/.flair/datasets/trec_6/test.txt\n"
          ],
          "name": "stdout"
        },
        {
          "output_type": "stream",
          "text": [
            "\n"
          ],
          "name": "stderr"
        },
        {
          "output_type": "stream",
          "text": [
            "2019-12-20 08:57:43,870 Computing label dictionary. Progress:\n"
          ],
          "name": "stdout"
        },
        {
          "output_type": "stream",
          "text": [
            "100%|██████████| 4907/4907 [00:00<00:00, 250087.48it/s]"
          ],
          "name": "stderr"
        },
        {
          "output_type": "stream",
          "text": [
            "2019-12-20 08:57:43,923 [b'NUM', b'DESC', b'ENTY', b'LOC', b'HUM', b'ABBR']\n",
            "<flair.data.Dictionary object at 0x7f986c907780>\n"
          ],
          "name": "stdout"
        },
        {
          "output_type": "stream",
          "text": [
            "\n"
          ],
          "name": "stderr"
        }
      ]
    },
    {
      "cell_type": "code",
      "metadata": {
        "id": "NDptjRcCh9mk",
        "colab_type": "code",
        "colab": {
          "base_uri": "https://localhost:8080/",
          "height": 1000
        },
        "outputId": "b240dc5b-92c6-438f-84b2-2e4ba5ac0b32"
      },
      "source": [
        "import flair.datasets\n",
        "\n",
        "corpus = flair.datasets.TREC_6()\n",
        "stats = corpus.obtain_statistics()\n",
        "\n",
        "print(stats)"
      ],
      "execution_count": 9,
      "outputs": [
        {
          "output_type": "stream",
          "text": [
            "2019-12-20 08:58:34,394 Reading data from /root/.flair/datasets/trec_6\n",
            "2019-12-20 08:58:34,396 Train: /root/.flair/datasets/trec_6/train.txt\n",
            "2019-12-20 08:58:34,397 Dev: None\n",
            "2019-12-20 08:58:34,398 Test: /root/.flair/datasets/trec_6/test.txt\n",
            "{\n",
            "    \"TRAIN\": {\n",
            "        \"dataset\": \"TRAIN\",\n",
            "        \"total_number_of_documents\": 4907,\n",
            "        \"number_of_documents_per_class\": {\n",
            "            \"LOC\": 761,\n",
            "            \"HUM\": 1096,\n",
            "            \"DESC\": 1061,\n",
            "            \"ENTY\": 1110,\n",
            "            \"NUM\": 801,\n",
            "            \"ABBR\": 78\n",
            "        },\n",
            "        \"number_of_tokens_per_tag\": {},\n",
            "        \"number_of_tokens\": {\n",
            "            \"total\": 50078,\n",
            "            \"min\": 3,\n",
            "            \"max\": 37,\n",
            "            \"avg\": 10.205420827389444\n",
            "        }\n",
            "    },\n",
            "    \"TEST\": {\n",
            "        \"dataset\": \"TEST\",\n",
            "        \"total_number_of_documents\": 500,\n",
            "        \"number_of_documents_per_class\": {\n",
            "            \"NUM\": 113,\n",
            "            \"LOC\": 81,\n",
            "            \"HUM\": 65,\n",
            "            \"DESC\": 138,\n",
            "            \"ENTY\": 94,\n",
            "            \"ABBR\": 9\n",
            "        },\n",
            "        \"number_of_tokens_per_tag\": {},\n",
            "        \"number_of_tokens\": {\n",
            "            \"total\": 3758,\n",
            "            \"min\": 4,\n",
            "            \"max\": 17,\n",
            "            \"avg\": 7.516\n",
            "        }\n",
            "    },\n",
            "    \"DEV\": {\n",
            "        \"dataset\": \"DEV\",\n",
            "        \"total_number_of_documents\": 545,\n",
            "        \"number_of_documents_per_class\": {\n",
            "            \"ENTY\": 140,\n",
            "            \"HUM\": 127,\n",
            "            \"NUM\": 95,\n",
            "            \"LOC\": 74,\n",
            "            \"DESC\": 101,\n",
            "            \"ABBR\": 8\n",
            "        },\n",
            "        \"number_of_tokens_per_tag\": {},\n",
            "        \"number_of_tokens\": {\n",
            "            \"total\": 5557,\n",
            "            \"min\": 3,\n",
            "            \"max\": 26,\n",
            "            \"avg\": 10.196330275229357\n",
            "        }\n",
            "    }\n",
            "}\n"
          ],
          "name": "stdout"
        }
      ]
    },
    {
      "cell_type": "markdown",
      "metadata": {
        "id": "dvL_dkHriXUQ",
        "colab_type": "text"
      },
      "source": [
        "### A2. The MultiCorpus Object"
      ]
    },
    {
      "cell_type": "code",
      "metadata": {
        "id": "MaE442qqiOVr",
        "colab_type": "code",
        "colab": {
          "base_uri": "https://localhost:8080/",
          "height": 692
        },
        "outputId": "2ed60b77-ba2b-41f3-c91f-24919ea3cc9a"
      },
      "source": [
        "english_corpus = flair.datasets.UD_ENGLISH()\n",
        "german_corpus = flair.datasets.UD_GERMAN()\n",
        "dutch_corpus = flair.datasets.UD_DUTCH()\n",
        "\n",
        "# make a multi corpus consisting of three UDs\n",
        "from flair.data import MultiCorpus\n",
        "multi_corpus = MultiCorpus([english_corpus, german_corpus, dutch_corpus])"
      ],
      "execution_count": 10,
      "outputs": [
        {
          "output_type": "stream",
          "text": [
            "2019-12-20 09:01:25,301 Reading data from /root/.flair/datasets/ud_english\n",
            "2019-12-20 09:01:25,302 Train: /root/.flair/datasets/ud_english/en_ewt-ud-train.conllu\n",
            "2019-12-20 09:01:25,303 Test: /root/.flair/datasets/ud_english/en_ewt-ud-test.conllu\n",
            "2019-12-20 09:01:25,305 Dev: /root/.flair/datasets/ud_english/en_ewt-ud-dev.conllu\n",
            "2019-12-20 09:01:34,946 https://raw.githubusercontent.com/UniversalDependencies/UD_German-GSD/master/de_gsd-ud-dev.conllu not found in cache, downloading to /tmp/tmpbd1x4djd\n"
          ],
          "name": "stdout"
        },
        {
          "output_type": "stream",
          "text": [
            "882822B [00:00, 46527239.72B/s]          "
          ],
          "name": "stderr"
        },
        {
          "output_type": "stream",
          "text": [
            "2019-12-20 09:01:34,993 copying /tmp/tmpbd1x4djd to cache at /root/.flair/datasets/ud_german/de_gsd-ud-dev.conllu\n",
            "2019-12-20 09:01:34,997 removing temp file /tmp/tmpbd1x4djd\n"
          ],
          "name": "stdout"
        },
        {
          "output_type": "stream",
          "text": [
            "\n"
          ],
          "name": "stderr"
        },
        {
          "output_type": "stream",
          "text": [
            "2019-12-20 09:01:35,272 https://raw.githubusercontent.com/UniversalDependencies/UD_German-GSD/master/de_gsd-ud-test.conllu not found in cache, downloading to /tmp/tmpypqpco3m\n"
          ],
          "name": "stdout"
        },
        {
          "output_type": "stream",
          "text": [
            "1177197B [00:00, 50367973.62B/s]         "
          ],
          "name": "stderr"
        },
        {
          "output_type": "stream",
          "text": [
            "2019-12-20 09:01:35,326 copying /tmp/tmpypqpco3m to cache at /root/.flair/datasets/ud_german/de_gsd-ud-test.conllu\n",
            "2019-12-20 09:01:35,329 removing temp file /tmp/tmpypqpco3m\n"
          ],
          "name": "stdout"
        },
        {
          "output_type": "stream",
          "text": [
            "\n"
          ],
          "name": "stderr"
        },
        {
          "output_type": "stream",
          "text": [
            "2019-12-20 09:01:36,441 https://raw.githubusercontent.com/UniversalDependencies/UD_German-GSD/master/de_gsd-ud-train.conllu not found in cache, downloading to /tmp/tmp6j1t628n\n"
          ],
          "name": "stdout"
        },
        {
          "output_type": "stream",
          "text": [
            "18886219B [00:00, 97386709.03B/s] "
          ],
          "name": "stderr"
        },
        {
          "output_type": "stream",
          "text": [
            "2019-12-20 09:01:36,713 copying /tmp/tmp6j1t628n to cache at /root/.flair/datasets/ud_german/de_gsd-ud-train.conllu\n"
          ],
          "name": "stdout"
        },
        {
          "output_type": "stream",
          "text": [
            "\n"
          ],
          "name": "stderr"
        },
        {
          "output_type": "stream",
          "text": [
            "2019-12-20 09:01:36,733 removing temp file /tmp/tmp6j1t628n\n",
            "2019-12-20 09:01:37,196 Reading data from /root/.flair/datasets/ud_german\n",
            "2019-12-20 09:01:37,196 Train: /root/.flair/datasets/ud_german/de_gsd-ud-train.conllu\n",
            "2019-12-20 09:01:37,197 Test: /root/.flair/datasets/ud_german/de_gsd-ud-test.conllu\n",
            "2019-12-20 09:01:37,198 Dev: /root/.flair/datasets/ud_german/de_gsd-ud-dev.conllu\n",
            "2019-12-20 09:01:46,473 https://raw.githubusercontent.com/UniversalDependencies/UD_Dutch-Alpino/master/nl_alpino-ud-dev.conllu not found in cache, downloading to /tmp/tmps3c_m8rc\n"
          ],
          "name": "stdout"
        },
        {
          "output_type": "stream",
          "text": [
            "971006B [00:00, 67926920.12B/s]          "
          ],
          "name": "stderr"
        },
        {
          "output_type": "stream",
          "text": [
            "2019-12-20 09:01:46,519 copying /tmp/tmps3c_m8rc to cache at /root/.flair/datasets/ud_dutch/nl_alpino-ud-dev.conllu\n",
            "2019-12-20 09:01:46,521 removing temp file /tmp/tmps3c_m8rc\n"
          ],
          "name": "stdout"
        },
        {
          "output_type": "stream",
          "text": [
            "\n"
          ],
          "name": "stderr"
        },
        {
          "output_type": "stream",
          "text": [
            "2019-12-20 09:01:47,254 https://raw.githubusercontent.com/UniversalDependencies/UD_Dutch-Alpino/master/nl_alpino-ud-test.conllu not found in cache, downloading to /tmp/tmpq1hppwqu\n"
          ],
          "name": "stdout"
        },
        {
          "output_type": "stream",
          "text": [
            "928283B [00:00, 64316056.30B/s]          "
          ],
          "name": "stderr"
        },
        {
          "output_type": "stream",
          "text": [
            "2019-12-20 09:01:47,302 copying /tmp/tmpq1hppwqu to cache at /root/.flair/datasets/ud_dutch/nl_alpino-ud-test.conllu\n",
            "2019-12-20 09:01:47,304 removing temp file /tmp/tmpq1hppwqu\n"
          ],
          "name": "stdout"
        },
        {
          "output_type": "stream",
          "text": [
            "\n"
          ],
          "name": "stderr"
        },
        {
          "output_type": "stream",
          "text": [
            "2019-12-20 09:01:48,772 https://raw.githubusercontent.com/UniversalDependencies/UD_Dutch-Alpino/master/nl_alpino-ud-train.conllu not found in cache, downloading to /tmp/tmp8f7y8m0h\n"
          ],
          "name": "stdout"
        },
        {
          "output_type": "stream",
          "text": [
            "14959268B [00:00, 137738443.32B/s]"
          ],
          "name": "stderr"
        },
        {
          "output_type": "stream",
          "text": [
            "2019-12-20 09:01:48,916 copying /tmp/tmp8f7y8m0h to cache at /root/.flair/datasets/ud_dutch/nl_alpino-ud-train.conllu\n",
            "2019-12-20 09:01:48,930 removing temp file /tmp/tmp8f7y8m0h\n"
          ],
          "name": "stdout"
        },
        {
          "output_type": "stream",
          "text": [
            "\n"
          ],
          "name": "stderr"
        },
        {
          "output_type": "stream",
          "text": [
            "2019-12-20 09:01:49,321 Reading data from /root/.flair/datasets/ud_dutch\n",
            "2019-12-20 09:01:49,321 Train: /root/.flair/datasets/ud_dutch/nl_alpino-ud-train.conllu\n",
            "2019-12-20 09:01:49,322 Test: /root/.flair/datasets/ud_dutch/nl_alpino-ud-test.conllu\n",
            "2019-12-20 09:01:49,323 Dev: /root/.flair/datasets/ud_dutch/nl_alpino-ud-dev.conllu\n"
          ],
          "name": "stdout"
        }
      ]
    },
    {
      "cell_type": "markdown",
      "metadata": {
        "id": "vjax8UbQjKl_",
        "colab_type": "text"
      },
      "source": [
        "## B. Prepared Datasets"
      ]
    },
    {
      "cell_type": "code",
      "metadata": {
        "id": "Hg-oDj6hi4Zj",
        "colab_type": "code",
        "colab": {
          "base_uri": "https://localhost:8080/",
          "height": 183
        },
        "outputId": "13c0b673-cc57-49f1-b548-492cc0827506"
      },
      "source": [
        "import flair.datasets\n",
        "\n",
        "corpus = flair.datasets.IMDB()"
      ],
      "execution_count": 11,
      "outputs": [
        {
          "output_type": "stream",
          "text": [
            "2019-12-20 09:03:08,160 http://ai.stanford.edu/~amaas/data/sentiment/aclImdb_v1.tar.gz not found in cache, downloading to /tmp/tmpr_vbdywg\n"
          ],
          "name": "stdout"
        },
        {
          "output_type": "stream",
          "text": [
            "100%|██████████| 84125825/84125825 [00:08<00:00, 10445224.85B/s]"
          ],
          "name": "stderr"
        },
        {
          "output_type": "stream",
          "text": [
            "2019-12-20 09:03:16,507 copying /tmp/tmpr_vbdywg to cache at /root/.flair/datasets/imdb/aclImdb_v1.tar.gz\n"
          ],
          "name": "stdout"
        },
        {
          "output_type": "stream",
          "text": [
            "\n"
          ],
          "name": "stderr"
        },
        {
          "output_type": "stream",
          "text": [
            "2019-12-20 09:03:16,670 removing temp file /tmp/tmpr_vbdywg\n",
            "2019-12-20 09:03:34,861 Reading data from /root/.flair/datasets/imdb\n",
            "2019-12-20 09:03:34,862 Train: /root/.flair/datasets/imdb/train.txt\n",
            "2019-12-20 09:03:34,863 Dev: None\n",
            "2019-12-20 09:03:34,864 Test: /root/.flair/datasets/imdb/test.txt\n"
          ],
          "name": "stdout"
        }
      ]
    },
    {
      "cell_type": "markdown",
      "metadata": {
        "id": "S-wGfAzwjhz5",
        "colab_type": "text"
      },
      "source": [
        "## C. Reading Your Own Sequence Labeling Dataset"
      ]
    },
    {
      "cell_type": "code",
      "metadata": {
        "id": "kM7nYZ18jRSK",
        "colab_type": "code",
        "colab": {}
      },
      "source": [
        "from flair.data import Corpus\n",
        "from flair.datasets import ColumnCorpus\n",
        "\n",
        "# define columns\n",
        "columns = {0: 'text', 1: 'pos', 2: 'ner'}\n",
        "\n",
        "# this is the folder in which train, test and dev files reside\n",
        "data_folder = '/path/to/data/folder'\n",
        "\n",
        "# init a corpus using column format, data folder and names of\n",
        "# the train, dev and test files\n",
        "corpus: Corpus = ColumnCorpus(data_folder, columns,\n",
        "                              train_file = 'train.txt',\n",
        "                              test_file = 'test.txt',\n",
        "                              dev_file = 'dev.txt')"
      ],
      "execution_count": 0,
      "outputs": []
    },
    {
      "cell_type": "code",
      "metadata": {
        "id": "psA4i6Sckmae",
        "colab_type": "code",
        "colab": {}
      },
      "source": [
        "len(corpus.train)"
      ],
      "execution_count": 0,
      "outputs": []
    },
    {
      "cell_type": "code",
      "metadata": {
        "id": "qa5oIYt2kvYp",
        "colab_type": "code",
        "colab": {}
      },
      "source": [
        "print(corpus.train[0].to_tagged_string('ner'))\n",
        "print(corpus.train[1].to_tagged_string('pos'))"
      ],
      "execution_count": 0,
      "outputs": []
    },
    {
      "cell_type": "markdown",
      "metadata": {
        "id": "F-sG98Bzk2nG",
        "colab_type": "text"
      },
      "source": [
        "## D. Reading a Text Classification Dataset"
      ]
    },
    {
      "cell_type": "markdown",
      "metadata": {
        "id": "XfUojPBck98Q",
        "colab_type": "text"
      },
      "source": [
        "## D1. Load from simple CSV file"
      ]
    },
    {
      "cell_type": "code",
      "metadata": {
        "id": "nY0Vmvtbk6M5",
        "colab_type": "code",
        "colab": {}
      },
      "source": [
        "from flair.data import Corpus\n",
        "from flair.datasets import CSVClassificationCorpus\n",
        "\n",
        "# this is the folder in which train, test and dev files reside\n",
        "data_folder = '/path/to/data'\n",
        "\n",
        "# column format indicating which columns hold the text and label(s)\n",
        "column_name_map = {4: \"text\", 1: \"label_topic\", 2: \"label_subtopic\"}\n",
        "\n",
        "# load corpus containing training, test and dev data & if CSV\n",
        "# has a header, you can skip it\n",
        "corpus: Corpus = CSVClassificationCorpus(data_folder,\n",
        "                                         column_name_map,\n",
        "                                         skip_header = True,\n",
        "                                         delimiter = '\\t',    # tab-separated files\n",
        "                                         )"
      ],
      "execution_count": 0,
      "outputs": []
    },
    {
      "cell_type": "markdown",
      "metadata": {
        "id": "KiVAxRNtmJr9",
        "colab_type": "text"
      },
      "source": [
        "## D2. FastText Format"
      ]
    },
    {
      "cell_type": "code",
      "metadata": {
        "id": "vRJcFmCcl4rQ",
        "colab_type": "code",
        "colab": {}
      },
      "source": [
        "__label__<label_1> <text>\n",
        "__label__<label_1> __label__<label_2> <text>"
      ],
      "execution_count": 0,
      "outputs": []
    },
    {
      "cell_type": "code",
      "metadata": {
        "id": "PxkIkeJQmlHC",
        "colab_type": "code",
        "colab": {}
      },
      "source": [
        "/resources/tasks/imdb/train.txt\n",
        "/resources/tasks/imdb/dev.txt\n",
        "/resources/tasks/imdb/test.txt"
      ],
      "execution_count": 0,
      "outputs": []
    },
    {
      "cell_type": "code",
      "metadata": {
        "id": "atwVdn-2msby",
        "colab_type": "code",
        "colab": {}
      },
      "source": [
        "from flair.data import Corpus\n",
        "from flair.datasets import ClassificationCorpus\n",
        "\n",
        "# this is the folder in which train, test and dev files reside\n",
        "data_folder = '/path/to/data/folder'\n",
        "\n",
        "# load corpus containing training, test and dev data\n",
        "corpus: Corpus = ClassificationCorpus(data_folder,\n",
        "                                      test_file = 'test.txt',\n",
        "                                      dev_file = 'dev.txt',\n",
        "                                      train_file = 'train.txt')"
      ],
      "execution_count": 0,
      "outputs": []
    },
    {
      "cell_type": "code",
      "metadata": {
        "id": "CHGXZp2anX31",
        "colab_type": "code",
        "colab": {}
      },
      "source": [
        "# this is the folder in which train, test and dev files reside\n",
        "data_folder = '/path/to/data/folder'\n",
        "\n",
        "# load corpus by pointing to folder.\n",
        "# Train, dev and test gets identified automatically\n",
        "corpus: Corpus = ClassificationCorpus(data_folder)"
      ],
      "execution_count": 0,
      "outputs": []
    },
    {
      "cell_type": "markdown",
      "metadata": {
        "id": "lNtSdWjen-J5",
        "colab_type": "text"
      },
      "source": [
        "# Tutorial 7: Training a Model"
      ]
    },
    {
      "cell_type": "markdown",
      "metadata": {
        "id": "6kaSrSbpo4P0",
        "colab_type": "text"
      },
      "source": [
        "## A. Training a Sequence Labeling Model"
      ]
    },
    {
      "cell_type": "code",
      "metadata": {
        "id": "DlUE8yi7oA3q",
        "colab_type": "code",
        "colab": {}
      },
      "source": [
        "from flair.data import Corpus\n",
        "from flair.datasets import WNUT_17\n",
        "from flair.embeddings import TokenEmbeddings, WordEmbeddings\n",
        "from flair.embeddings import StackedEmbeddings, CharacterEmbeddings\n",
        "from flair.embeddings import FlairEmbeddings\n",
        "from typing import List"
      ],
      "execution_count": 0,
      "outputs": []
    },
    {
      "cell_type": "code",
      "metadata": {
        "id": "sBxKXYv_pdSL",
        "colab_type": "code",
        "colab": {
          "base_uri": "https://localhost:8080/",
          "height": 128
        },
        "outputId": "cd247332-2bb2-4e69-b426-9a2ae30355b7"
      },
      "source": [
        "# 1. get the corpus\n",
        "corpus: Corpus = WNUT_17().downsample(0.1)\n",
        "print(corpus)"
      ],
      "execution_count": 24,
      "outputs": [
        {
          "output_type": "stream",
          "text": [
            "2019-12-20 09:41:28,450 Reading data from /root/.flair/datasets/wnut_17\n",
            "2019-12-20 09:41:28,451 Train: /root/.flair/datasets/wnut_17/wnut17train.conll\n",
            "2019-12-20 09:41:28,452 Dev: /root/.flair/datasets/wnut_17/emerging.dev.conll\n",
            "2019-12-20 09:41:28,454 Test: /root/.flair/datasets/wnut_17/emerging.test.annotated\n",
            "Corpus: 339 train + 101 dev + 129 test sentences\n"
          ],
          "name": "stdout"
        }
      ]
    },
    {
      "cell_type": "code",
      "metadata": {
        "id": "EhA5MLDwpkWk",
        "colab_type": "code",
        "colab": {
          "base_uri": "https://localhost:8080/",
          "height": 55
        },
        "outputId": "6bc15fd6-8702-4f17-a1d2-b421447d82d1"
      },
      "source": [
        "# 2. what tag do we want to predict?\n",
        "tag_type = 'ner'\n",
        "\n",
        "# 3. make the tag dictionary from the corpus\n",
        "tag_dictionary = corpus.make_tag_dictionary(tag_type = tag_type)\n",
        "print(tag_dictionary.idx2item)"
      ],
      "execution_count": 25,
      "outputs": [
        {
          "output_type": "stream",
          "text": [
            "[b'<unk>', b'O', b'S-person', b'S-corporation', b'S-location', b'B-group', b'E-group', b'B-creative-work', b'I-creative-work', b'E-creative-work', b'S-group', b'B-person', b'E-person', b'B-location', b'I-location', b'E-location', b'B-product', b'E-product', b'S-creative-work', b'I-product', b'S-product', b'I-group', b'B-corporation', b'E-corporation', b'I-person', b'<START>', b'<STOP>']\n"
          ],
          "name": "stdout"
        }
      ]
    },
    {
      "cell_type": "code",
      "metadata": {
        "id": "fPvzLMovp6wd",
        "colab_type": "code",
        "colab": {}
      },
      "source": [
        "# 4. initialize embeddings\n",
        "\n",
        "embedding_types: List[TokenEmbeddings] = [\n",
        "                                          WordEmbeddings('glove'),\n",
        "                                          CharacterEmbeddings(),\n",
        "                                          FlairEmbeddings('news-forward'),\n",
        "                                          FlairEmbeddings('news-backward')\n",
        "]\n",
        "\n",
        "embeddings: StackedEmbeddings = StackedEmbeddings(embeddings = embedding_types)"
      ],
      "execution_count": 0,
      "outputs": []
    },
    {
      "cell_type": "code",
      "metadata": {
        "id": "NdPgEPD5qh-L",
        "colab_type": "code",
        "colab": {}
      },
      "source": [
        "# 5. initialize sequence tagger\n",
        "\n",
        "from flair.models import SequenceTagger\n",
        "\n",
        "tagger: SequenceTagger = SequenceTagger(hidden_size = 256,\n",
        "                                        embeddings = embeddings,\n",
        "                                        tag_dictionary = tag_dictionary,\n",
        "                                        tag_type = tag_type,\n",
        "                                        use_crf = True)"
      ],
      "execution_count": 0,
      "outputs": []
    },
    {
      "cell_type": "code",
      "metadata": {
        "id": "_p37ILpqrSSs",
        "colab_type": "code",
        "colab": {}
      },
      "source": [
        "# 6. initialize trainer\n",
        "\n",
        "from flair.trainers import ModelTrainer\n",
        "\n",
        "trainer: ModelTrainer = ModelTrainer(tagger, corpus)"
      ],
      "execution_count": 0,
      "outputs": []
    },
    {
      "cell_type": "code",
      "metadata": {
        "id": "tbA0JPhnrbrU",
        "colab_type": "code",
        "colab": {
          "base_uri": "https://localhost:8080/",
          "height": 1000
        },
        "outputId": "14eea230-909e-41ae-f6ad-fe87cded1f11"
      },
      "source": [
        "# 7. start training\n",
        "\n",
        "trainer.train('resources/taggers/example-ner',\n",
        "              learning_rate = 0.1,\n",
        "              mini_batch_size = 32,\n",
        "              max_epochs = 150)"
      ],
      "execution_count": 29,
      "outputs": [
        {
          "output_type": "stream",
          "text": [
            "2019-12-20 09:41:47,082 ----------------------------------------------------------------------------------------------------\n",
            "2019-12-20 09:41:47,084 Model: \"SequenceTagger(\n",
            "  (embeddings): StackedEmbeddings(\n",
            "    (list_embedding_0): WordEmbeddings('glove')\n",
            "    (list_embedding_1): CharacterEmbeddings(\n",
            "      (char_embedding): Embedding(275, 25)\n",
            "      (char_rnn): LSTM(25, 25, bidirectional=True)\n",
            "    )\n",
            "    (list_embedding_2): FlairEmbeddings(\n",
            "      (lm): LanguageModel(\n",
            "        (drop): Dropout(p=0.05, inplace=False)\n",
            "        (encoder): Embedding(300, 100)\n",
            "        (rnn): LSTM(100, 2048)\n",
            "        (decoder): Linear(in_features=2048, out_features=300, bias=True)\n",
            "      )\n",
            "    )\n",
            "    (list_embedding_3): FlairEmbeddings(\n",
            "      (lm): LanguageModel(\n",
            "        (drop): Dropout(p=0.05, inplace=False)\n",
            "        (encoder): Embedding(300, 100)\n",
            "        (rnn): LSTM(100, 2048)\n",
            "        (decoder): Linear(in_features=2048, out_features=300, bias=True)\n",
            "      )\n",
            "    )\n",
            "  )\n",
            "  (word_dropout): WordDropout(p=0.05)\n",
            "  (locked_dropout): LockedDropout(p=0.5)\n",
            "  (embedding2nn): Linear(in_features=4246, out_features=4246, bias=True)\n",
            "  (rnn): LSTM(4246, 256, batch_first=True, bidirectional=True)\n",
            "  (linear): Linear(in_features=512, out_features=27, bias=True)\n",
            ")\"\n",
            "2019-12-20 09:41:47,085 ----------------------------------------------------------------------------------------------------\n",
            "2019-12-20 09:41:47,086 Corpus: \"Corpus: 339 train + 101 dev + 129 test sentences\"\n",
            "2019-12-20 09:41:47,090 ----------------------------------------------------------------------------------------------------\n",
            "2019-12-20 09:41:47,092 Parameters:\n",
            "2019-12-20 09:41:47,096  - learning_rate: \"0.1\"\n",
            "2019-12-20 09:41:47,101  - mini_batch_size: \"32\"\n",
            "2019-12-20 09:41:47,102  - patience: \"3\"\n",
            "2019-12-20 09:41:47,104  - anneal_factor: \"0.5\"\n",
            "2019-12-20 09:41:47,105  - max_epochs: \"150\"\n",
            "2019-12-20 09:41:47,106  - shuffle: \"True\"\n",
            "2019-12-20 09:41:47,107  - train_with_dev: \"False\"\n",
            "2019-12-20 09:41:47,108  - batch_growth_annealing: \"False\"\n",
            "2019-12-20 09:41:47,109 ----------------------------------------------------------------------------------------------------\n",
            "2019-12-20 09:41:47,110 Model training base path: \"resources/taggers/example-ner\"\n",
            "2019-12-20 09:41:47,111 ----------------------------------------------------------------------------------------------------\n",
            "2019-12-20 09:41:47,114 Device: cuda:0\n",
            "2019-12-20 09:41:47,115 ----------------------------------------------------------------------------------------------------\n",
            "2019-12-20 09:41:47,116 Embeddings storage mode: cpu\n",
            "2019-12-20 09:41:47,119 ----------------------------------------------------------------------------------------------------\n",
            "2019-12-20 09:41:47,775 epoch 1 - iter 0/11 - loss 72.48292542 - samples/sec: 48.91\n",
            "2019-12-20 09:41:48,453 epoch 1 - iter 1/11 - loss 67.01782990 - samples/sec: 48.91\n",
            "2019-12-20 09:41:49,113 epoch 1 - iter 2/11 - loss 55.77777863 - samples/sec: 50.26\n",
            "2019-12-20 09:41:49,846 epoch 1 - iter 3/11 - loss 45.30600595 - samples/sec: 44.83\n",
            "2019-12-20 09:41:50,608 epoch 1 - iter 4/11 - loss 38.84412384 - samples/sec: 43.44\n",
            "2019-12-20 09:41:51,243 epoch 1 - iter 5/11 - loss 34.06666565 - samples/sec: 52.09\n",
            "2019-12-20 09:41:51,881 epoch 1 - iter 6/11 - loss 30.50523404 - samples/sec: 51.97\n",
            "2019-12-20 09:41:52,525 epoch 1 - iter 7/11 - loss 27.40225291 - samples/sec: 51.94\n",
            "2019-12-20 09:41:53,289 epoch 1 - iter 8/11 - loss 24.73971128 - samples/sec: 42.96\n",
            "2019-12-20 09:41:54,001 epoch 1 - iter 9/11 - loss 22.63521452 - samples/sec: 46.26\n",
            "2019-12-20 09:41:54,494 epoch 1 - iter 10/11 - loss 21.27047491 - samples/sec: 68.10\n",
            "2019-12-20 09:41:54,514 ----------------------------------------------------------------------------------------------------\n",
            "2019-12-20 09:41:54,514 EPOCH 1 done: loss 21.2705 - lr 0.1000\n",
            "2019-12-20 09:41:55,836 DEV : loss 7.927175521850586 - score 0.0\n",
            "2019-12-20 09:41:55,844 BAD EPOCHS (no improvement): 0\n"
          ],
          "name": "stdout"
        },
        {
          "output_type": "stream",
          "text": [
            "/usr/local/lib/python3.6/dist-packages/torch/serialization.py:292: UserWarning: Couldn't retrieve source code for container of type CharacterEmbeddings. It won't be checked for correctness upon loading.\n",
            "  \"type \" + obj.__name__ + \". It won't be checked \"\n",
            "/usr/local/lib/python3.6/dist-packages/torch/serialization.py:292: UserWarning: Couldn't retrieve source code for container of type Embedding. It won't be checked for correctness upon loading.\n",
            "  \"type \" + obj.__name__ + \". It won't be checked \"\n",
            "/usr/local/lib/python3.6/dist-packages/torch/serialization.py:292: UserWarning: Couldn't retrieve source code for container of type LSTM. It won't be checked for correctness upon loading.\n",
            "  \"type \" + obj.__name__ + \". It won't be checked \"\n",
            "/usr/local/lib/python3.6/dist-packages/torch/serialization.py:292: UserWarning: Couldn't retrieve source code for container of type FlairEmbeddings. It won't be checked for correctness upon loading.\n",
            "  \"type \" + obj.__name__ + \". It won't be checked \"\n",
            "/usr/local/lib/python3.6/dist-packages/torch/serialization.py:292: UserWarning: Couldn't retrieve source code for container of type LanguageModel. It won't be checked for correctness upon loading.\n",
            "  \"type \" + obj.__name__ + \". It won't be checked \"\n",
            "/usr/local/lib/python3.6/dist-packages/torch/serialization.py:292: UserWarning: Couldn't retrieve source code for container of type Dropout. It won't be checked for correctness upon loading.\n",
            "  \"type \" + obj.__name__ + \". It won't be checked \"\n",
            "/usr/local/lib/python3.6/dist-packages/torch/serialization.py:292: UserWarning: Couldn't retrieve source code for container of type Linear. It won't be checked for correctness upon loading.\n",
            "  \"type \" + obj.__name__ + \". It won't be checked \"\n"
          ],
          "name": "stderr"
        },
        {
          "output_type": "stream",
          "text": [
            "2019-12-20 09:41:59,649 ----------------------------------------------------------------------------------------------------\n",
            "2019-12-20 09:42:00,276 epoch 2 - iter 0/11 - loss 5.74708271 - samples/sec: 51.24\n",
            "2019-12-20 09:42:00,847 epoch 2 - iter 1/11 - loss 7.79414034 - samples/sec: 58.18\n",
            "2019-12-20 09:42:01,406 epoch 2 - iter 2/11 - loss 7.05106258 - samples/sec: 59.26\n",
            "2019-12-20 09:42:01,989 epoch 2 - iter 3/11 - loss 7.41693592 - samples/sec: 56.82\n",
            "2019-12-20 09:42:02,511 epoch 2 - iter 4/11 - loss 7.37949333 - samples/sec: 63.88\n",
            "2019-12-20 09:42:02,986 epoch 2 - iter 5/11 - loss 7.44109654 - samples/sec: 70.16\n",
            "2019-12-20 09:42:03,605 epoch 2 - iter 6/11 - loss 7.02841030 - samples/sec: 53.41\n",
            "2019-12-20 09:42:04,154 epoch 2 - iter 7/11 - loss 7.40785843 - samples/sec: 60.98\n",
            "2019-12-20 09:42:04,748 epoch 2 - iter 8/11 - loss 7.17347055 - samples/sec: 55.67\n",
            "2019-12-20 09:42:05,258 epoch 2 - iter 9/11 - loss 6.99419026 - samples/sec: 65.69\n",
            "2019-12-20 09:42:05,584 epoch 2 - iter 10/11 - loss 6.99912370 - samples/sec: 104.55\n",
            "2019-12-20 09:42:05,604 ----------------------------------------------------------------------------------------------------\n",
            "2019-12-20 09:42:05,605 EPOCH 2 done: loss 6.9991 - lr 0.1000\n",
            "2019-12-20 09:42:06,134 DEV : loss 7.126021862030029 - score 0.0\n",
            "2019-12-20 09:42:06,143 BAD EPOCHS (no improvement): 1\n",
            "2019-12-20 09:42:09,839 ----------------------------------------------------------------------------------------------------\n",
            "2019-12-20 09:42:10,425 epoch 3 - iter 0/11 - loss 7.18553686 - samples/sec: 54.74\n",
            "2019-12-20 09:42:10,952 epoch 3 - iter 1/11 - loss 7.15768504 - samples/sec: 63.82\n",
            "2019-12-20 09:42:11,497 epoch 3 - iter 2/11 - loss 7.42720095 - samples/sec: 61.27\n",
            "2019-12-20 09:42:12,076 epoch 3 - iter 3/11 - loss 6.82615113 - samples/sec: 57.28\n",
            "2019-12-20 09:42:12,599 epoch 3 - iter 4/11 - loss 6.69814844 - samples/sec: 63.52\n",
            "2019-12-20 09:42:13,140 epoch 3 - iter 5/11 - loss 6.55266110 - samples/sec: 61.38\n",
            "2019-12-20 09:42:13,686 epoch 3 - iter 6/11 - loss 6.53391647 - samples/sec: 60.89\n",
            "2019-12-20 09:42:14,245 epoch 3 - iter 7/11 - loss 6.76113534 - samples/sec: 59.59\n",
            "2019-12-20 09:42:14,803 epoch 3 - iter 8/11 - loss 6.52520699 - samples/sec: 59.51\n",
            "2019-12-20 09:42:15,349 epoch 3 - iter 9/11 - loss 6.25595083 - samples/sec: 60.80\n",
            "2019-12-20 09:42:15,681 epoch 3 - iter 10/11 - loss 5.84971349 - samples/sec: 102.51\n",
            "2019-12-20 09:42:15,701 ----------------------------------------------------------------------------------------------------\n",
            "2019-12-20 09:42:15,702 EPOCH 3 done: loss 5.8497 - lr 0.1000\n",
            "2019-12-20 09:42:16,282 DEV : loss 8.453150749206543 - score 0.0\n",
            "2019-12-20 09:42:16,291 BAD EPOCHS (no improvement): 2\n",
            "2019-12-20 09:42:19,996 ----------------------------------------------------------------------------------------------------\n",
            "2019-12-20 09:42:20,511 epoch 4 - iter 0/11 - loss 4.10892296 - samples/sec: 62.26\n",
            "2019-12-20 09:42:21,042 epoch 4 - iter 1/11 - loss 5.92582440 - samples/sec: 62.83\n",
            "2019-12-20 09:42:21,634 epoch 4 - iter 2/11 - loss 6.08392604 - samples/sec: 56.23\n",
            "2019-12-20 09:42:22,217 epoch 4 - iter 3/11 - loss 5.96349561 - samples/sec: 57.13\n",
            "2019-12-20 09:42:22,776 epoch 4 - iter 4/11 - loss 5.88748741 - samples/sec: 59.70\n",
            "2019-12-20 09:42:23,327 epoch 4 - iter 5/11 - loss 5.89046470 - samples/sec: 60.23\n",
            "2019-12-20 09:42:23,964 epoch 4 - iter 6/11 - loss 5.93653767 - samples/sec: 52.36\n",
            "2019-12-20 09:42:24,531 epoch 4 - iter 7/11 - loss 5.96850413 - samples/sec: 59.18\n",
            "2019-12-20 09:42:25,073 epoch 4 - iter 8/11 - loss 5.93927129 - samples/sec: 61.41\n",
            "2019-12-20 09:42:25,658 epoch 4 - iter 9/11 - loss 5.59461169 - samples/sec: 56.57\n",
            "2019-12-20 09:42:25,997 epoch 4 - iter 10/11 - loss 5.56253312 - samples/sec: 100.30\n",
            "2019-12-20 09:42:26,017 ----------------------------------------------------------------------------------------------------\n",
            "2019-12-20 09:42:26,018 EPOCH 4 done: loss 5.5625 - lr 0.1000\n",
            "2019-12-20 09:42:26,570 DEV : loss 6.363003730773926 - score 0.0444\n",
            "2019-12-20 09:42:26,578 BAD EPOCHS (no improvement): 0\n",
            "2019-12-20 09:42:30,394 ----------------------------------------------------------------------------------------------------\n",
            "2019-12-20 09:42:30,955 epoch 5 - iter 0/11 - loss 3.90341187 - samples/sec: 57.23\n",
            "2019-12-20 09:42:31,498 epoch 5 - iter 1/11 - loss 5.20776081 - samples/sec: 61.64\n",
            "2019-12-20 09:42:32,117 epoch 5 - iter 2/11 - loss 4.70541890 - samples/sec: 53.62\n",
            "2019-12-20 09:42:32,807 epoch 5 - iter 3/11 - loss 4.52454889 - samples/sec: 48.35\n",
            "2019-12-20 09:42:33,462 epoch 5 - iter 4/11 - loss 4.90439949 - samples/sec: 50.72\n",
            "2019-12-20 09:42:34,118 epoch 5 - iter 5/11 - loss 5.41723442 - samples/sec: 50.64\n",
            "2019-12-20 09:42:34,697 epoch 5 - iter 6/11 - loss 5.62401431 - samples/sec: 57.51\n",
            "2019-12-20 09:42:35,215 epoch 5 - iter 7/11 - loss 5.53383267 - samples/sec: 64.50\n",
            "2019-12-20 09:42:35,740 epoch 5 - iter 8/11 - loss 5.46491623 - samples/sec: 63.71\n",
            "2019-12-20 09:42:36,248 epoch 5 - iter 9/11 - loss 5.49382982 - samples/sec: 66.01\n",
            "2019-12-20 09:42:36,682 epoch 5 - iter 10/11 - loss 5.45948644 - samples/sec: 77.42\n",
            "2019-12-20 09:42:36,701 ----------------------------------------------------------------------------------------------------\n",
            "2019-12-20 09:42:36,702 EPOCH 5 done: loss 5.4595 - lr 0.1000\n",
            "2019-12-20 09:42:37,264 DEV : loss 7.752490997314453 - score 0.0\n",
            "2019-12-20 09:42:37,273 BAD EPOCHS (no improvement): 1\n",
            "2019-12-20 09:42:37,273 ----------------------------------------------------------------------------------------------------\n",
            "2019-12-20 09:42:37,790 epoch 6 - iter 0/11 - loss 4.31827259 - samples/sec: 62.07\n",
            "2019-12-20 09:42:38,377 epoch 6 - iter 1/11 - loss 5.55481911 - samples/sec: 56.38\n",
            "2019-12-20 09:42:38,936 epoch 6 - iter 2/11 - loss 5.26068004 - samples/sec: 59.41\n",
            "2019-12-20 09:42:39,593 epoch 6 - iter 3/11 - loss 4.85323232 - samples/sec: 50.18\n",
            "2019-12-20 09:42:40,116 epoch 6 - iter 4/11 - loss 5.11540313 - samples/sec: 64.77\n",
            "2019-12-20 09:42:40,652 epoch 6 - iter 5/11 - loss 5.16233456 - samples/sec: 62.04\n",
            "2019-12-20 09:42:41,187 epoch 6 - iter 6/11 - loss 5.19290090 - samples/sec: 62.48\n",
            "2019-12-20 09:42:41,714 epoch 6 - iter 7/11 - loss 5.17958269 - samples/sec: 64.98\n",
            "2019-12-20 09:42:42,244 epoch 6 - iter 8/11 - loss 5.14541719 - samples/sec: 62.98\n",
            "2019-12-20 09:42:42,841 epoch 6 - iter 9/11 - loss 5.16020191 - samples/sec: 56.03\n",
            "2019-12-20 09:42:43,170 epoch 6 - iter 10/11 - loss 5.00767985 - samples/sec: 104.38\n",
            "2019-12-20 09:42:43,191 ----------------------------------------------------------------------------------------------------\n",
            "2019-12-20 09:42:43,193 EPOCH 6 done: loss 5.0077 - lr 0.1000\n",
            "2019-12-20 09:42:43,736 DEV : loss 7.398262977600098 - score 0.0482\n",
            "2019-12-20 09:42:43,745 BAD EPOCHS (no improvement): 0\n",
            "2019-12-20 09:42:47,443 ----------------------------------------------------------------------------------------------------\n",
            "2019-12-20 09:42:48,014 epoch 7 - iter 0/11 - loss 7.00671864 - samples/sec: 56.46\n",
            "2019-12-20 09:42:48,591 epoch 7 - iter 1/11 - loss 5.58169174 - samples/sec: 57.65\n",
            "2019-12-20 09:42:49,204 epoch 7 - iter 2/11 - loss 5.38262177 - samples/sec: 54.33\n",
            "2019-12-20 09:42:49,722 epoch 7 - iter 3/11 - loss 5.21026325 - samples/sec: 64.40\n",
            "2019-12-20 09:42:50,296 epoch 7 - iter 4/11 - loss 4.47026696 - samples/sec: 57.96\n",
            "2019-12-20 09:42:50,868 epoch 7 - iter 5/11 - loss 4.29982849 - samples/sec: 58.23\n",
            "2019-12-20 09:42:51,460 epoch 7 - iter 6/11 - loss 4.47589667 - samples/sec: 56.89\n",
            "2019-12-20 09:42:52,073 epoch 7 - iter 7/11 - loss 4.69628641 - samples/sec: 54.40\n",
            "2019-12-20 09:42:52,707 epoch 7 - iter 8/11 - loss 4.83556475 - samples/sec: 52.76\n",
            "2019-12-20 09:42:53,181 epoch 7 - iter 9/11 - loss 4.82837870 - samples/sec: 70.81\n",
            "2019-12-20 09:42:53,538 epoch 7 - iter 10/11 - loss 4.54161359 - samples/sec: 95.25\n",
            "2019-12-20 09:42:53,558 ----------------------------------------------------------------------------------------------------\n",
            "2019-12-20 09:42:53,559 EPOCH 7 done: loss 4.5416 - lr 0.1000\n",
            "2019-12-20 09:42:54,146 DEV : loss 8.017675399780273 - score 0.0482\n",
            "2019-12-20 09:42:54,156 BAD EPOCHS (no improvement): 1\n",
            "2019-12-20 09:42:57,909 ----------------------------------------------------------------------------------------------------\n",
            "2019-12-20 09:42:58,598 epoch 8 - iter 0/11 - loss 7.12216282 - samples/sec: 46.61\n",
            "2019-12-20 09:42:59,199 epoch 8 - iter 1/11 - loss 5.49070740 - samples/sec: 55.69\n",
            "2019-12-20 09:42:59,804 epoch 8 - iter 2/11 - loss 4.92837413 - samples/sec: 55.09\n",
            "2019-12-20 09:43:00,491 epoch 8 - iter 3/11 - loss 4.28685153 - samples/sec: 48.31\n",
            "2019-12-20 09:43:01,124 epoch 8 - iter 4/11 - loss 4.45213213 - samples/sec: 52.79\n",
            "2019-12-20 09:43:01,691 epoch 8 - iter 5/11 - loss 4.33849478 - samples/sec: 59.81\n",
            "2019-12-20 09:43:02,212 epoch 8 - iter 6/11 - loss 4.13651923 - samples/sec: 64.49\n",
            "2019-12-20 09:43:02,741 epoch 8 - iter 7/11 - loss 4.07048184 - samples/sec: 63.00\n",
            "2019-12-20 09:43:03,307 epoch 8 - iter 8/11 - loss 4.09816662 - samples/sec: 58.55\n",
            "2019-12-20 09:43:03,828 epoch 8 - iter 9/11 - loss 4.31694813 - samples/sec: 64.09\n",
            "2019-12-20 09:43:04,211 epoch 8 - iter 10/11 - loss 4.21418912 - samples/sec: 88.23\n",
            "2019-12-20 09:43:04,232 ----------------------------------------------------------------------------------------------------\n",
            "2019-12-20 09:43:04,233 EPOCH 8 done: loss 4.2142 - lr 0.1000\n",
            "2019-12-20 09:43:04,807 DEV : loss 7.052605628967285 - score 0.069\n",
            "2019-12-20 09:43:04,815 BAD EPOCHS (no improvement): 0\n",
            "2019-12-20 09:43:08,487 ----------------------------------------------------------------------------------------------------\n",
            "2019-12-20 09:43:09,035 epoch 9 - iter 0/11 - loss 6.54659367 - samples/sec: 58.54\n",
            "2019-12-20 09:43:09,607 epoch 9 - iter 1/11 - loss 4.90368176 - samples/sec: 58.38\n",
            "2019-12-20 09:43:10,181 epoch 9 - iter 2/11 - loss 4.96364069 - samples/sec: 58.08\n",
            "2019-12-20 09:43:10,752 epoch 9 - iter 3/11 - loss 5.16376889 - samples/sec: 58.20\n",
            "2019-12-20 09:43:11,297 epoch 9 - iter 4/11 - loss 4.56815262 - samples/sec: 61.34\n",
            "2019-12-20 09:43:11,860 epoch 9 - iter 5/11 - loss 4.38710165 - samples/sec: 59.19\n",
            "2019-12-20 09:43:12,493 epoch 9 - iter 6/11 - loss 4.24417288 - samples/sec: 52.69\n",
            "2019-12-20 09:43:13,102 epoch 9 - iter 7/11 - loss 4.02376986 - samples/sec: 55.15\n",
            "2019-12-20 09:43:13,602 epoch 9 - iter 8/11 - loss 4.13369290 - samples/sec: 67.24\n",
            "2019-12-20 09:43:14,156 epoch 9 - iter 9/11 - loss 4.19542437 - samples/sec: 60.27\n",
            "2019-12-20 09:43:14,505 epoch 9 - iter 10/11 - loss 4.23945648 - samples/sec: 97.82\n",
            "2019-12-20 09:43:14,525 ----------------------------------------------------------------------------------------------------\n",
            "2019-12-20 09:43:14,527 EPOCH 9 done: loss 4.2395 - lr 0.1000\n",
            "2019-12-20 09:43:15,056 DEV : loss 6.830796241760254 - score 0.0706\n",
            "2019-12-20 09:43:15,065 BAD EPOCHS (no improvement): 0\n",
            "2019-12-20 09:43:18,827 ----------------------------------------------------------------------------------------------------\n",
            "2019-12-20 09:43:19,397 epoch 10 - iter 0/11 - loss 4.08327866 - samples/sec: 56.69\n",
            "2019-12-20 09:43:19,941 epoch 10 - iter 1/11 - loss 4.07729292 - samples/sec: 61.33\n",
            "2019-12-20 09:43:20,488 epoch 10 - iter 2/11 - loss 3.59102964 - samples/sec: 61.33\n",
            "2019-12-20 09:43:20,987 epoch 10 - iter 3/11 - loss 3.17343634 - samples/sec: 67.02\n",
            "2019-12-20 09:43:21,498 epoch 10 - iter 4/11 - loss 3.38523183 - samples/sec: 65.50\n",
            "2019-12-20 09:43:22,101 epoch 10 - iter 5/11 - loss 3.54191848 - samples/sec: 54.85\n",
            "2019-12-20 09:43:22,703 epoch 10 - iter 6/11 - loss 3.65216667 - samples/sec: 55.56\n",
            "2019-12-20 09:43:23,258 epoch 10 - iter 7/11 - loss 3.61760506 - samples/sec: 59.90\n",
            "2019-12-20 09:43:23,820 epoch 10 - iter 8/11 - loss 3.76216430 - samples/sec: 59.04\n",
            "2019-12-20 09:43:24,381 epoch 10 - iter 9/11 - loss 3.89334471 - samples/sec: 59.14\n",
            "2019-12-20 09:43:24,762 epoch 10 - iter 10/11 - loss 3.80599774 - samples/sec: 88.77\n",
            "2019-12-20 09:43:24,786 ----------------------------------------------------------------------------------------------------\n",
            "2019-12-20 09:43:24,787 EPOCH 10 done: loss 3.8060 - lr 0.1000\n",
            "2019-12-20 09:43:25,373 DEV : loss 7.399835586547852 - score 0.0482\n",
            "2019-12-20 09:43:25,381 BAD EPOCHS (no improvement): 1\n",
            "2019-12-20 09:43:25,382 ----------------------------------------------------------------------------------------------------\n",
            "2019-12-20 09:43:25,979 epoch 11 - iter 0/11 - loss 4.86247873 - samples/sec: 53.68\n",
            "2019-12-20 09:43:26,648 epoch 11 - iter 1/11 - loss 3.90957725 - samples/sec: 49.72\n",
            "2019-12-20 09:43:27,280 epoch 11 - iter 2/11 - loss 3.23536837 - samples/sec: 53.22\n",
            "2019-12-20 09:43:27,871 epoch 11 - iter 3/11 - loss 3.60038170 - samples/sec: 56.40\n",
            "2019-12-20 09:43:28,524 epoch 11 - iter 4/11 - loss 3.32471225 - samples/sec: 51.13\n",
            "2019-12-20 09:43:29,161 epoch 11 - iter 5/11 - loss 3.31750792 - samples/sec: 52.25\n",
            "2019-12-20 09:43:29,739 epoch 11 - iter 6/11 - loss 3.21494091 - samples/sec: 57.27\n",
            "2019-12-20 09:43:30,257 epoch 11 - iter 7/11 - loss 3.28053422 - samples/sec: 64.97\n",
            "2019-12-20 09:43:30,786 epoch 11 - iter 8/11 - loss 3.55187476 - samples/sec: 63.16\n",
            "2019-12-20 09:43:31,317 epoch 11 - iter 9/11 - loss 3.54780499 - samples/sec: 63.70\n",
            "2019-12-20 09:43:31,666 epoch 11 - iter 10/11 - loss 3.72693561 - samples/sec: 97.26\n",
            "2019-12-20 09:43:31,685 ----------------------------------------------------------------------------------------------------\n",
            "2019-12-20 09:43:31,685 EPOCH 11 done: loss 3.7269 - lr 0.1000\n",
            "2019-12-20 09:43:32,218 DEV : loss 6.568285942077637 - score 0.0899\n",
            "2019-12-20 09:43:32,226 BAD EPOCHS (no improvement): 0\n",
            "2019-12-20 09:43:36,051 ----------------------------------------------------------------------------------------------------\n",
            "2019-12-20 09:43:36,610 epoch 12 - iter 0/11 - loss 4.01654959 - samples/sec: 57.37\n",
            "2019-12-20 09:43:37,225 epoch 12 - iter 1/11 - loss 4.10400248 - samples/sec: 54.11\n",
            "2019-12-20 09:43:37,768 epoch 12 - iter 2/11 - loss 3.98871398 - samples/sec: 61.52\n",
            "2019-12-20 09:43:38,300 epoch 12 - iter 3/11 - loss 3.99360043 - samples/sec: 62.47\n",
            "2019-12-20 09:43:38,883 epoch 12 - iter 4/11 - loss 3.79439807 - samples/sec: 57.29\n",
            "2019-12-20 09:43:39,420 epoch 12 - iter 5/11 - loss 3.57694797 - samples/sec: 62.13\n",
            "2019-12-20 09:43:39,967 epoch 12 - iter 6/11 - loss 3.61633263 - samples/sec: 61.11\n",
            "2019-12-20 09:43:40,505 epoch 12 - iter 7/11 - loss 3.52668437 - samples/sec: 62.05\n",
            "2019-12-20 09:43:40,990 epoch 12 - iter 8/11 - loss 3.44031453 - samples/sec: 68.90\n",
            "2019-12-20 09:43:41,579 epoch 12 - iter 9/11 - loss 3.51699364 - samples/sec: 56.19\n",
            "2019-12-20 09:43:41,979 epoch 12 - iter 10/11 - loss 3.59113600 - samples/sec: 85.37\n",
            "2019-12-20 09:43:42,002 ----------------------------------------------------------------------------------------------------\n",
            "2019-12-20 09:43:42,003 EPOCH 12 done: loss 3.5911 - lr 0.1000\n",
            "2019-12-20 09:43:42,610 DEV : loss 5.462261199951172 - score 0.3269\n",
            "2019-12-20 09:43:42,619 BAD EPOCHS (no improvement): 0\n",
            "2019-12-20 09:43:46,356 ----------------------------------------------------------------------------------------------------\n",
            "2019-12-20 09:43:46,906 epoch 13 - iter 0/11 - loss 2.98287344 - samples/sec: 58.58\n",
            "2019-12-20 09:43:47,447 epoch 13 - iter 1/11 - loss 2.95408511 - samples/sec: 61.78\n",
            "2019-12-20 09:43:48,024 epoch 13 - iter 2/11 - loss 3.52491506 - samples/sec: 57.59\n",
            "2019-12-20 09:43:48,524 epoch 13 - iter 3/11 - loss 3.34291768 - samples/sec: 67.00\n",
            "2019-12-20 09:43:49,100 epoch 13 - iter 4/11 - loss 3.08133430 - samples/sec: 57.58\n",
            "2019-12-20 09:43:49,743 epoch 13 - iter 5/11 - loss 3.59622272 - samples/sec: 51.64\n",
            "2019-12-20 09:43:50,336 epoch 13 - iter 6/11 - loss 3.61770269 - samples/sec: 56.08\n",
            "2019-12-20 09:43:50,883 epoch 13 - iter 7/11 - loss 3.46838537 - samples/sec: 62.07\n",
            "2019-12-20 09:43:51,444 epoch 13 - iter 8/11 - loss 3.49863169 - samples/sec: 59.16\n",
            "2019-12-20 09:43:51,982 epoch 13 - iter 9/11 - loss 3.49252620 - samples/sec: 61.83\n",
            "2019-12-20 09:43:52,312 epoch 13 - iter 10/11 - loss 3.38495465 - samples/sec: 103.85\n",
            "2019-12-20 09:43:52,332 ----------------------------------------------------------------------------------------------------\n",
            "2019-12-20 09:43:52,333 EPOCH 13 done: loss 3.3850 - lr 0.1000\n",
            "2019-12-20 09:43:52,865 DEV : loss 7.079689025878906 - score 0.092\n",
            "2019-12-20 09:43:52,873 BAD EPOCHS (no improvement): 1\n",
            "2019-12-20 09:43:52,874 ----------------------------------------------------------------------------------------------------\n",
            "2019-12-20 09:43:53,397 epoch 14 - iter 0/11 - loss 2.13304424 - samples/sec: 61.32\n",
            "2019-12-20 09:43:53,904 epoch 14 - iter 1/11 - loss 2.46744347 - samples/sec: 65.64\n",
            "2019-12-20 09:43:54,446 epoch 14 - iter 2/11 - loss 2.87068462 - samples/sec: 61.20\n",
            "2019-12-20 09:43:54,973 epoch 14 - iter 3/11 - loss 3.20055580 - samples/sec: 63.98\n",
            "2019-12-20 09:43:55,530 epoch 14 - iter 4/11 - loss 3.12712650 - samples/sec: 59.75\n",
            "2019-12-20 09:43:56,080 epoch 14 - iter 5/11 - loss 3.28769652 - samples/sec: 60.92\n",
            "2019-12-20 09:43:56,650 epoch 14 - iter 6/11 - loss 3.27512448 - samples/sec: 58.35\n",
            "2019-12-20 09:43:57,131 epoch 14 - iter 7/11 - loss 3.20746034 - samples/sec: 69.61\n",
            "2019-12-20 09:43:57,731 epoch 14 - iter 8/11 - loss 3.30691528 - samples/sec: 55.24\n",
            "2019-12-20 09:43:58,347 epoch 14 - iter 9/11 - loss 3.29393756 - samples/sec: 53.67\n",
            "2019-12-20 09:43:58,746 epoch 14 - iter 10/11 - loss 3.05729614 - samples/sec: 86.53\n",
            "2019-12-20 09:43:58,766 ----------------------------------------------------------------------------------------------------\n",
            "2019-12-20 09:43:58,767 EPOCH 14 done: loss 3.0573 - lr 0.1000\n",
            "2019-12-20 09:43:59,301 DEV : loss 6.561973571777344 - score 0.2424\n",
            "2019-12-20 09:43:59,309 BAD EPOCHS (no improvement): 2\n",
            "2019-12-20 09:43:59,310 ----------------------------------------------------------------------------------------------------\n",
            "2019-12-20 09:43:59,817 epoch 15 - iter 0/11 - loss 3.16609430 - samples/sec: 63.58\n",
            "2019-12-20 09:44:00,349 epoch 15 - iter 1/11 - loss 3.00983763 - samples/sec: 62.38\n",
            "2019-12-20 09:44:00,939 epoch 15 - iter 2/11 - loss 3.53341007 - samples/sec: 56.09\n",
            "2019-12-20 09:44:01,444 epoch 15 - iter 3/11 - loss 3.61650574 - samples/sec: 66.40\n",
            "2019-12-20 09:44:01,993 epoch 15 - iter 4/11 - loss 3.34500995 - samples/sec: 60.40\n",
            "2019-12-20 09:44:02,547 epoch 15 - iter 5/11 - loss 3.30390048 - samples/sec: 60.10\n",
            "2019-12-20 09:44:03,213 epoch 15 - iter 6/11 - loss 3.46433490 - samples/sec: 49.53\n",
            "2019-12-20 09:44:03,859 epoch 15 - iter 7/11 - loss 3.31215650 - samples/sec: 51.19\n",
            "2019-12-20 09:44:04,453 epoch 15 - iter 8/11 - loss 3.35593976 - samples/sec: 56.52\n",
            "2019-12-20 09:44:05,094 epoch 15 - iter 9/11 - loss 3.29917359 - samples/sec: 51.53\n",
            "2019-12-20 09:44:05,454 epoch 15 - iter 10/11 - loss 3.22085818 - samples/sec: 94.47\n",
            "2019-12-20 09:44:05,474 ----------------------------------------------------------------------------------------------------\n",
            "2019-12-20 09:44:05,476 EPOCH 15 done: loss 3.2209 - lr 0.1000\n",
            "2019-12-20 09:44:06,073 DEV : loss 5.958051681518555 - score 0.3396\n",
            "2019-12-20 09:44:06,083 BAD EPOCHS (no improvement): 0\n",
            "2019-12-20 09:44:09,838 ----------------------------------------------------------------------------------------------------\n",
            "2019-12-20 09:44:10,518 epoch 16 - iter 0/11 - loss 5.15236044 - samples/sec: 47.18\n",
            "2019-12-20 09:44:11,151 epoch 16 - iter 1/11 - loss 4.11281562 - samples/sec: 52.81\n",
            "2019-12-20 09:44:11,779 epoch 16 - iter 2/11 - loss 4.28814046 - samples/sec: 53.51\n",
            "2019-12-20 09:44:12,464 epoch 16 - iter 3/11 - loss 3.77252591 - samples/sec: 48.65\n",
            "2019-12-20 09:44:13,040 epoch 16 - iter 4/11 - loss 3.66097236 - samples/sec: 58.18\n",
            "2019-12-20 09:44:13,548 epoch 16 - iter 5/11 - loss 3.52573748 - samples/sec: 65.88\n",
            "2019-12-20 09:44:14,097 epoch 16 - iter 6/11 - loss 3.37433560 - samples/sec: 60.92\n",
            "2019-12-20 09:44:14,779 epoch 16 - iter 7/11 - loss 3.28707251 - samples/sec: 48.59\n",
            "2019-12-20 09:44:15,372 epoch 16 - iter 8/11 - loss 3.27177082 - samples/sec: 56.35\n",
            "2019-12-20 09:44:15,940 epoch 16 - iter 9/11 - loss 3.12146775 - samples/sec: 58.55\n",
            "2019-12-20 09:44:16,328 epoch 16 - iter 10/11 - loss 3.11625161 - samples/sec: 89.91\n",
            "2019-12-20 09:44:16,352 ----------------------------------------------------------------------------------------------------\n",
            "2019-12-20 09:44:16,353 EPOCH 16 done: loss 3.1163 - lr 0.1000\n",
            "2019-12-20 09:44:16,882 DEV : loss 5.450887203216553 - score 0.3137\n",
            "2019-12-20 09:44:16,891 BAD EPOCHS (no improvement): 1\n",
            "2019-12-20 09:44:16,892 ----------------------------------------------------------------------------------------------------\n",
            "2019-12-20 09:44:17,446 epoch 17 - iter 0/11 - loss 2.22656822 - samples/sec: 57.91\n",
            "2019-12-20 09:44:17,997 epoch 17 - iter 1/11 - loss 2.13030934 - samples/sec: 60.22\n",
            "2019-12-20 09:44:18,560 epoch 17 - iter 2/11 - loss 2.34576193 - samples/sec: 59.42\n",
            "2019-12-20 09:44:19,098 epoch 17 - iter 3/11 - loss 2.81775570 - samples/sec: 61.91\n",
            "2019-12-20 09:44:19,666 epoch 17 - iter 4/11 - loss 3.31744881 - samples/sec: 58.29\n",
            "2019-12-20 09:44:20,278 epoch 17 - iter 5/11 - loss 3.14945161 - samples/sec: 54.40\n",
            "2019-12-20 09:44:20,834 epoch 17 - iter 6/11 - loss 3.09869606 - samples/sec: 59.92\n",
            "2019-12-20 09:44:21,369 epoch 17 - iter 7/11 - loss 3.02216175 - samples/sec: 62.14\n",
            "2019-12-20 09:44:26,090 epoch 17 - iter 8/11 - loss 3.02305065 - samples/sec: 6.81\n",
            "2019-12-20 09:44:26,583 epoch 17 - iter 9/11 - loss 2.84955280 - samples/sec: 67.77\n",
            "2019-12-20 09:44:26,925 epoch 17 - iter 10/11 - loss 2.76434921 - samples/sec: 99.53\n",
            "2019-12-20 09:44:26,945 ----------------------------------------------------------------------------------------------------\n",
            "2019-12-20 09:44:26,946 EPOCH 17 done: loss 2.7643 - lr 0.1000\n",
            "2019-12-20 09:44:27,504 DEV : loss 6.470241069793701 - score 0.2316\n",
            "2019-12-20 09:44:27,513 BAD EPOCHS (no improvement): 2\n",
            "2019-12-20 09:44:27,514 ----------------------------------------------------------------------------------------------------\n",
            "2019-12-20 09:44:28,061 epoch 18 - iter 0/11 - loss 1.63975537 - samples/sec: 58.58\n",
            "2019-12-20 09:44:28,687 epoch 18 - iter 1/11 - loss 1.98729855 - samples/sec: 52.84\n",
            "2019-12-20 09:44:29,250 epoch 18 - iter 2/11 - loss 2.08359993 - samples/sec: 58.99\n",
            "2019-12-20 09:44:29,787 epoch 18 - iter 3/11 - loss 2.69877914 - samples/sec: 61.82\n",
            "2019-12-20 09:44:30,334 epoch 18 - iter 4/11 - loss 2.81027753 - samples/sec: 60.87\n",
            "2019-12-20 09:44:30,849 epoch 18 - iter 5/11 - loss 2.66641698 - samples/sec: 64.79\n",
            "2019-12-20 09:44:31,423 epoch 18 - iter 6/11 - loss 2.88656107 - samples/sec: 58.13\n",
            "2019-12-20 09:44:31,933 epoch 18 - iter 7/11 - loss 2.89506747 - samples/sec: 65.40\n",
            "2019-12-20 09:44:32,520 epoch 18 - iter 8/11 - loss 2.77295898 - samples/sec: 56.68\n",
            "2019-12-20 09:44:33,075 epoch 18 - iter 9/11 - loss 2.68078243 - samples/sec: 59.92\n",
            "2019-12-20 09:44:33,454 epoch 18 - iter 10/11 - loss 2.76584314 - samples/sec: 91.59\n",
            "2019-12-20 09:44:33,475 ----------------------------------------------------------------------------------------------------\n",
            "2019-12-20 09:44:33,476 EPOCH 18 done: loss 2.7658 - lr 0.1000\n",
            "2019-12-20 09:44:34,051 DEV : loss 5.348616123199463 - score 0.3048\n",
            "2019-12-20 09:44:34,062 BAD EPOCHS (no improvement): 3\n",
            "2019-12-20 09:44:34,063 ----------------------------------------------------------------------------------------------------\n",
            "2019-12-20 09:44:34,662 epoch 19 - iter 0/11 - loss 4.11582851 - samples/sec: 53.56\n",
            "2019-12-20 09:44:35,182 epoch 19 - iter 1/11 - loss 3.50189877 - samples/sec: 64.14\n",
            "2019-12-20 09:44:35,842 epoch 19 - iter 2/11 - loss 3.64164956 - samples/sec: 50.52\n",
            "2019-12-20 09:44:36,365 epoch 19 - iter 3/11 - loss 3.11488089 - samples/sec: 64.29\n",
            "2019-12-20 09:44:36,898 epoch 19 - iter 4/11 - loss 3.38179424 - samples/sec: 63.59\n",
            "2019-12-20 09:44:37,463 epoch 19 - iter 5/11 - loss 3.17063131 - samples/sec: 59.12\n",
            "2019-12-20 09:44:38,127 epoch 19 - iter 6/11 - loss 2.81778370 - samples/sec: 50.48\n",
            "2019-12-20 09:44:38,759 epoch 19 - iter 7/11 - loss 2.74651159 - samples/sec: 52.98\n",
            "2019-12-20 09:44:39,284 epoch 19 - iter 8/11 - loss 2.82371156 - samples/sec: 63.77\n",
            "2019-12-20 09:44:39,853 epoch 19 - iter 9/11 - loss 2.76657835 - samples/sec: 58.38\n",
            "2019-12-20 09:44:40,268 epoch 19 - iter 10/11 - loss 2.80053454 - samples/sec: 81.43\n",
            "2019-12-20 09:44:40,292 ----------------------------------------------------------------------------------------------------\n",
            "2019-12-20 09:44:40,293 EPOCH 19 done: loss 2.8005 - lr 0.1000\n",
            "2019-12-20 09:44:40,845 DEV : loss 6.139129161834717 - score 0.3107\n",
            "Epoch    18: reducing learning rate of group 0 to 5.0000e-02.\n",
            "2019-12-20 09:44:40,856 BAD EPOCHS (no improvement): 4\n",
            "2019-12-20 09:44:40,856 ----------------------------------------------------------------------------------------------------\n",
            "2019-12-20 09:44:41,357 epoch 20 - iter 0/11 - loss 3.08349943 - samples/sec: 64.09\n",
            "2019-12-20 09:44:42,014 epoch 20 - iter 1/11 - loss 2.96984446 - samples/sec: 50.24\n",
            "2019-12-20 09:44:42,557 epoch 20 - iter 2/11 - loss 2.45657118 - samples/sec: 61.78\n",
            "2019-12-20 09:44:43,123 epoch 20 - iter 3/11 - loss 2.40887916 - samples/sec: 58.76\n",
            "2019-12-20 09:44:43,710 epoch 20 - iter 4/11 - loss 2.53644409 - samples/sec: 56.40\n",
            "2019-12-20 09:44:44,351 epoch 20 - iter 5/11 - loss 2.51665394 - samples/sec: 51.62\n",
            "2019-12-20 09:44:44,963 epoch 20 - iter 6/11 - loss 2.44939869 - samples/sec: 54.47\n",
            "2019-12-20 09:44:45,518 epoch 20 - iter 7/11 - loss 2.47452614 - samples/sec: 59.85\n",
            "2019-12-20 09:44:46,123 epoch 20 - iter 8/11 - loss 2.44657005 - samples/sec: 54.77\n",
            "2019-12-20 09:44:46,702 epoch 20 - iter 9/11 - loss 2.47467475 - samples/sec: 57.76\n",
            "2019-12-20 09:44:47,082 epoch 20 - iter 10/11 - loss 2.39503504 - samples/sec: 89.04\n",
            "2019-12-20 09:44:47,102 ----------------------------------------------------------------------------------------------------\n",
            "2019-12-20 09:44:47,103 EPOCH 20 done: loss 2.3950 - lr 0.0500\n",
            "2019-12-20 09:44:47,722 DEV : loss 5.500788688659668 - score 0.3048\n",
            "2019-12-20 09:44:47,732 BAD EPOCHS (no improvement): 1\n",
            "2019-12-20 09:44:47,733 ----------------------------------------------------------------------------------------------------\n",
            "2019-12-20 09:44:48,253 epoch 21 - iter 0/11 - loss 2.32463145 - samples/sec: 61.64\n",
            "2019-12-20 09:44:48,800 epoch 21 - iter 1/11 - loss 2.26759446 - samples/sec: 60.78\n",
            "2019-12-20 09:44:49,451 epoch 21 - iter 2/11 - loss 1.70820355 - samples/sec: 50.74\n",
            "2019-12-20 09:44:49,964 epoch 21 - iter 3/11 - loss 1.61301792 - samples/sec: 65.93\n",
            "2019-12-20 09:44:50,617 epoch 21 - iter 4/11 - loss 1.76066003 - samples/sec: 50.72\n",
            "2019-12-20 09:44:51,139 epoch 21 - iter 5/11 - loss 1.73468908 - samples/sec: 64.29\n",
            "2019-12-20 09:44:51,673 epoch 21 - iter 6/11 - loss 1.81611892 - samples/sec: 62.52\n",
            "2019-12-20 09:44:52,310 epoch 21 - iter 7/11 - loss 1.83035509 - samples/sec: 51.98\n",
            "2019-12-20 09:44:52,954 epoch 21 - iter 8/11 - loss 2.08205683 - samples/sec: 51.79\n",
            "2019-12-20 09:44:53,546 epoch 21 - iter 9/11 - loss 2.19925369 - samples/sec: 56.30\n",
            "2019-12-20 09:44:53,905 epoch 21 - iter 10/11 - loss 2.13046882 - samples/sec: 96.56\n",
            "2019-12-20 09:44:53,924 ----------------------------------------------------------------------------------------------------\n",
            "2019-12-20 09:44:53,925 EPOCH 21 done: loss 2.1305 - lr 0.0500\n",
            "2019-12-20 09:44:54,479 DEV : loss 5.474991321563721 - score 0.3048\n",
            "2019-12-20 09:44:54,487 BAD EPOCHS (no improvement): 2\n",
            "2019-12-20 09:44:54,489 ----------------------------------------------------------------------------------------------------\n",
            "2019-12-20 09:44:55,072 epoch 22 - iter 0/11 - loss 2.98169637 - samples/sec: 54.98\n",
            "2019-12-20 09:44:55,631 epoch 22 - iter 1/11 - loss 2.40670967 - samples/sec: 60.55\n",
            "2019-12-20 09:44:56,252 epoch 22 - iter 2/11 - loss 2.63793500 - samples/sec: 53.33\n",
            "2019-12-20 09:44:56,950 epoch 22 - iter 3/11 - loss 2.25634012 - samples/sec: 47.73\n",
            "2019-12-20 09:44:57,502 epoch 22 - iter 4/11 - loss 2.42654459 - samples/sec: 60.93\n",
            "2019-12-20 09:44:58,041 epoch 22 - iter 5/11 - loss 2.47376233 - samples/sec: 62.04\n",
            "2019-12-20 09:44:58,573 epoch 22 - iter 6/11 - loss 2.54299251 - samples/sec: 62.77\n",
            "2019-12-20 09:44:59,105 epoch 22 - iter 7/11 - loss 2.41512723 - samples/sec: 63.78\n",
            "2019-12-20 09:44:59,675 epoch 22 - iter 8/11 - loss 2.30195031 - samples/sec: 58.48\n",
            "2019-12-20 09:45:00,328 epoch 22 - iter 9/11 - loss 2.25174419 - samples/sec: 51.27\n",
            "2019-12-20 09:45:00,738 epoch 22 - iter 10/11 - loss 2.17229479 - samples/sec: 83.51\n",
            "2019-12-20 09:45:00,761 ----------------------------------------------------------------------------------------------------\n",
            "2019-12-20 09:45:00,762 EPOCH 22 done: loss 2.1723 - lr 0.0500\n",
            "2019-12-20 09:45:01,314 DEV : loss 5.766714096069336 - score 0.3107\n",
            "2019-12-20 09:45:01,323 BAD EPOCHS (no improvement): 3\n",
            "2019-12-20 09:45:01,324 ----------------------------------------------------------------------------------------------------\n",
            "2019-12-20 09:45:01,900 epoch 23 - iter 0/11 - loss 2.38573551 - samples/sec: 55.76\n",
            "2019-12-20 09:45:02,506 epoch 23 - iter 1/11 - loss 2.67279053 - samples/sec: 56.45\n",
            "2019-12-20 09:45:03,060 epoch 23 - iter 2/11 - loss 2.66293128 - samples/sec: 60.30\n",
            "2019-12-20 09:45:03,616 epoch 23 - iter 3/11 - loss 2.84966391 - samples/sec: 61.09\n",
            "2019-12-20 09:45:04,148 epoch 23 - iter 4/11 - loss 2.79590712 - samples/sec: 62.82\n",
            "2019-12-20 09:45:04,672 epoch 23 - iter 5/11 - loss 2.52708081 - samples/sec: 63.51\n",
            "2019-12-20 09:45:05,271 epoch 23 - iter 6/11 - loss 2.37350309 - samples/sec: 55.63\n",
            "2019-12-20 09:45:05,807 epoch 23 - iter 7/11 - loss 2.36112963 - samples/sec: 61.94\n",
            "2019-12-20 09:45:06,355 epoch 23 - iter 8/11 - loss 2.30991500 - samples/sec: 60.85\n",
            "2019-12-20 09:45:06,846 epoch 23 - iter 9/11 - loss 2.15381253 - samples/sec: 68.02\n",
            "2019-12-20 09:45:07,223 epoch 23 - iter 10/11 - loss 2.05667181 - samples/sec: 89.75\n",
            "2019-12-20 09:45:07,243 ----------------------------------------------------------------------------------------------------\n",
            "2019-12-20 09:45:07,244 EPOCH 23 done: loss 2.0567 - lr 0.0500\n",
            "2019-12-20 09:45:07,788 DEV : loss 5.630147933959961 - score 0.3429\n",
            "2019-12-20 09:45:07,797 BAD EPOCHS (no improvement): 0\n",
            "2019-12-20 09:45:11,641 ----------------------------------------------------------------------------------------------------\n",
            "2019-12-20 09:45:12,168 epoch 24 - iter 0/11 - loss 2.35620356 - samples/sec: 60.97\n",
            "2019-12-20 09:45:12,776 epoch 24 - iter 1/11 - loss 2.05658811 - samples/sec: 54.32\n",
            "2019-12-20 09:45:13,353 epoch 24 - iter 2/11 - loss 2.12618943 - samples/sec: 57.58\n",
            "2019-12-20 09:45:13,911 epoch 24 - iter 3/11 - loss 2.07410607 - samples/sec: 60.36\n",
            "2019-12-20 09:45:14,562 epoch 24 - iter 4/11 - loss 2.08351152 - samples/sec: 50.94\n",
            "2019-12-20 09:45:15,049 epoch 24 - iter 5/11 - loss 2.10575920 - samples/sec: 68.73\n",
            "2019-12-20 09:45:15,666 epoch 24 - iter 6/11 - loss 2.11215944 - samples/sec: 54.30\n",
            "2019-12-20 09:45:16,177 epoch 24 - iter 7/11 - loss 2.02480726 - samples/sec: 65.87\n",
            "2019-12-20 09:45:16,777 epoch 24 - iter 8/11 - loss 1.97534011 - samples/sec: 55.55\n",
            "2019-12-20 09:45:17,459 epoch 24 - iter 9/11 - loss 1.98787895 - samples/sec: 49.10\n",
            "2019-12-20 09:45:17,888 epoch 24 - iter 10/11 - loss 2.09909997 - samples/sec: 79.10\n",
            "2019-12-20 09:45:17,913 ----------------------------------------------------------------------------------------------------\n",
            "2019-12-20 09:45:17,914 EPOCH 24 done: loss 2.0991 - lr 0.0500\n",
            "2019-12-20 09:45:18,521 DEV : loss 5.140914440155029 - score 0.4037\n",
            "2019-12-20 09:45:18,532 BAD EPOCHS (no improvement): 0\n",
            "2019-12-20 09:45:22,345 ----------------------------------------------------------------------------------------------------\n",
            "2019-12-20 09:45:23,004 epoch 25 - iter 0/11 - loss 1.11534858 - samples/sec: 48.72\n",
            "2019-12-20 09:45:23,508 epoch 25 - iter 1/11 - loss 1.53079349 - samples/sec: 66.58\n",
            "2019-12-20 09:45:24,047 epoch 25 - iter 2/11 - loss 1.79993268 - samples/sec: 62.40\n",
            "2019-12-20 09:45:24,577 epoch 25 - iter 3/11 - loss 1.82940415 - samples/sec: 63.05\n",
            "2019-12-20 09:45:25,171 epoch 25 - iter 4/11 - loss 1.98217876 - samples/sec: 55.94\n",
            "2019-12-20 09:45:25,822 epoch 25 - iter 5/11 - loss 1.86795002 - samples/sec: 51.02\n",
            "2019-12-20 09:45:26,451 epoch 25 - iter 6/11 - loss 1.95499051 - samples/sec: 52.96\n",
            "2019-12-20 09:45:27,006 epoch 25 - iter 7/11 - loss 2.05000843 - samples/sec: 60.16\n",
            "2019-12-20 09:45:27,552 epoch 25 - iter 8/11 - loss 1.97835623 - samples/sec: 61.31\n",
            "2019-12-20 09:45:28,083 epoch 25 - iter 9/11 - loss 1.97923863 - samples/sec: 62.82\n",
            "2019-12-20 09:45:28,435 epoch 25 - iter 10/11 - loss 1.96032819 - samples/sec: 96.67\n",
            "2019-12-20 09:45:28,454 ----------------------------------------------------------------------------------------------------\n",
            "2019-12-20 09:45:28,455 EPOCH 25 done: loss 1.9603 - lr 0.0500\n",
            "2019-12-20 09:45:28,986 DEV : loss 5.501402378082275 - score 0.3454\n",
            "2019-12-20 09:45:28,994 BAD EPOCHS (no improvement): 1\n",
            "2019-12-20 09:45:28,995 ----------------------------------------------------------------------------------------------------\n",
            "2019-12-20 09:45:29,566 epoch 26 - iter 0/11 - loss 1.90719223 - samples/sec: 56.19\n",
            "2019-12-20 09:45:30,105 epoch 26 - iter 1/11 - loss 1.76819974 - samples/sec: 61.75\n",
            "2019-12-20 09:45:30,691 epoch 26 - iter 2/11 - loss 1.87025670 - samples/sec: 56.58\n",
            "2019-12-20 09:45:31,178 epoch 26 - iter 3/11 - loss 1.73811102 - samples/sec: 68.39\n",
            "2019-12-20 09:45:31,741 epoch 26 - iter 4/11 - loss 1.63640480 - samples/sec: 59.04\n",
            "2019-12-20 09:45:32,293 epoch 26 - iter 5/11 - loss 1.65215415 - samples/sec: 60.14\n",
            "2019-12-20 09:45:32,937 epoch 26 - iter 6/11 - loss 1.78714883 - samples/sec: 51.28\n",
            "2019-12-20 09:45:33,506 epoch 26 - iter 7/11 - loss 1.69049636 - samples/sec: 59.38\n",
            "2019-12-20 09:45:34,052 epoch 26 - iter 8/11 - loss 1.75215109 - samples/sec: 61.49\n",
            "2019-12-20 09:45:34,611 epoch 26 - iter 9/11 - loss 1.82395718 - samples/sec: 59.82\n",
            "2019-12-20 09:45:34,924 epoch 26 - iter 10/11 - loss 1.84723663 - samples/sec: 110.07\n",
            "2019-12-20 09:45:34,944 ----------------------------------------------------------------------------------------------------\n",
            "2019-12-20 09:45:34,946 EPOCH 26 done: loss 1.8472 - lr 0.0500\n",
            "2019-12-20 09:45:35,473 DEV : loss 5.227828025817871 - score 0.3738\n",
            "2019-12-20 09:45:35,482 BAD EPOCHS (no improvement): 2\n",
            "2019-12-20 09:45:35,483 ----------------------------------------------------------------------------------------------------\n",
            "2019-12-20 09:45:36,064 epoch 27 - iter 0/11 - loss 1.21049941 - samples/sec: 55.22\n",
            "2019-12-20 09:45:36,595 epoch 27 - iter 1/11 - loss 1.47005916 - samples/sec: 62.70\n",
            "2019-12-20 09:45:37,154 epoch 27 - iter 2/11 - loss 1.82352312 - samples/sec: 59.41\n",
            "2019-12-20 09:45:37,785 epoch 27 - iter 3/11 - loss 1.90867239 - samples/sec: 52.47\n",
            "2019-12-20 09:45:38,316 epoch 27 - iter 4/11 - loss 1.84373126 - samples/sec: 63.68\n",
            "2019-12-20 09:45:38,858 epoch 27 - iter 5/11 - loss 1.65142054 - samples/sec: 61.90\n",
            "2019-12-20 09:45:39,510 epoch 27 - iter 6/11 - loss 1.65523465 - samples/sec: 51.01\n",
            "2019-12-20 09:45:40,047 epoch 27 - iter 7/11 - loss 1.71068940 - samples/sec: 62.09\n",
            "2019-12-20 09:45:40,613 epoch 27 - iter 8/11 - loss 1.62005665 - samples/sec: 58.95\n",
            "2019-12-20 09:45:41,207 epoch 27 - iter 9/11 - loss 1.70459377 - samples/sec: 56.03\n",
            "2019-12-20 09:45:41,594 epoch 27 - iter 10/11 - loss 1.86472166 - samples/sec: 88.30\n",
            "2019-12-20 09:45:41,614 ----------------------------------------------------------------------------------------------------\n",
            "2019-12-20 09:45:41,615 EPOCH 27 done: loss 1.8647 - lr 0.0500\n",
            "2019-12-20 09:45:42,166 DEV : loss 5.2385478019714355 - score 0.3738\n",
            "2019-12-20 09:45:42,176 BAD EPOCHS (no improvement): 3\n",
            "2019-12-20 09:45:42,177 ----------------------------------------------------------------------------------------------------\n",
            "2019-12-20 09:45:42,765 epoch 28 - iter 0/11 - loss 1.37024450 - samples/sec: 54.51\n",
            "2019-12-20 09:45:43,354 epoch 28 - iter 1/11 - loss 1.37384152 - samples/sec: 57.01\n",
            "2019-12-20 09:45:43,866 epoch 28 - iter 2/11 - loss 1.45788483 - samples/sec: 65.51\n",
            "2019-12-20 09:45:44,544 epoch 28 - iter 3/11 - loss 1.57499471 - samples/sec: 48.81\n",
            "2019-12-20 09:45:45,203 epoch 28 - iter 4/11 - loss 1.60954669 - samples/sec: 50.85\n",
            "2019-12-20 09:45:45,773 epoch 28 - iter 5/11 - loss 1.64209614 - samples/sec: 58.59\n",
            "2019-12-20 09:45:46,431 epoch 28 - iter 6/11 - loss 1.80437005 - samples/sec: 50.27\n",
            "2019-12-20 09:45:47,054 epoch 28 - iter 7/11 - loss 1.86305599 - samples/sec: 53.93\n",
            "2019-12-20 09:45:47,607 epoch 28 - iter 8/11 - loss 1.84902789 - samples/sec: 60.92\n",
            "2019-12-20 09:45:48,204 epoch 28 - iter 9/11 - loss 1.84856052 - samples/sec: 55.86\n",
            "2019-12-20 09:45:48,553 epoch 28 - iter 10/11 - loss 1.79614261 - samples/sec: 98.32\n",
            "2019-12-20 09:45:48,573 ----------------------------------------------------------------------------------------------------\n",
            "2019-12-20 09:45:48,573 EPOCH 28 done: loss 1.7961 - lr 0.0500\n",
            "2019-12-20 09:45:49,121 DEV : loss 5.929332733154297 - score 0.3619\n",
            "Epoch    27: reducing learning rate of group 0 to 2.5000e-02.\n",
            "2019-12-20 09:45:49,131 BAD EPOCHS (no improvement): 4\n",
            "2019-12-20 09:45:49,132 ----------------------------------------------------------------------------------------------------\n",
            "2019-12-20 09:45:49,689 epoch 29 - iter 0/11 - loss 1.80148959 - samples/sec: 57.68\n",
            "2019-12-20 09:45:50,284 epoch 29 - iter 1/11 - loss 1.61174417 - samples/sec: 55.67\n",
            "2019-12-20 09:45:50,799 epoch 29 - iter 2/11 - loss 1.35361262 - samples/sec: 64.78\n",
            "2019-12-20 09:45:51,428 epoch 29 - iter 3/11 - loss 1.14810747 - samples/sec: 52.60\n",
            "2019-12-20 09:45:52,112 epoch 29 - iter 4/11 - loss 1.42559385 - samples/sec: 48.65\n",
            "2019-12-20 09:45:52,636 epoch 29 - iter 5/11 - loss 1.34983114 - samples/sec: 64.29\n",
            "2019-12-20 09:45:53,153 epoch 29 - iter 6/11 - loss 1.36365054 - samples/sec: 64.78\n",
            "2019-12-20 09:45:53,686 epoch 29 - iter 7/11 - loss 1.46539010 - samples/sec: 62.68\n",
            "2019-12-20 09:45:54,199 epoch 29 - iter 8/11 - loss 1.47945506 - samples/sec: 64.99\n",
            "2019-12-20 09:45:54,729 epoch 29 - iter 9/11 - loss 1.61127154 - samples/sec: 62.72\n",
            "2019-12-20 09:45:55,099 epoch 29 - iter 10/11 - loss 1.65338231 - samples/sec: 91.41\n",
            "2019-12-20 09:45:55,120 ----------------------------------------------------------------------------------------------------\n",
            "2019-12-20 09:45:55,122 EPOCH 29 done: loss 1.6534 - lr 0.0250\n",
            "2019-12-20 09:45:55,745 DEV : loss 5.4139485359191895 - score 0.3889\n",
            "2019-12-20 09:45:55,754 BAD EPOCHS (no improvement): 1\n",
            "2019-12-20 09:45:55,755 ----------------------------------------------------------------------------------------------------\n",
            "2019-12-20 09:45:56,339 epoch 30 - iter 0/11 - loss 2.06177473 - samples/sec: 54.97\n",
            "2019-12-20 09:45:56,883 epoch 30 - iter 1/11 - loss 1.72300065 - samples/sec: 60.93\n",
            "2019-12-20 09:45:57,446 epoch 30 - iter 2/11 - loss 1.75716551 - samples/sec: 58.90\n",
            "2019-12-20 09:45:58,026 epoch 30 - iter 3/11 - loss 1.76621568 - samples/sec: 57.38\n",
            "2019-12-20 09:45:58,556 epoch 30 - iter 4/11 - loss 1.64195848 - samples/sec: 63.06\n",
            "2019-12-20 09:45:59,093 epoch 30 - iter 5/11 - loss 1.63282673 - samples/sec: 62.08\n",
            "2019-12-20 09:45:59,634 epoch 30 - iter 6/11 - loss 1.63148281 - samples/sec: 62.16\n",
            "2019-12-20 09:46:00,217 epoch 30 - iter 7/11 - loss 1.60130154 - samples/sec: 57.15\n",
            "2019-12-20 09:46:00,784 epoch 30 - iter 8/11 - loss 1.62019444 - samples/sec: 58.56\n",
            "2019-12-20 09:46:01,380 epoch 30 - iter 9/11 - loss 1.63924896 - samples/sec: 55.85\n",
            "2019-12-20 09:46:01,746 epoch 30 - iter 10/11 - loss 1.57508300 - samples/sec: 94.57\n",
            "2019-12-20 09:46:01,766 ----------------------------------------------------------------------------------------------------\n",
            "2019-12-20 09:46:01,767 EPOCH 30 done: loss 1.5751 - lr 0.0250\n",
            "2019-12-20 09:46:02,343 DEV : loss 5.838811874389648 - score 0.3619\n",
            "2019-12-20 09:46:02,352 BAD EPOCHS (no improvement): 2\n",
            "2019-12-20 09:46:02,354 ----------------------------------------------------------------------------------------------------\n",
            "2019-12-20 09:46:02,904 epoch 31 - iter 0/11 - loss 1.08154845 - samples/sec: 58.30\n",
            "2019-12-20 09:46:03,556 epoch 31 - iter 1/11 - loss 1.34818220 - samples/sec: 50.80\n",
            "2019-12-20 09:46:04,089 epoch 31 - iter 2/11 - loss 1.27140752 - samples/sec: 63.27\n",
            "2019-12-20 09:46:04,633 epoch 31 - iter 3/11 - loss 1.37593630 - samples/sec: 61.58\n",
            "2019-12-20 09:46:05,175 epoch 31 - iter 4/11 - loss 1.45575817 - samples/sec: 61.60\n",
            "2019-12-20 09:46:05,743 epoch 31 - iter 5/11 - loss 1.51040715 - samples/sec: 59.70\n",
            "2019-12-20 09:46:06,322 epoch 31 - iter 6/11 - loss 1.47599406 - samples/sec: 57.57\n",
            "2019-12-20 09:46:06,824 epoch 31 - iter 7/11 - loss 1.39330013 - samples/sec: 66.84\n",
            "2019-12-20 09:46:07,373 epoch 31 - iter 8/11 - loss 1.45578996 - samples/sec: 60.60\n",
            "2019-12-20 09:46:07,976 epoch 31 - iter 9/11 - loss 1.54675195 - samples/sec: 55.63\n",
            "2019-12-20 09:46:08,334 epoch 31 - iter 10/11 - loss 1.54253736 - samples/sec: 95.52\n",
            "2019-12-20 09:46:08,358 ----------------------------------------------------------------------------------------------------\n",
            "2019-12-20 09:46:08,360 EPOCH 31 done: loss 1.5425 - lr 0.0250\n",
            "2019-12-20 09:46:09,022 DEV : loss 5.595246315002441 - score 0.3774\n",
            "2019-12-20 09:46:09,031 BAD EPOCHS (no improvement): 3\n",
            "2019-12-20 09:46:09,032 ----------------------------------------------------------------------------------------------------\n",
            "2019-12-20 09:46:09,679 epoch 32 - iter 0/11 - loss 1.77923846 - samples/sec: 49.62\n",
            "2019-12-20 09:46:10,304 epoch 32 - iter 1/11 - loss 1.93350852 - samples/sec: 53.44\n",
            "2019-12-20 09:46:10,847 epoch 32 - iter 2/11 - loss 1.82739540 - samples/sec: 61.25\n",
            "2019-12-20 09:46:11,461 epoch 32 - iter 3/11 - loss 1.82358822 - samples/sec: 54.28\n",
            "2019-12-20 09:46:12,040 epoch 32 - iter 4/11 - loss 1.61017983 - samples/sec: 57.28\n",
            "2019-12-20 09:46:12,600 epoch 32 - iter 5/11 - loss 1.61170522 - samples/sec: 59.34\n",
            "2019-12-20 09:46:13,126 epoch 32 - iter 6/11 - loss 1.54578546 - samples/sec: 63.76\n",
            "2019-12-20 09:46:13,656 epoch 32 - iter 7/11 - loss 1.57108134 - samples/sec: 62.66\n",
            "2019-12-20 09:46:14,256 epoch 32 - iter 8/11 - loss 1.63275290 - samples/sec: 55.61\n",
            "2019-12-20 09:46:14,836 epoch 32 - iter 9/11 - loss 1.62241243 - samples/sec: 57.24\n",
            "2019-12-20 09:46:15,268 epoch 32 - iter 10/11 - loss 1.63651493 - samples/sec: 78.51\n",
            "2019-12-20 09:46:15,287 ----------------------------------------------------------------------------------------------------\n",
            "2019-12-20 09:46:15,288 EPOCH 32 done: loss 1.6365 - lr 0.0250\n",
            "2019-12-20 09:46:15,830 DEV : loss 5.614495277404785 - score 0.3738\n",
            "Epoch    31: reducing learning rate of group 0 to 1.2500e-02.\n",
            "2019-12-20 09:46:15,841 BAD EPOCHS (no improvement): 4\n",
            "2019-12-20 09:46:15,842 ----------------------------------------------------------------------------------------------------\n",
            "2019-12-20 09:46:16,379 epoch 33 - iter 0/11 - loss 1.57724202 - samples/sec: 59.82\n",
            "2019-12-20 09:46:16,958 epoch 33 - iter 1/11 - loss 1.16847014 - samples/sec: 57.25\n",
            "2019-12-20 09:46:17,556 epoch 33 - iter 2/11 - loss 1.56597503 - samples/sec: 55.96\n",
            "2019-12-20 09:46:18,111 epoch 33 - iter 3/11 - loss 1.86701727 - samples/sec: 60.00\n",
            "2019-12-20 09:46:18,644 epoch 33 - iter 4/11 - loss 1.70888696 - samples/sec: 62.65\n",
            "2019-12-20 09:46:19,197 epoch 33 - iter 5/11 - loss 1.59275585 - samples/sec: 61.21\n",
            "2019-12-20 09:46:19,767 epoch 33 - iter 6/11 - loss 1.56138143 - samples/sec: 58.54\n",
            "2019-12-20 09:46:20,339 epoch 33 - iter 7/11 - loss 1.65561403 - samples/sec: 58.31\n",
            "2019-12-20 09:46:20,876 epoch 33 - iter 8/11 - loss 1.58962150 - samples/sec: 63.24\n",
            "2019-12-20 09:46:21,399 epoch 33 - iter 9/11 - loss 1.57689712 - samples/sec: 64.11\n",
            "2019-12-20 09:46:21,725 epoch 33 - iter 10/11 - loss 1.50230453 - samples/sec: 105.53\n",
            "2019-12-20 09:46:21,750 ----------------------------------------------------------------------------------------------------\n",
            "2019-12-20 09:46:21,750 EPOCH 33 done: loss 1.5023 - lr 0.0125\n",
            "2019-12-20 09:46:22,355 DEV : loss 5.724925994873047 - score 0.3774\n",
            "2019-12-20 09:46:22,367 BAD EPOCHS (no improvement): 1\n",
            "2019-12-20 09:46:22,368 ----------------------------------------------------------------------------------------------------\n",
            "2019-12-20 09:46:22,985 epoch 34 - iter 0/11 - loss 1.21114814 - samples/sec: 51.96\n",
            "2019-12-20 09:46:23,508 epoch 34 - iter 1/11 - loss 1.40920407 - samples/sec: 63.80\n",
            "2019-12-20 09:46:24,058 epoch 34 - iter 2/11 - loss 1.41439648 - samples/sec: 60.34\n",
            "2019-12-20 09:46:24,684 epoch 34 - iter 3/11 - loss 1.57186285 - samples/sec: 52.92\n",
            "2019-12-20 09:46:25,184 epoch 34 - iter 4/11 - loss 1.47975075 - samples/sec: 66.63\n",
            "2019-12-20 09:46:25,713 epoch 34 - iter 5/11 - loss 1.50016779 - samples/sec: 62.96\n",
            "2019-12-20 09:46:26,296 epoch 34 - iter 6/11 - loss 1.45891120 - samples/sec: 56.74\n",
            "2019-12-20 09:46:26,878 epoch 34 - iter 7/11 - loss 1.44231094 - samples/sec: 57.47\n",
            "2019-12-20 09:46:27,405 epoch 34 - iter 8/11 - loss 1.48808459 - samples/sec: 62.94\n",
            "2019-12-20 09:46:27,968 epoch 34 - iter 9/11 - loss 1.45694845 - samples/sec: 59.32\n",
            "2019-12-20 09:46:28,322 epoch 34 - iter 10/11 - loss 1.55118312 - samples/sec: 97.12\n",
            "2019-12-20 09:46:28,342 ----------------------------------------------------------------------------------------------------\n",
            "2019-12-20 09:46:28,343 EPOCH 34 done: loss 1.5512 - lr 0.0125\n",
            "2019-12-20 09:46:28,899 DEV : loss 5.596234321594238 - score 0.3774\n",
            "2019-12-20 09:46:28,907 BAD EPOCHS (no improvement): 2\n",
            "2019-12-20 09:46:28,908 ----------------------------------------------------------------------------------------------------\n",
            "2019-12-20 09:46:29,490 epoch 35 - iter 0/11 - loss 2.23704958 - samples/sec: 55.33\n",
            "2019-12-20 09:46:30,036 epoch 35 - iter 1/11 - loss 1.74988204 - samples/sec: 61.73\n",
            "2019-12-20 09:46:30,559 epoch 35 - iter 2/11 - loss 1.79524394 - samples/sec: 64.39\n",
            "2019-12-20 09:46:31,078 epoch 35 - iter 3/11 - loss 1.79987937 - samples/sec: 65.04\n",
            "2019-12-20 09:46:31,675 epoch 35 - iter 4/11 - loss 1.61900270 - samples/sec: 55.71\n",
            "2019-12-20 09:46:32,303 epoch 35 - iter 5/11 - loss 1.62799273 - samples/sec: 53.38\n",
            "2019-12-20 09:46:32,859 epoch 35 - iter 6/11 - loss 1.60199302 - samples/sec: 59.95\n",
            "2019-12-20 09:46:33,436 epoch 35 - iter 7/11 - loss 1.64649698 - samples/sec: 57.86\n",
            "2019-12-20 09:46:34,055 epoch 35 - iter 8/11 - loss 1.58457504 - samples/sec: 53.75\n",
            "2019-12-20 09:46:34,604 epoch 35 - iter 9/11 - loss 1.52925247 - samples/sec: 60.89\n",
            "2019-12-20 09:46:34,981 epoch 35 - iter 10/11 - loss 1.51036680 - samples/sec: 90.58\n",
            "2019-12-20 09:46:35,007 ----------------------------------------------------------------------------------------------------\n",
            "2019-12-20 09:46:35,008 EPOCH 35 done: loss 1.5104 - lr 0.0125\n",
            "2019-12-20 09:46:35,553 DEV : loss 5.709256172180176 - score 0.3774\n",
            "2019-12-20 09:46:35,562 BAD EPOCHS (no improvement): 3\n",
            "2019-12-20 09:46:35,563 ----------------------------------------------------------------------------------------------------\n",
            "2019-12-20 09:46:36,088 epoch 36 - iter 0/11 - loss 1.18963432 - samples/sec: 61.19\n",
            "2019-12-20 09:46:36,714 epoch 36 - iter 1/11 - loss 1.55856138 - samples/sec: 53.31\n",
            "2019-12-20 09:46:37,304 epoch 36 - iter 2/11 - loss 1.60324633 - samples/sec: 56.28\n",
            "2019-12-20 09:46:37,840 epoch 36 - iter 3/11 - loss 1.47398067 - samples/sec: 62.49\n",
            "2019-12-20 09:46:38,412 epoch 36 - iter 4/11 - loss 1.37254223 - samples/sec: 58.24\n",
            "2019-12-20 09:46:38,931 epoch 36 - iter 5/11 - loss 1.29085682 - samples/sec: 64.51\n",
            "2019-12-20 09:46:39,584 epoch 36 - iter 6/11 - loss 1.38902034 - samples/sec: 50.57\n",
            "2019-12-20 09:46:40,160 epoch 36 - iter 7/11 - loss 1.36336899 - samples/sec: 58.23\n",
            "2019-12-20 09:46:40,678 epoch 36 - iter 8/11 - loss 1.45642087 - samples/sec: 64.44\n",
            "2019-12-20 09:46:41,218 epoch 36 - iter 9/11 - loss 1.47391865 - samples/sec: 61.95\n",
            "2019-12-20 09:46:41,601 epoch 36 - iter 10/11 - loss 1.40040766 - samples/sec: 88.94\n",
            "2019-12-20 09:46:41,621 ----------------------------------------------------------------------------------------------------\n",
            "2019-12-20 09:46:41,622 EPOCH 36 done: loss 1.4004 - lr 0.0125\n",
            "2019-12-20 09:46:42,159 DEV : loss 5.579084873199463 - score 0.3925\n",
            "Epoch    35: reducing learning rate of group 0 to 6.2500e-03.\n",
            "2019-12-20 09:46:42,179 BAD EPOCHS (no improvement): 4\n",
            "2019-12-20 09:46:42,180 ----------------------------------------------------------------------------------------------------\n",
            "2019-12-20 09:46:42,696 epoch 37 - iter 0/11 - loss 0.81592631 - samples/sec: 62.17\n",
            "2019-12-20 09:46:43,213 epoch 37 - iter 1/11 - loss 1.33424473 - samples/sec: 64.34\n",
            "2019-12-20 09:46:43,803 epoch 37 - iter 2/11 - loss 1.71498712 - samples/sec: 56.64\n",
            "2019-12-20 09:46:44,412 epoch 37 - iter 3/11 - loss 1.68166178 - samples/sec: 54.37\n",
            "2019-12-20 09:46:44,936 epoch 37 - iter 4/11 - loss 1.64703887 - samples/sec: 63.49\n",
            "2019-12-20 09:46:45,484 epoch 37 - iter 5/11 - loss 1.55370420 - samples/sec: 60.59\n",
            "2019-12-20 09:46:46,037 epoch 37 - iter 6/11 - loss 1.70682473 - samples/sec: 60.19\n",
            "2019-12-20 09:46:46,606 epoch 37 - iter 7/11 - loss 1.71903487 - samples/sec: 58.32\n",
            "2019-12-20 09:46:47,189 epoch 37 - iter 8/11 - loss 1.60022867 - samples/sec: 57.34\n",
            "2019-12-20 09:46:47,706 epoch 37 - iter 9/11 - loss 1.58684362 - samples/sec: 64.80\n",
            "2019-12-20 09:46:48,047 epoch 37 - iter 10/11 - loss 1.51366006 - samples/sec: 99.59\n",
            "2019-12-20 09:46:48,067 ----------------------------------------------------------------------------------------------------\n",
            "2019-12-20 09:46:48,068 EPOCH 37 done: loss 1.5137 - lr 0.0063\n",
            "2019-12-20 09:46:48,606 DEV : loss 5.701907157897949 - score 0.3738\n",
            "2019-12-20 09:46:48,616 BAD EPOCHS (no improvement): 1\n",
            "2019-12-20 09:46:48,617 ----------------------------------------------------------------------------------------------------\n",
            "2019-12-20 09:46:49,104 epoch 38 - iter 0/11 - loss 1.59645343 - samples/sec: 65.93\n",
            "2019-12-20 09:46:49,665 epoch 38 - iter 1/11 - loss 1.84738851 - samples/sec: 59.17\n",
            "2019-12-20 09:46:50,252 epoch 38 - iter 2/11 - loss 1.83964483 - samples/sec: 56.94\n",
            "2019-12-20 09:46:50,831 epoch 38 - iter 3/11 - loss 1.68576163 - samples/sec: 57.60\n",
            "2019-12-20 09:46:51,373 epoch 38 - iter 4/11 - loss 1.78738947 - samples/sec: 61.21\n",
            "2019-12-20 09:46:51,923 epoch 38 - iter 5/11 - loss 1.73176352 - samples/sec: 60.43\n",
            "2019-12-20 09:46:52,636 epoch 38 - iter 6/11 - loss 1.70515324 - samples/sec: 46.62\n",
            "2019-12-20 09:46:53,290 epoch 38 - iter 7/11 - loss 1.60578696 - samples/sec: 50.69\n",
            "2019-12-20 09:46:53,858 epoch 38 - iter 8/11 - loss 1.59929011 - samples/sec: 58.85\n",
            "2019-12-20 09:46:54,420 epoch 38 - iter 9/11 - loss 1.53898623 - samples/sec: 59.58\n",
            "2019-12-20 09:46:54,769 epoch 38 - iter 10/11 - loss 1.56338509 - samples/sec: 97.46\n",
            "2019-12-20 09:46:54,789 ----------------------------------------------------------------------------------------------------\n",
            "2019-12-20 09:46:54,790 EPOCH 38 done: loss 1.5634 - lr 0.0063\n",
            "2019-12-20 09:46:55,347 DEV : loss 5.50880765914917 - score 0.3853\n",
            "2019-12-20 09:46:55,356 BAD EPOCHS (no improvement): 2\n",
            "2019-12-20 09:46:55,358 ----------------------------------------------------------------------------------------------------\n",
            "2019-12-20 09:46:55,951 epoch 39 - iter 0/11 - loss 1.57124758 - samples/sec: 54.09\n",
            "2019-12-20 09:46:56,531 epoch 39 - iter 1/11 - loss 1.79314947 - samples/sec: 57.18\n",
            "2019-12-20 09:46:57,131 epoch 39 - iter 2/11 - loss 1.48076109 - samples/sec: 55.27\n",
            "2019-12-20 09:46:57,744 epoch 39 - iter 3/11 - loss 1.37687224 - samples/sec: 54.50\n",
            "2019-12-20 09:46:58,319 epoch 39 - iter 4/11 - loss 1.76644158 - samples/sec: 58.04\n",
            "2019-12-20 09:46:58,901 epoch 39 - iter 5/11 - loss 1.66318343 - samples/sec: 57.51\n",
            "2019-12-20 09:46:59,443 epoch 39 - iter 6/11 - loss 1.58117337 - samples/sec: 61.63\n",
            "2019-12-20 09:47:00,003 epoch 39 - iter 7/11 - loss 1.53990580 - samples/sec: 59.76\n",
            "2019-12-20 09:47:00,539 epoch 39 - iter 8/11 - loss 1.46021510 - samples/sec: 62.67\n",
            "2019-12-20 09:47:01,056 epoch 39 - iter 9/11 - loss 1.49546038 - samples/sec: 65.11\n",
            "2019-12-20 09:47:01,449 epoch 39 - iter 10/11 - loss 1.49939572 - samples/sec: 86.32\n",
            "2019-12-20 09:47:01,474 ----------------------------------------------------------------------------------------------------\n",
            "2019-12-20 09:47:01,475 EPOCH 39 done: loss 1.4994 - lr 0.0063\n",
            "2019-12-20 09:47:02,047 DEV : loss 5.652722358703613 - score 0.3774\n",
            "2019-12-20 09:47:02,056 BAD EPOCHS (no improvement): 3\n",
            "2019-12-20 09:47:02,057 ----------------------------------------------------------------------------------------------------\n",
            "2019-12-20 09:47:02,648 epoch 40 - iter 0/11 - loss 0.86084723 - samples/sec: 54.29\n",
            "2019-12-20 09:47:03,227 epoch 40 - iter 1/11 - loss 1.24361920 - samples/sec: 57.57\n",
            "2019-12-20 09:47:03,838 epoch 40 - iter 2/11 - loss 1.21505471 - samples/sec: 54.64\n",
            "2019-12-20 09:47:04,443 epoch 40 - iter 3/11 - loss 1.36181122 - samples/sec: 54.95\n",
            "2019-12-20 09:47:05,022 epoch 40 - iter 4/11 - loss 1.54446392 - samples/sec: 57.90\n",
            "2019-12-20 09:47:05,613 epoch 40 - iter 5/11 - loss 1.42165440 - samples/sec: 56.91\n",
            "2019-12-20 09:47:06,187 epoch 40 - iter 6/11 - loss 1.27787151 - samples/sec: 58.55\n",
            "2019-12-20 09:47:06,789 epoch 40 - iter 7/11 - loss 1.43847886 - samples/sec: 55.41\n",
            "2019-12-20 09:47:07,351 epoch 40 - iter 8/11 - loss 1.42634765 - samples/sec: 59.49\n",
            "2019-12-20 09:47:07,909 epoch 40 - iter 9/11 - loss 1.39157031 - samples/sec: 59.98\n",
            "2019-12-20 09:47:08,271 epoch 40 - iter 10/11 - loss 1.47633826 - samples/sec: 94.32\n",
            "2019-12-20 09:47:08,291 ----------------------------------------------------------------------------------------------------\n",
            "2019-12-20 09:47:08,291 EPOCH 40 done: loss 1.4763 - lr 0.0063\n",
            "2019-12-20 09:47:08,882 DEV : loss 5.5295000076293945 - score 0.3925\n",
            "Epoch    39: reducing learning rate of group 0 to 3.1250e-03.\n",
            "2019-12-20 09:47:08,892 BAD EPOCHS (no improvement): 4\n",
            "2019-12-20 09:47:08,895 ----------------------------------------------------------------------------------------------------\n",
            "2019-12-20 09:47:09,514 epoch 41 - iter 0/11 - loss 2.02720165 - samples/sec: 51.99\n",
            "2019-12-20 09:47:10,164 epoch 41 - iter 1/11 - loss 1.81648153 - samples/sec: 50.99\n",
            "2019-12-20 09:47:10,684 epoch 41 - iter 2/11 - loss 1.45424235 - samples/sec: 64.54\n",
            "2019-12-20 09:47:11,316 epoch 41 - iter 3/11 - loss 1.25487605 - samples/sec: 53.17\n",
            "2019-12-20 09:47:11,889 epoch 41 - iter 4/11 - loss 1.33039362 - samples/sec: 58.08\n",
            "2019-12-20 09:47:12,543 epoch 41 - iter 5/11 - loss 1.34412515 - samples/sec: 51.11\n",
            "2019-12-20 09:47:13,147 epoch 41 - iter 6/11 - loss 1.44474680 - samples/sec: 55.51\n",
            "2019-12-20 09:47:13,695 epoch 41 - iter 7/11 - loss 1.51580951 - samples/sec: 61.64\n",
            "2019-12-20 09:47:14,264 epoch 41 - iter 8/11 - loss 1.50520968 - samples/sec: 58.39\n",
            "2019-12-20 09:47:14,813 epoch 41 - iter 9/11 - loss 1.41868511 - samples/sec: 60.75\n",
            "2019-12-20 09:47:15,150 epoch 41 - iter 10/11 - loss 1.45454009 - samples/sec: 103.36\n",
            "2019-12-20 09:47:15,174 ----------------------------------------------------------------------------------------------------\n",
            "2019-12-20 09:47:15,175 EPOCH 41 done: loss 1.4545 - lr 0.0031\n",
            "2019-12-20 09:47:15,715 DEV : loss 5.575296401977539 - score 0.3738\n",
            "2019-12-20 09:47:15,724 BAD EPOCHS (no improvement): 1\n",
            "2019-12-20 09:47:15,725 ----------------------------------------------------------------------------------------------------\n",
            "2019-12-20 09:47:16,361 epoch 42 - iter 0/11 - loss 1.05008864 - samples/sec: 50.50\n",
            "2019-12-20 09:47:16,956 epoch 42 - iter 1/11 - loss 1.48518711 - samples/sec: 56.03\n",
            "2019-12-20 09:47:17,492 epoch 42 - iter 2/11 - loss 1.35327335 - samples/sec: 61.94\n",
            "2019-12-20 09:47:18,019 epoch 42 - iter 3/11 - loss 1.45044413 - samples/sec: 63.13\n",
            "2019-12-20 09:47:18,607 epoch 42 - iter 4/11 - loss 1.53418441 - samples/sec: 56.46\n",
            "2019-12-20 09:47:19,150 epoch 42 - iter 5/11 - loss 1.58353490 - samples/sec: 61.68\n",
            "2019-12-20 09:47:19,762 epoch 42 - iter 6/11 - loss 1.54049885 - samples/sec: 54.22\n",
            "2019-12-20 09:47:20,358 epoch 42 - iter 7/11 - loss 1.47710909 - samples/sec: 55.76\n",
            "2019-12-20 09:47:20,983 epoch 42 - iter 8/11 - loss 1.51544690 - samples/sec: 53.83\n",
            "2019-12-20 09:47:21,518 epoch 42 - iter 9/11 - loss 1.42231642 - samples/sec: 62.46\n",
            "2019-12-20 09:47:21,849 epoch 42 - iter 10/11 - loss 1.37403123 - samples/sec: 103.78\n",
            "2019-12-20 09:47:21,874 ----------------------------------------------------------------------------------------------------\n",
            "2019-12-20 09:47:21,875 EPOCH 42 done: loss 1.3740 - lr 0.0031\n",
            "2019-12-20 09:47:22,485 DEV : loss 5.672425270080566 - score 0.3619\n",
            "2019-12-20 09:47:22,494 BAD EPOCHS (no improvement): 2\n",
            "2019-12-20 09:47:22,495 ----------------------------------------------------------------------------------------------------\n",
            "2019-12-20 09:47:23,035 epoch 43 - iter 0/11 - loss 0.99235630 - samples/sec: 59.39\n",
            "2019-12-20 09:47:23,614 epoch 43 - iter 1/11 - loss 1.34605569 - samples/sec: 57.66\n",
            "2019-12-20 09:47:24,195 epoch 43 - iter 2/11 - loss 1.49516257 - samples/sec: 57.01\n",
            "2019-12-20 09:47:24,784 epoch 43 - iter 3/11 - loss 1.69543982 - samples/sec: 56.57\n",
            "2019-12-20 09:47:25,327 epoch 43 - iter 4/11 - loss 1.57904956 - samples/sec: 61.59\n",
            "2019-12-20 09:47:25,839 epoch 43 - iter 5/11 - loss 1.53307611 - samples/sec: 65.49\n",
            "2019-12-20 09:47:26,370 epoch 43 - iter 6/11 - loss 1.44474827 - samples/sec: 63.18\n",
            "2019-12-20 09:47:26,926 epoch 43 - iter 7/11 - loss 1.37336670 - samples/sec: 59.90\n",
            "2019-12-20 09:47:27,597 epoch 43 - iter 8/11 - loss 1.38789803 - samples/sec: 49.66\n",
            "2019-12-20 09:47:28,157 epoch 43 - iter 9/11 - loss 1.32160910 - samples/sec: 60.33\n",
            "2019-12-20 09:47:28,568 epoch 43 - iter 10/11 - loss 1.28773739 - samples/sec: 82.60\n",
            "2019-12-20 09:47:28,592 ----------------------------------------------------------------------------------------------------\n",
            "2019-12-20 09:47:28,592 EPOCH 43 done: loss 1.2877 - lr 0.0031\n",
            "2019-12-20 09:47:29,179 DEV : loss 5.710391044616699 - score 0.3619\n",
            "2019-12-20 09:47:29,187 BAD EPOCHS (no improvement): 3\n",
            "2019-12-20 09:47:29,188 ----------------------------------------------------------------------------------------------------\n",
            "2019-12-20 09:47:29,727 epoch 44 - iter 0/11 - loss 0.95098567 - samples/sec: 59.50\n",
            "2019-12-20 09:47:30,396 epoch 44 - iter 1/11 - loss 1.01518208 - samples/sec: 49.91\n",
            "2019-12-20 09:47:31,071 epoch 44 - iter 2/11 - loss 1.30007327 - samples/sec: 49.31\n",
            "2019-12-20 09:47:31,582 epoch 44 - iter 3/11 - loss 1.13550687 - samples/sec: 65.42\n",
            "2019-12-20 09:47:32,137 epoch 44 - iter 4/11 - loss 1.35279226 - samples/sec: 60.08\n",
            "2019-12-20 09:47:32,669 epoch 44 - iter 5/11 - loss 1.36378300 - samples/sec: 62.73\n",
            "2019-12-20 09:47:33,240 epoch 44 - iter 6/11 - loss 1.32773679 - samples/sec: 58.59\n",
            "2019-12-20 09:47:33,779 epoch 44 - iter 7/11 - loss 1.39205047 - samples/sec: 62.04\n",
            "2019-12-20 09:47:34,328 epoch 44 - iter 8/11 - loss 1.38991336 - samples/sec: 60.71\n",
            "2019-12-20 09:47:34,929 epoch 44 - iter 9/11 - loss 1.39273961 - samples/sec: 55.32\n",
            "2019-12-20 09:47:35,322 epoch 44 - iter 10/11 - loss 1.41569079 - samples/sec: 87.11\n",
            "2019-12-20 09:47:35,342 ----------------------------------------------------------------------------------------------------\n",
            "2019-12-20 09:47:35,342 EPOCH 44 done: loss 1.4157 - lr 0.0031\n",
            "2019-12-20 09:47:35,875 DEV : loss 5.706414699554443 - score 0.3774\n",
            "Epoch    43: reducing learning rate of group 0 to 1.5625e-03.\n",
            "2019-12-20 09:47:35,882 BAD EPOCHS (no improvement): 4\n",
            "2019-12-20 09:47:35,886 ----------------------------------------------------------------------------------------------------\n",
            "2019-12-20 09:47:36,421 epoch 45 - iter 0/11 - loss 1.87642312 - samples/sec: 60.03\n",
            "2019-12-20 09:47:36,973 epoch 45 - iter 1/11 - loss 1.13405174 - samples/sec: 60.72\n",
            "2019-12-20 09:47:37,575 epoch 45 - iter 2/11 - loss 1.17117357 - samples/sec: 55.00\n",
            "2019-12-20 09:47:38,123 epoch 45 - iter 3/11 - loss 1.41800404 - samples/sec: 60.57\n",
            "2019-12-20 09:47:38,713 epoch 45 - iter 4/11 - loss 1.41873786 - samples/sec: 56.15\n",
            "2019-12-20 09:47:39,267 epoch 45 - iter 5/11 - loss 1.35352325 - samples/sec: 60.00\n",
            "2019-12-20 09:47:39,845 epoch 45 - iter 6/11 - loss 1.41001156 - samples/sec: 57.43\n",
            "2019-12-20 09:47:40,377 epoch 45 - iter 7/11 - loss 1.47426909 - samples/sec: 62.52\n",
            "2019-12-20 09:47:40,893 epoch 45 - iter 8/11 - loss 1.51445374 - samples/sec: 64.63\n",
            "2019-12-20 09:47:41,446 epoch 45 - iter 9/11 - loss 1.44102422 - samples/sec: 60.35\n",
            "2019-12-20 09:47:41,801 epoch 45 - iter 10/11 - loss 1.49449605 - samples/sec: 97.26\n",
            "2019-12-20 09:47:41,821 ----------------------------------------------------------------------------------------------------\n",
            "2019-12-20 09:47:41,822 EPOCH 45 done: loss 1.4945 - lr 0.0016\n",
            "2019-12-20 09:47:42,351 DEV : loss 5.6649909019470215 - score 0.3774\n",
            "2019-12-20 09:47:42,360 BAD EPOCHS (no improvement): 1\n",
            "2019-12-20 09:47:42,361 ----------------------------------------------------------------------------------------------------\n",
            "2019-12-20 09:47:42,868 epoch 46 - iter 0/11 - loss 1.34089231 - samples/sec: 63.21\n",
            "2019-12-20 09:47:43,426 epoch 46 - iter 1/11 - loss 1.44360512 - samples/sec: 59.43\n",
            "2019-12-20 09:47:43,990 epoch 46 - iter 2/11 - loss 1.44529100 - samples/sec: 59.69\n",
            "2019-12-20 09:47:44,543 epoch 46 - iter 3/11 - loss 1.32315484 - samples/sec: 60.07\n",
            "2019-12-20 09:47:45,033 epoch 46 - iter 4/11 - loss 1.18119709 - samples/sec: 68.17\n",
            "2019-12-20 09:47:45,581 epoch 46 - iter 5/11 - loss 1.20222253 - samples/sec: 60.59\n",
            "2019-12-20 09:47:46,272 epoch 46 - iter 6/11 - loss 1.31156702 - samples/sec: 48.20\n",
            "2019-12-20 09:47:46,943 epoch 46 - iter 7/11 - loss 1.37386096 - samples/sec: 49.52\n",
            "2019-12-20 09:47:47,545 epoch 46 - iter 8/11 - loss 1.40940377 - samples/sec: 55.72\n",
            "2019-12-20 09:47:48,109 epoch 46 - iter 9/11 - loss 1.37813880 - samples/sec: 58.84\n",
            "2019-12-20 09:47:48,472 epoch 46 - iter 10/11 - loss 1.33603648 - samples/sec: 93.09\n",
            "2019-12-20 09:47:48,492 ----------------------------------------------------------------------------------------------------\n",
            "2019-12-20 09:47:48,493 EPOCH 46 done: loss 1.3360 - lr 0.0016\n",
            "2019-12-20 09:47:49,070 DEV : loss 5.654254913330078 - score 0.3774\n",
            "2019-12-20 09:47:49,080 BAD EPOCHS (no improvement): 2\n",
            "2019-12-20 09:47:49,083 ----------------------------------------------------------------------------------------------------\n",
            "2019-12-20 09:47:49,647 epoch 47 - iter 0/11 - loss 1.27129471 - samples/sec: 56.97\n",
            "2019-12-20 09:47:50,198 epoch 47 - iter 1/11 - loss 1.63414365 - samples/sec: 60.38\n",
            "2019-12-20 09:47:50,780 epoch 47 - iter 2/11 - loss 1.55469724 - samples/sec: 57.36\n",
            "2019-12-20 09:47:51,349 epoch 47 - iter 3/11 - loss 1.54421702 - samples/sec: 58.44\n",
            "2019-12-20 09:47:51,866 epoch 47 - iter 4/11 - loss 1.45397460 - samples/sec: 64.85\n",
            "2019-12-20 09:47:52,432 epoch 47 - iter 5/11 - loss 1.53805850 - samples/sec: 60.04\n",
            "2019-12-20 09:47:52,990 epoch 47 - iter 6/11 - loss 1.52998534 - samples/sec: 60.10\n",
            "2019-12-20 09:47:53,526 epoch 47 - iter 7/11 - loss 1.45470545 - samples/sec: 62.31\n",
            "2019-12-20 09:47:54,030 epoch 47 - iter 8/11 - loss 1.34909915 - samples/sec: 66.21\n",
            "2019-12-20 09:47:54,566 epoch 47 - iter 9/11 - loss 1.53918508 - samples/sec: 62.33\n",
            "2019-12-20 09:47:54,912 epoch 47 - iter 10/11 - loss 1.47316809 - samples/sec: 99.29\n",
            "2019-12-20 09:47:54,932 ----------------------------------------------------------------------------------------------------\n",
            "2019-12-20 09:47:54,933 EPOCH 47 done: loss 1.4732 - lr 0.0016\n",
            "2019-12-20 09:47:55,550 DEV : loss 5.649138927459717 - score 0.3774\n",
            "2019-12-20 09:47:55,557 BAD EPOCHS (no improvement): 3\n",
            "2019-12-20 09:47:55,558 ----------------------------------------------------------------------------------------------------\n",
            "2019-12-20 09:47:56,103 epoch 48 - iter 0/11 - loss 1.89292705 - samples/sec: 58.97\n",
            "2019-12-20 09:47:56,789 epoch 48 - iter 1/11 - loss 1.86314255 - samples/sec: 48.20\n",
            "2019-12-20 09:47:57,388 epoch 48 - iter 2/11 - loss 1.67561261 - samples/sec: 55.94\n",
            "2019-12-20 09:47:57,940 epoch 48 - iter 3/11 - loss 1.41035458 - samples/sec: 60.89\n",
            "2019-12-20 09:47:58,475 epoch 48 - iter 4/11 - loss 1.48942387 - samples/sec: 62.64\n",
            "2019-12-20 09:47:58,981 epoch 48 - iter 5/11 - loss 1.36539659 - samples/sec: 66.28\n",
            "2019-12-20 09:47:59,558 epoch 48 - iter 6/11 - loss 1.32388732 - samples/sec: 57.86\n",
            "2019-12-20 09:48:00,168 epoch 48 - iter 7/11 - loss 1.32664514 - samples/sec: 54.99\n",
            "2019-12-20 09:48:00,774 epoch 48 - iter 8/11 - loss 1.38181630 - samples/sec: 55.22\n",
            "2019-12-20 09:48:01,373 epoch 48 - iter 9/11 - loss 1.41305293 - samples/sec: 56.28\n",
            "2019-12-20 09:48:01,722 epoch 48 - iter 10/11 - loss 1.41636169 - samples/sec: 98.06\n",
            "2019-12-20 09:48:01,741 ----------------------------------------------------------------------------------------------------\n",
            "2019-12-20 09:48:01,742 EPOCH 48 done: loss 1.4164 - lr 0.0016\n",
            "2019-12-20 09:48:02,289 DEV : loss 5.616775035858154 - score 0.3774\n",
            "Epoch    47: reducing learning rate of group 0 to 7.8125e-04.\n",
            "2019-12-20 09:48:02,299 BAD EPOCHS (no improvement): 4\n",
            "2019-12-20 09:48:02,300 ----------------------------------------------------------------------------------------------------\n",
            "2019-12-20 09:48:02,863 epoch 49 - iter 0/11 - loss 1.72042155 - samples/sec: 57.02\n",
            "2019-12-20 09:48:03,392 epoch 49 - iter 1/11 - loss 1.85313588 - samples/sec: 62.85\n",
            "2019-12-20 09:48:04,017 epoch 49 - iter 2/11 - loss 1.73994096 - samples/sec: 52.92\n",
            "2019-12-20 09:48:04,540 epoch 49 - iter 3/11 - loss 1.58522892 - samples/sec: 63.98\n",
            "2019-12-20 09:48:05,043 epoch 49 - iter 4/11 - loss 1.61256692 - samples/sec: 66.70\n",
            "2019-12-20 09:48:05,552 epoch 49 - iter 5/11 - loss 1.51514743 - samples/sec: 65.42\n",
            "2019-12-20 09:48:06,140 epoch 49 - iter 6/11 - loss 1.39770787 - samples/sec: 56.44\n",
            "2019-12-20 09:48:06,842 epoch 49 - iter 7/11 - loss 1.34238052 - samples/sec: 46.96\n",
            "2019-12-20 09:48:07,421 epoch 49 - iter 8/11 - loss 1.37176022 - samples/sec: 57.66\n",
            "2019-12-20 09:48:07,937 epoch 49 - iter 9/11 - loss 1.42371682 - samples/sec: 64.61\n",
            "2019-12-20 09:48:08,278 epoch 49 - iter 10/11 - loss 1.39293982 - samples/sec: 101.78\n",
            "2019-12-20 09:48:08,299 ----------------------------------------------------------------------------------------------------\n",
            "2019-12-20 09:48:08,301 EPOCH 49 done: loss 1.3929 - lr 0.0008\n",
            "2019-12-20 09:48:08,828 DEV : loss 5.6196722984313965 - score 0.3774\n",
            "2019-12-20 09:48:08,838 BAD EPOCHS (no improvement): 1\n",
            "2019-12-20 09:48:08,838 ----------------------------------------------------------------------------------------------------\n",
            "2019-12-20 09:48:09,412 epoch 50 - iter 0/11 - loss 0.52419978 - samples/sec: 55.94\n",
            "2019-12-20 09:48:09,993 epoch 50 - iter 1/11 - loss 1.29469743 - samples/sec: 57.12\n",
            "2019-12-20 09:48:10,548 epoch 50 - iter 2/11 - loss 1.14092940 - samples/sec: 60.15\n",
            "2019-12-20 09:48:11,058 epoch 50 - iter 3/11 - loss 1.10168673 - samples/sec: 65.32\n",
            "2019-12-20 09:48:11,566 epoch 50 - iter 4/11 - loss 1.21042105 - samples/sec: 65.82\n",
            "2019-12-20 09:48:12,106 epoch 50 - iter 5/11 - loss 1.23543091 - samples/sec: 61.38\n",
            "2019-12-20 09:48:12,649 epoch 50 - iter 6/11 - loss 1.31066035 - samples/sec: 61.58\n",
            "2019-12-20 09:48:13,207 epoch 50 - iter 7/11 - loss 1.23316023 - samples/sec: 59.56\n",
            "2019-12-20 09:48:13,749 epoch 50 - iter 8/11 - loss 1.40137326 - samples/sec: 61.32\n",
            "2019-12-20 09:48:14,321 epoch 50 - iter 9/11 - loss 1.46281412 - samples/sec: 58.55\n",
            "2019-12-20 09:48:14,728 epoch 50 - iter 10/11 - loss 1.48636583 - samples/sec: 84.01\n",
            "2019-12-20 09:48:14,749 ----------------------------------------------------------------------------------------------------\n",
            "2019-12-20 09:48:14,750 EPOCH 50 done: loss 1.4864 - lr 0.0008\n",
            "2019-12-20 09:48:15,352 DEV : loss 5.585805892944336 - score 0.3738\n",
            "2019-12-20 09:48:15,363 BAD EPOCHS (no improvement): 2\n",
            "2019-12-20 09:48:15,366 ----------------------------------------------------------------------------------------------------\n",
            "2019-12-20 09:48:15,892 epoch 51 - iter 0/11 - loss 1.42932725 - samples/sec: 61.13\n",
            "2019-12-20 09:48:16,593 epoch 51 - iter 1/11 - loss 1.95664787 - samples/sec: 47.45\n",
            "2019-12-20 09:48:17,078 epoch 51 - iter 2/11 - loss 1.78237979 - samples/sec: 69.55\n",
            "2019-12-20 09:48:17,708 epoch 51 - iter 3/11 - loss 1.91062808 - samples/sec: 52.90\n",
            "2019-12-20 09:48:18,266 epoch 51 - iter 4/11 - loss 1.74725740 - samples/sec: 59.66\n",
            "2019-12-20 09:48:18,824 epoch 51 - iter 5/11 - loss 1.70980821 - samples/sec: 59.52\n",
            "2019-12-20 09:48:19,352 epoch 51 - iter 6/11 - loss 1.56117196 - samples/sec: 63.08\n",
            "2019-12-20 09:48:19,946 epoch 51 - iter 7/11 - loss 1.55199522 - samples/sec: 56.27\n",
            "2019-12-20 09:48:20,559 epoch 51 - iter 8/11 - loss 1.51871214 - samples/sec: 54.01\n",
            "2019-12-20 09:48:21,127 epoch 51 - iter 9/11 - loss 1.53407567 - samples/sec: 59.26\n",
            "2019-12-20 09:48:21,485 epoch 51 - iter 10/11 - loss 1.53800521 - samples/sec: 94.72\n",
            "2019-12-20 09:48:21,510 ----------------------------------------------------------------------------------------------------\n",
            "2019-12-20 09:48:21,511 EPOCH 51 done: loss 1.5380 - lr 0.0008\n",
            "2019-12-20 09:48:22,114 DEV : loss 5.574506759643555 - score 0.3774\n",
            "2019-12-20 09:48:22,123 BAD EPOCHS (no improvement): 3\n",
            "2019-12-20 09:48:22,125 ----------------------------------------------------------------------------------------------------\n",
            "2019-12-20 09:48:22,694 epoch 52 - iter 0/11 - loss 0.79759133 - samples/sec: 56.33\n",
            "2019-12-20 09:48:23,328 epoch 52 - iter 1/11 - loss 1.25321752 - samples/sec: 52.75\n",
            "2019-12-20 09:48:23,902 epoch 52 - iter 2/11 - loss 1.16184491 - samples/sec: 57.85\n",
            "2019-12-20 09:48:24,445 epoch 52 - iter 3/11 - loss 1.39548017 - samples/sec: 61.20\n",
            "2019-12-20 09:48:25,133 epoch 52 - iter 4/11 - loss 1.38604110 - samples/sec: 47.99\n",
            "2019-12-20 09:48:25,661 epoch 52 - iter 5/11 - loss 1.45777721 - samples/sec: 63.54\n",
            "2019-12-20 09:48:26,209 epoch 52 - iter 6/11 - loss 1.37083870 - samples/sec: 60.95\n",
            "2019-12-20 09:48:26,787 epoch 52 - iter 7/11 - loss 1.48643576 - samples/sec: 57.73\n",
            "2019-12-20 09:48:27,340 epoch 52 - iter 8/11 - loss 1.45767039 - samples/sec: 60.59\n",
            "2019-12-20 09:48:27,954 epoch 52 - iter 9/11 - loss 1.42516946 - samples/sec: 54.94\n",
            "2019-12-20 09:48:28,339 epoch 52 - iter 10/11 - loss 1.32904265 - samples/sec: 91.41\n",
            "2019-12-20 09:48:28,364 ----------------------------------------------------------------------------------------------------\n",
            "2019-12-20 09:48:28,365 EPOCH 52 done: loss 1.3290 - lr 0.0008\n",
            "2019-12-20 09:48:28,926 DEV : loss 5.571866989135742 - score 0.3774\n",
            "Epoch    51: reducing learning rate of group 0 to 3.9063e-04.\n",
            "2019-12-20 09:48:28,934 BAD EPOCHS (no improvement): 4\n",
            "2019-12-20 09:48:28,935 ----------------------------------------------------------------------------------------------------\n",
            "2019-12-20 09:48:29,510 epoch 53 - iter 0/11 - loss 1.55959153 - samples/sec: 55.86\n",
            "2019-12-20 09:48:30,028 epoch 53 - iter 1/11 - loss 1.25034541 - samples/sec: 64.40\n",
            "2019-12-20 09:48:30,629 epoch 53 - iter 2/11 - loss 1.47312272 - samples/sec: 55.13\n",
            "2019-12-20 09:48:31,228 epoch 53 - iter 3/11 - loss 1.42020229 - samples/sec: 55.57\n",
            "2019-12-20 09:48:31,788 epoch 53 - iter 4/11 - loss 1.54499047 - samples/sec: 59.77\n",
            "2019-12-20 09:48:32,362 epoch 53 - iter 5/11 - loss 1.42826724 - samples/sec: 57.98\n",
            "2019-12-20 09:48:32,941 epoch 53 - iter 6/11 - loss 1.52040042 - samples/sec: 57.19\n",
            "2019-12-20 09:48:33,541 epoch 53 - iter 7/11 - loss 1.50195847 - samples/sec: 55.60\n",
            "2019-12-20 09:48:34,055 epoch 53 - iter 8/11 - loss 1.48400545 - samples/sec: 64.86\n",
            "2019-12-20 09:48:34,677 epoch 53 - iter 9/11 - loss 1.40638810 - samples/sec: 53.18\n",
            "2019-12-20 09:48:35,014 epoch 53 - iter 10/11 - loss 1.35885428 - samples/sec: 100.77\n",
            "2019-12-20 09:48:35,035 ----------------------------------------------------------------------------------------------------\n",
            "2019-12-20 09:48:35,036 EPOCH 53 done: loss 1.3589 - lr 0.0004\n",
            "2019-12-20 09:48:35,582 DEV : loss 5.573488712310791 - score 0.3774\n",
            "2019-12-20 09:48:35,590 BAD EPOCHS (no improvement): 1\n",
            "2019-12-20 09:48:35,590 ----------------------------------------------------------------------------------------------------\n",
            "2019-12-20 09:48:36,125 epoch 54 - iter 0/11 - loss 1.16169095 - samples/sec: 60.16\n",
            "2019-12-20 09:48:36,690 epoch 54 - iter 1/11 - loss 1.12508261 - samples/sec: 58.74\n",
            "2019-12-20 09:48:37,220 epoch 54 - iter 2/11 - loss 1.30326080 - samples/sec: 62.77\n",
            "2019-12-20 09:48:37,798 epoch 54 - iter 3/11 - loss 1.22157857 - samples/sec: 57.47\n",
            "2019-12-20 09:48:38,349 epoch 54 - iter 4/11 - loss 1.32717893 - samples/sec: 60.54\n",
            "2019-12-20 09:48:38,897 epoch 54 - iter 5/11 - loss 1.29565936 - samples/sec: 60.65\n",
            "2019-12-20 09:48:39,404 epoch 54 - iter 6/11 - loss 1.33797533 - samples/sec: 65.86\n",
            "2019-12-20 09:48:39,997 epoch 54 - iter 7/11 - loss 1.27162813 - samples/sec: 55.84\n",
            "2019-12-20 09:48:40,545 epoch 54 - iter 8/11 - loss 1.32040466 - samples/sec: 60.77\n",
            "2019-12-20 09:48:41,106 epoch 54 - iter 9/11 - loss 1.35441682 - samples/sec: 59.49\n",
            "2019-12-20 09:48:41,495 epoch 54 - iter 10/11 - loss 1.35292258 - samples/sec: 87.36\n",
            "2019-12-20 09:48:41,522 ----------------------------------------------------------------------------------------------------\n",
            "2019-12-20 09:48:41,523 EPOCH 54 done: loss 1.3529 - lr 0.0004\n",
            "2019-12-20 09:48:42,092 DEV : loss 5.577030181884766 - score 0.3774\n",
            "2019-12-20 09:48:42,103 BAD EPOCHS (no improvement): 2\n",
            "2019-12-20 09:48:42,104 ----------------------------------------------------------------------------------------------------\n",
            "2019-12-20 09:48:42,653 epoch 55 - iter 0/11 - loss 1.36500406 - samples/sec: 58.43\n",
            "2019-12-20 09:48:43,207 epoch 55 - iter 1/11 - loss 1.42863584 - samples/sec: 60.82\n",
            "2019-12-20 09:48:43,705 epoch 55 - iter 2/11 - loss 1.20289648 - samples/sec: 67.07\n",
            "2019-12-20 09:48:44,238 epoch 55 - iter 3/11 - loss 1.43127713 - samples/sec: 62.41\n",
            "2019-12-20 09:48:44,812 epoch 55 - iter 4/11 - loss 1.41992106 - samples/sec: 57.80\n",
            "2019-12-20 09:48:45,353 epoch 55 - iter 5/11 - loss 1.40183081 - samples/sec: 61.95\n",
            "2019-12-20 09:48:45,910 epoch 55 - iter 6/11 - loss 1.38559752 - samples/sec: 59.69\n",
            "2019-12-20 09:48:46,482 epoch 55 - iter 7/11 - loss 1.47171108 - samples/sec: 57.93\n",
            "2019-12-20 09:48:46,948 epoch 55 - iter 8/11 - loss 1.50490076 - samples/sec: 71.74\n",
            "2019-12-20 09:48:47,545 epoch 55 - iter 9/11 - loss 1.43784943 - samples/sec: 55.55\n",
            "2019-12-20 09:48:47,909 epoch 55 - iter 10/11 - loss 1.41715907 - samples/sec: 93.06\n",
            "2019-12-20 09:48:47,929 ----------------------------------------------------------------------------------------------------\n",
            "2019-12-20 09:48:47,930 EPOCH 55 done: loss 1.4172 - lr 0.0004\n",
            "2019-12-20 09:48:48,554 DEV : loss 5.56806755065918 - score 0.3738\n",
            "2019-12-20 09:48:48,563 BAD EPOCHS (no improvement): 3\n",
            "2019-12-20 09:48:48,564 ----------------------------------------------------------------------------------------------------\n",
            "2019-12-20 09:48:49,113 epoch 56 - iter 0/11 - loss 1.81144261 - samples/sec: 58.45\n",
            "2019-12-20 09:48:49,696 epoch 56 - iter 1/11 - loss 1.27061164 - samples/sec: 57.09\n",
            "2019-12-20 09:48:50,258 epoch 56 - iter 2/11 - loss 1.04984335 - samples/sec: 59.12\n",
            "2019-12-20 09:48:50,841 epoch 56 - iter 3/11 - loss 1.04411906 - samples/sec: 57.43\n",
            "2019-12-20 09:48:51,410 epoch 56 - iter 4/11 - loss 1.20249877 - samples/sec: 58.53\n",
            "2019-12-20 09:48:52,005 epoch 56 - iter 5/11 - loss 1.25835121 - samples/sec: 56.57\n",
            "2019-12-20 09:48:52,610 epoch 56 - iter 6/11 - loss 1.23396976 - samples/sec: 55.05\n",
            "2019-12-20 09:48:53,157 epoch 56 - iter 7/11 - loss 1.45616764 - samples/sec: 61.46\n",
            "2019-12-20 09:48:53,750 epoch 56 - iter 8/11 - loss 1.46744707 - samples/sec: 56.67\n",
            "2019-12-20 09:48:54,267 epoch 56 - iter 9/11 - loss 1.44310056 - samples/sec: 64.73\n",
            "2019-12-20 09:48:54,603 epoch 56 - iter 10/11 - loss 1.34241166 - samples/sec: 102.08\n",
            "2019-12-20 09:48:54,624 ----------------------------------------------------------------------------------------------------\n",
            "2019-12-20 09:48:54,624 EPOCH 56 done: loss 1.3424 - lr 0.0004\n",
            "2019-12-20 09:48:55,216 DEV : loss 5.5677971839904785 - score 0.3774\n",
            "Epoch    55: reducing learning rate of group 0 to 1.9531e-04.\n",
            "2019-12-20 09:48:55,224 BAD EPOCHS (no improvement): 4\n",
            "2019-12-20 09:48:55,228 ----------------------------------------------------------------------------------------------------\n",
            "2019-12-20 09:48:55,829 epoch 57 - iter 0/11 - loss 1.56130981 - samples/sec: 53.49\n",
            "2019-12-20 09:48:56,389 epoch 57 - iter 1/11 - loss 1.54862833 - samples/sec: 59.50\n",
            "2019-12-20 09:48:56,912 epoch 57 - iter 2/11 - loss 1.24036825 - samples/sec: 64.13\n",
            "2019-12-20 09:48:57,414 epoch 57 - iter 3/11 - loss 1.18071648 - samples/sec: 66.68\n",
            "2019-12-20 09:48:57,958 epoch 57 - iter 4/11 - loss 1.43012064 - samples/sec: 61.55\n",
            "2019-12-20 09:48:58,455 epoch 57 - iter 5/11 - loss 1.43936187 - samples/sec: 67.52\n",
            "2019-12-20 09:48:59,041 epoch 57 - iter 6/11 - loss 1.41503925 - samples/sec: 57.47\n",
            "2019-12-20 09:48:59,596 epoch 57 - iter 7/11 - loss 1.49127577 - samples/sec: 60.02\n",
            "2019-12-20 09:49:00,163 epoch 57 - iter 8/11 - loss 1.45429647 - samples/sec: 59.27\n",
            "2019-12-20 09:49:00,720 epoch 57 - iter 9/11 - loss 1.42277157 - samples/sec: 59.78\n",
            "2019-12-20 09:49:01,180 epoch 57 - iter 10/11 - loss 1.39048893 - samples/sec: 74.62\n",
            "2019-12-20 09:49:01,205 ----------------------------------------------------------------------------------------------------\n",
            "2019-12-20 09:49:01,207 EPOCH 57 done: loss 1.3905 - lr 0.0002\n",
            "2019-12-20 09:49:01,732 DEV : loss 5.575037479400635 - score 0.3774\n",
            "2019-12-20 09:49:01,740 BAD EPOCHS (no improvement): 1\n",
            "2019-12-20 09:49:01,742 ----------------------------------------------------------------------------------------------------\n",
            "2019-12-20 09:49:02,283 epoch 58 - iter 0/11 - loss 1.09511971 - samples/sec: 59.32\n",
            "2019-12-20 09:49:02,911 epoch 58 - iter 1/11 - loss 0.97164345 - samples/sec: 53.05\n",
            "2019-12-20 09:49:03,487 epoch 58 - iter 2/11 - loss 1.16506525 - samples/sec: 57.63\n",
            "2019-12-20 09:49:04,062 epoch 58 - iter 3/11 - loss 1.21455872 - samples/sec: 57.76\n",
            "2019-12-20 09:49:04,737 epoch 58 - iter 4/11 - loss 1.39517598 - samples/sec: 49.33\n",
            "2019-12-20 09:49:05,285 epoch 58 - iter 5/11 - loss 1.34441801 - samples/sec: 61.43\n",
            "2019-12-20 09:49:05,818 epoch 58 - iter 6/11 - loss 1.32931365 - samples/sec: 62.67\n",
            "2019-12-20 09:49:06,367 epoch 58 - iter 7/11 - loss 1.29445331 - samples/sec: 60.86\n",
            "2019-12-20 09:49:06,899 epoch 58 - iter 8/11 - loss 1.30330167 - samples/sec: 62.84\n",
            "2019-12-20 09:49:07,507 epoch 58 - iter 9/11 - loss 1.30208958 - samples/sec: 55.23\n",
            "2019-12-20 09:49:07,855 epoch 58 - iter 10/11 - loss 1.29203717 - samples/sec: 98.29\n",
            "2019-12-20 09:49:07,875 ----------------------------------------------------------------------------------------------------\n",
            "2019-12-20 09:49:07,878 EPOCH 58 done: loss 1.2920 - lr 0.0002\n",
            "2019-12-20 09:49:08,474 DEV : loss 5.58001184463501 - score 0.3774\n",
            "2019-12-20 09:49:08,485 BAD EPOCHS (no improvement): 2\n",
            "2019-12-20 09:49:08,486 ----------------------------------------------------------------------------------------------------\n",
            "2019-12-20 09:49:09,038 epoch 59 - iter 0/11 - loss 1.15051270 - samples/sec: 58.14\n",
            "2019-12-20 09:49:09,619 epoch 59 - iter 1/11 - loss 1.42532921 - samples/sec: 57.39\n",
            "2019-12-20 09:49:10,167 epoch 59 - iter 2/11 - loss 1.27688289 - samples/sec: 60.85\n",
            "2019-12-20 09:49:10,868 epoch 59 - iter 3/11 - loss 1.44319922 - samples/sec: 47.46\n",
            "2019-12-20 09:49:11,428 epoch 59 - iter 4/11 - loss 1.45750475 - samples/sec: 60.15\n",
            "2019-12-20 09:49:11,933 epoch 59 - iter 5/11 - loss 1.40789855 - samples/sec: 65.98\n",
            "2019-12-20 09:49:12,536 epoch 59 - iter 6/11 - loss 1.37204300 - samples/sec: 55.42\n",
            "2019-12-20 09:49:13,086 epoch 59 - iter 7/11 - loss 1.35386336 - samples/sec: 61.24\n",
            "2019-12-20 09:49:13,661 epoch 59 - iter 8/11 - loss 1.32420092 - samples/sec: 57.88\n",
            "2019-12-20 09:49:14,229 epoch 59 - iter 9/11 - loss 1.40081108 - samples/sec: 58.67\n",
            "2019-12-20 09:49:14,631 epoch 59 - iter 10/11 - loss 1.31279480 - samples/sec: 84.76\n",
            "2019-12-20 09:49:14,652 ----------------------------------------------------------------------------------------------------\n",
            "2019-12-20 09:49:14,652 EPOCH 59 done: loss 1.3128 - lr 0.0002\n",
            "2019-12-20 09:49:15,179 DEV : loss 5.585930824279785 - score 0.3774\n",
            "2019-12-20 09:49:15,189 BAD EPOCHS (no improvement): 3\n",
            "2019-12-20 09:49:15,190 ----------------------------------------------------------------------------------------------------\n",
            "2019-12-20 09:49:15,692 epoch 60 - iter 0/11 - loss 2.43740368 - samples/sec: 63.93\n",
            "2019-12-20 09:49:16,321 epoch 60 - iter 1/11 - loss 1.67824149 - samples/sec: 52.85\n",
            "2019-12-20 09:49:16,885 epoch 60 - iter 2/11 - loss 1.47669280 - samples/sec: 58.87\n",
            "2019-12-20 09:49:17,425 epoch 60 - iter 3/11 - loss 1.51183593 - samples/sec: 61.87\n",
            "2019-12-20 09:49:18,008 epoch 60 - iter 4/11 - loss 1.38042450 - samples/sec: 57.71\n",
            "2019-12-20 09:49:18,575 epoch 60 - iter 5/11 - loss 1.42637547 - samples/sec: 59.71\n",
            "2019-12-20 09:49:19,171 epoch 60 - iter 6/11 - loss 1.39244812 - samples/sec: 55.84\n",
            "2019-12-20 09:49:19,798 epoch 60 - iter 7/11 - loss 1.34047365 - samples/sec: 53.27\n",
            "2019-12-20 09:49:20,393 epoch 60 - iter 8/11 - loss 1.33632529 - samples/sec: 56.04\n",
            "2019-12-20 09:49:20,995 epoch 60 - iter 9/11 - loss 1.29179692 - samples/sec: 55.21\n",
            "2019-12-20 09:49:21,399 epoch 60 - iter 10/11 - loss 1.27716411 - samples/sec: 84.89\n",
            "2019-12-20 09:49:21,418 ----------------------------------------------------------------------------------------------------\n",
            "2019-12-20 09:49:21,419 EPOCH 60 done: loss 1.2772 - lr 0.0002\n",
            "2019-12-20 09:49:22,049 DEV : loss 5.586061000823975 - score 0.3774\n",
            "Epoch    59: reducing learning rate of group 0 to 9.7656e-05.\n",
            "2019-12-20 09:49:22,060 BAD EPOCHS (no improvement): 4\n",
            "2019-12-20 09:49:22,061 ----------------------------------------------------------------------------------------------------\n",
            "2019-12-20 09:49:22,062 ----------------------------------------------------------------------------------------------------\n",
            "2019-12-20 09:49:22,063 learning rate too small - quitting training!\n",
            "2019-12-20 09:49:22,064 ----------------------------------------------------------------------------------------------------\n",
            "2019-12-20 09:49:25,749 ----------------------------------------------------------------------------------------------------\n",
            "2019-12-20 09:49:25,751 Testing using best model ...\n",
            "2019-12-20 09:49:25,754 loading file resources/taggers/example-ner/best-model.pt\n",
            "2019-12-20 09:49:28,994 0.5476\t0.1901\t0.2822\n",
            "2019-12-20 09:49:28,995 \n",
            "MICRO_AVG: acc 0.1643 - f1-score 0.2822\n",
            "MACRO_AVG: acc 0.0675 - f1-score 0.10316666666666667\n",
            "corporation tp: 0 - fp: 2 - fn: 8 - tn: 0 - precision: 0.0000 - recall: 0.0000 - accuracy: 0.0000 - f1-score: 0.0000\n",
            "creative-work tp: 0 - fp: 3 - fn: 11 - tn: 0 - precision: 0.0000 - recall: 0.0000 - accuracy: 0.0000 - f1-score: 0.0000\n",
            "group      tp: 0 - fp: 0 - fn: 20 - tn: 0 - precision: 0.0000 - recall: 0.0000 - accuracy: 0.0000 - f1-score: 0.0000\n",
            "location   tp: 1 - fp: 7 - fn: 12 - tn: 1 - precision: 0.1250 - recall: 0.0769 - accuracy: 0.0500 - f1-score: 0.0952\n",
            "person     tp: 22 - fp: 7 - fn: 33 - tn: 22 - precision: 0.7586 - recall: 0.4000 - accuracy: 0.3548 - f1-score: 0.5238\n",
            "product    tp: 0 - fp: 0 - fn: 14 - tn: 0 - precision: 0.0000 - recall: 0.0000 - accuracy: 0.0000 - f1-score: 0.0000\n",
            "2019-12-20 09:49:28,996 ----------------------------------------------------------------------------------------------------\n"
          ],
          "name": "stdout"
        },
        {
          "output_type": "execute_result",
          "data": {
            "text/plain": [
              "{'test_score': 0.2822,\n",
              " 'dev_score_history': [0.0,\n",
              "  0.0,\n",
              "  0.0,\n",
              "  0.0444,\n",
              "  0.0,\n",
              "  0.0482,\n",
              "  0.0482,\n",
              "  0.069,\n",
              "  0.0706,\n",
              "  0.0482,\n",
              "  0.0899,\n",
              "  0.3269,\n",
              "  0.092,\n",
              "  0.2424,\n",
              "  0.3396,\n",
              "  0.3137,\n",
              "  0.2316,\n",
              "  0.3048,\n",
              "  0.3107,\n",
              "  0.3048,\n",
              "  0.3048,\n",
              "  0.3107,\n",
              "  0.3429,\n",
              "  0.4037,\n",
              "  0.3454,\n",
              "  0.3738,\n",
              "  0.3738,\n",
              "  0.3619,\n",
              "  0.3889,\n",
              "  0.3619,\n",
              "  0.3774,\n",
              "  0.3738,\n",
              "  0.3774,\n",
              "  0.3774,\n",
              "  0.3774,\n",
              "  0.3925,\n",
              "  0.3738,\n",
              "  0.3853,\n",
              "  0.3774,\n",
              "  0.3925,\n",
              "  0.3738,\n",
              "  0.3619,\n",
              "  0.3619,\n",
              "  0.3774,\n",
              "  0.3774,\n",
              "  0.3774,\n",
              "  0.3774,\n",
              "  0.3774,\n",
              "  0.3774,\n",
              "  0.3738,\n",
              "  0.3774,\n",
              "  0.3774,\n",
              "  0.3774,\n",
              "  0.3774,\n",
              "  0.3738,\n",
              "  0.3774,\n",
              "  0.3774,\n",
              "  0.3774,\n",
              "  0.3774,\n",
              "  0.3774],\n",
              " 'train_loss_history': [21.270474910736084,\n",
              "  6.999123703349721,\n",
              "  5.849713488058611,\n",
              "  5.562533118508079,\n",
              "  5.459486441178755,\n",
              "  5.0076798525723545,\n",
              "  4.541613589633595,\n",
              "  4.214189117605036,\n",
              "  4.239456480199641,\n",
              "  3.8059977401386607,\n",
              "  3.726935614239086,\n",
              "  3.591136000373147,\n",
              "  3.384954647584395,\n",
              "  3.0572961352088233,\n",
              "  3.220858183774081,\n",
              "  3.1162516095421533,\n",
              "  2.7643492113460195,\n",
              "  2.76584314216267,\n",
              "  2.8005345355380666,\n",
              "  2.3950350392948496,\n",
              "  2.130468823693015,\n",
              "  2.172294790094549,\n",
              "  2.05667181448503,\n",
              "  2.099099972031333,\n",
              "  1.9603281888094815,\n",
              "  1.8472366333007812,\n",
              "  1.864721661264246,\n",
              "  1.7961426106366245,\n",
              "  1.6533823121677746,\n",
              "  1.575082995674827,\n",
              "  1.5425373640927402,\n",
              "  1.6365149346264927,\n",
              "  1.5023045268925754,\n",
              "  1.551183115352284,\n",
              "  1.5103667974472046,\n",
              "  1.4004076610911975,\n",
              "  1.5136600570245222,\n",
              "  1.563385085626082,\n",
              "  1.4993957172740588,\n",
              "  1.4763382564891467,\n",
              "  1.4545400901274248,\n",
              "  1.3740312294526533,\n",
              "  1.2877373857931658,\n",
              "  1.4156907905231824,\n",
              "  1.4944960529153997,\n",
              "  1.3360364762219517,\n",
              "  1.4731680859218945,\n",
              "  1.41636169498617,\n",
              "  1.3929398168217053,\n",
              "  1.4863658330657266,\n",
              "  1.5380052111365579,\n",
              "  1.3290426541458478,\n",
              "  1.35885427756743,\n",
              "  1.3529225804589011,\n",
              "  1.4171590696681629,\n",
              "  1.3424116643992337,\n",
              "  1.3904889280145818,\n",
              "  1.2920371727509932,\n",
              "  1.312794801863757,\n",
              "  1.277164107019251],\n",
              " 'dev_loss_history': [tensor(7.9272, device='cuda:0'),\n",
              "  tensor(7.1260, device='cuda:0'),\n",
              "  tensor(8.4532, device='cuda:0'),\n",
              "  tensor(6.3630, device='cuda:0'),\n",
              "  tensor(7.7525, device='cuda:0'),\n",
              "  tensor(7.3983, device='cuda:0'),\n",
              "  tensor(8.0177, device='cuda:0'),\n",
              "  tensor(7.0526, device='cuda:0'),\n",
              "  tensor(6.8308, device='cuda:0'),\n",
              "  tensor(7.3998, device='cuda:0'),\n",
              "  tensor(6.5683, device='cuda:0'),\n",
              "  tensor(5.4623, device='cuda:0'),\n",
              "  tensor(7.0797, device='cuda:0'),\n",
              "  tensor(6.5620, device='cuda:0'),\n",
              "  tensor(5.9581, device='cuda:0'),\n",
              "  tensor(5.4509, device='cuda:0'),\n",
              "  tensor(6.4702, device='cuda:0'),\n",
              "  tensor(5.3486, device='cuda:0'),\n",
              "  tensor(6.1391, device='cuda:0'),\n",
              "  tensor(5.5008, device='cuda:0'),\n",
              "  tensor(5.4750, device='cuda:0'),\n",
              "  tensor(5.7667, device='cuda:0'),\n",
              "  tensor(5.6301, device='cuda:0'),\n",
              "  tensor(5.1409, device='cuda:0'),\n",
              "  tensor(5.5014, device='cuda:0'),\n",
              "  tensor(5.2278, device='cuda:0'),\n",
              "  tensor(5.2385, device='cuda:0'),\n",
              "  tensor(5.9293, device='cuda:0'),\n",
              "  tensor(5.4139, device='cuda:0'),\n",
              "  tensor(5.8388, device='cuda:0'),\n",
              "  tensor(5.5952, device='cuda:0'),\n",
              "  tensor(5.6145, device='cuda:0'),\n",
              "  tensor(5.7249, device='cuda:0'),\n",
              "  tensor(5.5962, device='cuda:0'),\n",
              "  tensor(5.7093, device='cuda:0'),\n",
              "  tensor(5.5791, device='cuda:0'),\n",
              "  tensor(5.7019, device='cuda:0'),\n",
              "  tensor(5.5088, device='cuda:0'),\n",
              "  tensor(5.6527, device='cuda:0'),\n",
              "  tensor(5.5295, device='cuda:0'),\n",
              "  tensor(5.5753, device='cuda:0'),\n",
              "  tensor(5.6724, device='cuda:0'),\n",
              "  tensor(5.7104, device='cuda:0'),\n",
              "  tensor(5.7064, device='cuda:0'),\n",
              "  tensor(5.6650, device='cuda:0'),\n",
              "  tensor(5.6543, device='cuda:0'),\n",
              "  tensor(5.6491, device='cuda:0'),\n",
              "  tensor(5.6168, device='cuda:0'),\n",
              "  tensor(5.6197, device='cuda:0'),\n",
              "  tensor(5.5858, device='cuda:0'),\n",
              "  tensor(5.5745, device='cuda:0'),\n",
              "  tensor(5.5719, device='cuda:0'),\n",
              "  tensor(5.5735, device='cuda:0'),\n",
              "  tensor(5.5770, device='cuda:0'),\n",
              "  tensor(5.5681, device='cuda:0'),\n",
              "  tensor(5.5678, device='cuda:0'),\n",
              "  tensor(5.5750, device='cuda:0'),\n",
              "  tensor(5.5800, device='cuda:0'),\n",
              "  tensor(5.5859, device='cuda:0'),\n",
              "  tensor(5.5861, device='cuda:0')]}"
            ]
          },
          "metadata": {
            "tags": []
          },
          "execution_count": 29
        }
      ]
    },
    {
      "cell_type": "code",
      "metadata": {
        "id": "IbJZgMQsr3XV",
        "colab_type": "code",
        "colab": {
          "base_uri": "https://localhost:8080/",
          "height": 1000
        },
        "outputId": "10be3b8b-a187-4565-afc9-417471e86d78"
      },
      "source": [
        "# 8. plot weight traces (optional)\n",
        "\n",
        "from flair.visual.training_curves import Plotter\n",
        "\n",
        "plotter = Plotter()\n",
        "plotter.plot_weights('resources/taggers/example-ner/weights.txt')"
      ],
      "execution_count": 30,
      "outputs": [
        {
          "output_type": "stream",
          "text": [
            "Weights plots are saved in resources/taggers/example-ner/weights.png\n"
          ],
          "name": "stdout"
        },
        {
          "output_type": "display_data",
          "data": {
            "image/png": "[encoded data removed]",
            "text/plain": [
              "<Figure size 576x1296 with 36 Axes>"
            ]
          },
          "metadata": {
            "tags": []
          }
        }
      ]
    },
    {
      "cell_type": "code",
      "metadata": {
        "id": "Hl02ufNsuK7M",
        "colab_type": "code",
        "colab": {
          "base_uri": "https://localhost:8080/",
          "height": 73
        },
        "outputId": "cdfa7d7d-97e3-4c8a-e054-7f87c9befad5"
      },
      "source": [
        "from flair.data import Sentence\n",
        "\n",
        "# load the model you trained\n",
        "model = SequenceTagger.load('resources/taggers/example-ner/best-model.pt')\n",
        "\n",
        "# create example sentence\n",
        "sentence = Sentence('I love Berlin.')\n",
        "\n",
        "# predict tags and print\n",
        "model.predict(sentence)\n",
        "\n",
        "print(sentence.to_tagged_string())"
      ],
      "execution_count": 33,
      "outputs": [
        {
          "output_type": "stream",
          "text": [
            "2019-12-20 09:53:50,344 loading file resources/taggers/example-ner/best-model.pt\n",
            "I love Berlin.\n"
          ],
          "name": "stdout"
        }
      ]
    },
    {
      "cell_type": "code",
      "metadata": {
        "id": "0U3mZ1WOuid0",
        "colab_type": "code",
        "colab": {}
      },
      "source": [
        ""
      ],
      "execution_count": 0,
      "outputs": []
    }
  ]
}