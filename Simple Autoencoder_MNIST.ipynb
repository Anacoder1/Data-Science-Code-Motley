{
  "nbformat": 4,
  "nbformat_minor": 0,
  "metadata": {
    "colab": {
      "name": "Simple Autoencoder_MNIST.ipynb",
      "version": "0.3.2",
      "provenance": [],
      "collapsed_sections": []
    },
    "kernelspec": {
      "name": "python3",
      "display_name": "Python 3"
    },
    "accelerator": "GPU"
  },
  "cells": [
    {
      "cell_type": "code",
      "metadata": {
        "id": "rYDuG6EKLLXf",
        "colab_type": "code",
        "colab": {}
      },
      "source": [
        "import matplotlib.pyplot as plt"
      ],
      "execution_count": 0,
      "outputs": []
    },
    {
      "cell_type": "code",
      "metadata": {
        "id": "Tgku1vgSLQDQ",
        "colab_type": "code",
        "colab": {
          "base_uri": "https://localhost:8080/",
          "height": 35
        },
        "outputId": "e39dc1f1-9aae-4a9f-e4a2-8d65ff86cf57"
      },
      "source": [
        "from keras.models import Model\n",
        "from keras.layers import Input, Dense"
      ],
      "execution_count": 2,
      "outputs": [
        {
          "output_type": "stream",
          "text": [
            "Using TensorFlow backend.\n"
          ],
          "name": "stderr"
        }
      ]
    },
    {
      "cell_type": "code",
      "metadata": {
        "id": "BneG_ZETLW1r",
        "colab_type": "code",
        "colab": {}
      },
      "source": [
        "## Load data\n",
        "\n",
        "from keras.datasets import mnist"
      ],
      "execution_count": 0,
      "outputs": []
    },
    {
      "cell_type": "code",
      "metadata": {
        "id": "Rc3lMNxaLa-v",
        "colab_type": "code",
        "colab": {}
      },
      "source": [
        "## Input image dimensions\n",
        "\n",
        "img_rows, img_cols = 28, 28\n",
        "input_shape = (img_rows * img_cols, )"
      ],
      "execution_count": 0,
      "outputs": []
    },
    {
      "cell_type": "code",
      "metadata": {
        "id": "hibyxER7Ls7G",
        "colab_type": "code",
        "colab": {
          "base_uri": "https://localhost:8080/",
          "height": 53
        },
        "outputId": "babcaa43-fcec-4083-9bbd-52e25f6778a8"
      },
      "source": [
        "## The data, shuffled and split b/w train and test sets\n",
        "\n",
        "(X_train, _), (X_test, _) = mnist.load_data()\n",
        "\n",
        "X_train = X_train.reshape(X_train.shape[0], img_rows * img_cols)\n",
        "X_test = X_test.reshape(X_test.shape[0], img_rows * img_cols)\n",
        "\n",
        "X_train = X_train.astype('float32') / 255.\n",
        "X_test = X_test.astype('float32') / 255.\n",
        "\n",
        "print(X_train.shape[0], ' training samples')\n",
        "print(X_test.shape[0], ' test samples')"
      ],
      "execution_count": 5,
      "outputs": [
        {
          "output_type": "stream",
          "text": [
            "60000  training samples\n",
            "10000  test samples\n"
          ],
          "name": "stdout"
        }
      ]
    },
    {
      "cell_type": "code",
      "metadata": {
        "id": "WO5VKJ8ZMN7E",
        "colab_type": "code",
        "colab": {}
      },
      "source": [
        "def AE(features_shape):\n",
        "  \n",
        "  ## Input\n",
        "  x = Input(name = 'inputs', shape = features_shape,\n",
        "            dtype = 'float32')\n",
        "  o = x\n",
        "  \n",
        "  ## Encoder\n",
        "  enc = Dense(32, activation = 'relu', name = 'encoder')(o)\n",
        "  \n",
        "  ## Decoder\n",
        "  dec = Dense(features_shape[0], activation = 'sigmoid',\n",
        "              name = 'decoder')(enc)\n",
        "  \n",
        "  ## Print network summary\n",
        "  Model(inputs = x, outputs = dec).summary()\n",
        "  \n",
        "  return Model(inputs = x, outputs = dec)"
      ],
      "execution_count": 0,
      "outputs": []
    },
    {
      "cell_type": "code",
      "metadata": {
        "id": "odA4PDKWNYJ_",
        "colab_type": "code",
        "colab": {
          "base_uri": "https://localhost:8080/",
          "height": 1000
        },
        "outputId": "2ece879b-06b8-4b58-afc5-0b66e1cfebc5"
      },
      "source": [
        "batch_size = 128\n",
        "epochs = 40\n",
        "\n",
        "autoencoder = AE(input_shape)\n",
        "\n",
        "autoencoder.compile(optimizer = 'adadelta',\n",
        "                    loss = 'binary_crossentropy')\n",
        "\n",
        "autoencoder.fit(X_train, X_train,\n",
        "                epochs = epochs,\n",
        "                batch_size = batch_size,\n",
        "                shuffle = True,\n",
        "                validation_data = (X_test, X_test))"
      ],
      "execution_count": 7,
      "outputs": [
        {
          "output_type": "stream",
          "text": [
            "WARNING: Logging before flag parsing goes to stderr.\n",
            "W0810 21:39:28.436095 140573784262528 deprecation_wrapper.py:119] From /usr/local/lib/python3.6/dist-packages/keras/backend/tensorflow_backend.py:517: The name tf.placeholder is deprecated. Please use tf.compat.v1.placeholder instead.\n",
            "\n",
            "W0810 21:39:28.466198 140573784262528 deprecation_wrapper.py:119] From /usr/local/lib/python3.6/dist-packages/keras/backend/tensorflow_backend.py:4138: The name tf.random_uniform is deprecated. Please use tf.random.uniform instead.\n",
            "\n",
            "W0810 21:39:28.500042 140573784262528 deprecation_wrapper.py:119] From /usr/local/lib/python3.6/dist-packages/keras/backend/tensorflow_backend.py:74: The name tf.get_default_graph is deprecated. Please use tf.compat.v1.get_default_graph instead.\n",
            "\n",
            "W0810 21:39:28.508596 140573784262528 deprecation_wrapper.py:119] From /usr/local/lib/python3.6/dist-packages/keras/optimizers.py:790: The name tf.train.Optimizer is deprecated. Please use tf.compat.v1.train.Optimizer instead.\n",
            "\n",
            "W0810 21:39:28.526691 140573784262528 deprecation_wrapper.py:119] From /usr/local/lib/python3.6/dist-packages/keras/backend/tensorflow_backend.py:3376: The name tf.log is deprecated. Please use tf.math.log instead.\n",
            "\n",
            "W0810 21:39:28.535609 140573784262528 deprecation.py:323] From /usr/local/lib/python3.6/dist-packages/tensorflow/python/ops/nn_impl.py:180: add_dispatch_support.<locals>.wrapper (from tensorflow.python.ops.array_ops) is deprecated and will be removed in a future version.\n",
            "Instructions for updating:\n",
            "Use tf.where in 2.0, which has the same broadcast rule as np.where\n"
          ],
          "name": "stderr"
        },
        {
          "output_type": "stream",
          "text": [
            "_________________________________________________________________\n",
            "Layer (type)                 Output Shape              Param #   \n",
            "=================================================================\n",
            "inputs (InputLayer)          (None, 784)               0         \n",
            "_________________________________________________________________\n",
            "encoder (Dense)              (None, 32)                25120     \n",
            "_________________________________________________________________\n",
            "decoder (Dense)              (None, 784)               25872     \n",
            "=================================================================\n",
            "Total params: 50,992\n",
            "Trainable params: 50,992\n",
            "Non-trainable params: 0\n",
            "_________________________________________________________________\n"
          ],
          "name": "stdout"
        },
        {
          "output_type": "stream",
          "text": [
            "W0810 21:39:28.763382 140573784262528 deprecation_wrapper.py:119] From /usr/local/lib/python3.6/dist-packages/keras/backend/tensorflow_backend.py:986: The name tf.assign_add is deprecated. Please use tf.compat.v1.assign_add instead.\n",
            "\n"
          ],
          "name": "stderr"
        },
        {
          "output_type": "stream",
          "text": [
            "Train on 60000 samples, validate on 10000 samples\n",
            "Epoch 1/40\n",
            "60000/60000 [==============================] - 3s 54us/step - loss: 0.3141 - val_loss: 0.2541\n",
            "Epoch 2/40\n",
            "60000/60000 [==============================] - 2s 38us/step - loss: 0.2309 - val_loss: 0.2091\n",
            "Epoch 3/40\n",
            "60000/60000 [==============================] - 2s 38us/step - loss: 0.1985 - val_loss: 0.1871\n",
            "Epoch 4/40\n",
            "60000/60000 [==============================] - 2s 38us/step - loss: 0.1815 - val_loss: 0.1735\n",
            "Epoch 5/40\n",
            "60000/60000 [==============================] - 2s 38us/step - loss: 0.1699 - val_loss: 0.1633\n",
            "Epoch 6/40\n",
            "60000/60000 [==============================] - 2s 38us/step - loss: 0.1606 - val_loss: 0.1550\n",
            "Epoch 7/40\n",
            "60000/60000 [==============================] - 2s 38us/step - loss: 0.1531 - val_loss: 0.1482\n",
            "Epoch 8/40\n",
            "60000/60000 [==============================] - 2s 38us/step - loss: 0.1469 - val_loss: 0.1425\n",
            "Epoch 9/40\n",
            "60000/60000 [==============================] - 2s 38us/step - loss: 0.1415 - val_loss: 0.1375\n",
            "Epoch 10/40\n",
            "60000/60000 [==============================] - 2s 38us/step - loss: 0.1367 - val_loss: 0.1330\n",
            "Epoch 11/40\n",
            "60000/60000 [==============================] - 2s 37us/step - loss: 0.1324 - val_loss: 0.1287\n",
            "Epoch 12/40\n",
            "60000/60000 [==============================] - 2s 38us/step - loss: 0.1283 - val_loss: 0.1248\n",
            "Epoch 13/40\n",
            "60000/60000 [==============================] - 2s 37us/step - loss: 0.1246 - val_loss: 0.1213\n",
            "Epoch 14/40\n",
            "60000/60000 [==============================] - 2s 38us/step - loss: 0.1213 - val_loss: 0.1180\n",
            "Epoch 15/40\n",
            "60000/60000 [==============================] - 2s 38us/step - loss: 0.1182 - val_loss: 0.1152\n",
            "Epoch 16/40\n",
            "60000/60000 [==============================] - 2s 38us/step - loss: 0.1156 - val_loss: 0.1127\n",
            "Epoch 17/40\n",
            "60000/60000 [==============================] - 2s 38us/step - loss: 0.1133 - val_loss: 0.1106\n",
            "Epoch 18/40\n",
            "60000/60000 [==============================] - 2s 38us/step - loss: 0.1113 - val_loss: 0.1087\n",
            "Epoch 19/40\n",
            "60000/60000 [==============================] - 2s 38us/step - loss: 0.1096 - val_loss: 0.1071\n",
            "Epoch 20/40\n",
            "60000/60000 [==============================] - 2s 38us/step - loss: 0.1081 - val_loss: 0.1057\n",
            "Epoch 21/40\n",
            "60000/60000 [==============================] - 2s 39us/step - loss: 0.1068 - val_loss: 0.1045\n",
            "Epoch 22/40\n",
            "60000/60000 [==============================] - 2s 40us/step - loss: 0.1056 - val_loss: 0.1034\n",
            "Epoch 23/40\n",
            "60000/60000 [==============================] - 2s 40us/step - loss: 0.1046 - val_loss: 0.1024\n",
            "Epoch 24/40\n",
            "60000/60000 [==============================] - 2s 40us/step - loss: 0.1036 - val_loss: 0.1016\n",
            "Epoch 25/40\n",
            "60000/60000 [==============================] - 2s 39us/step - loss: 0.1028 - val_loss: 0.1008\n",
            "Epoch 26/40\n",
            "60000/60000 [==============================] - 2s 38us/step - loss: 0.1021 - val_loss: 0.1002\n",
            "Epoch 27/40\n",
            "60000/60000 [==============================] - 2s 38us/step - loss: 0.1015 - val_loss: 0.0996\n",
            "Epoch 28/40\n",
            "60000/60000 [==============================] - 2s 38us/step - loss: 0.1009 - val_loss: 0.0990\n",
            "Epoch 29/40\n",
            "60000/60000 [==============================] - 2s 38us/step - loss: 0.1004 - val_loss: 0.0985\n",
            "Epoch 30/40\n",
            "60000/60000 [==============================] - 2s 37us/step - loss: 0.0999 - val_loss: 0.0981\n",
            "Epoch 31/40\n",
            "60000/60000 [==============================] - 2s 37us/step - loss: 0.0995 - val_loss: 0.0977\n",
            "Epoch 32/40\n",
            "60000/60000 [==============================] - 2s 38us/step - loss: 0.0992 - val_loss: 0.0974\n",
            "Epoch 33/40\n",
            "60000/60000 [==============================] - 2s 38us/step - loss: 0.0989 - val_loss: 0.0971\n",
            "Epoch 34/40\n",
            "60000/60000 [==============================] - 2s 37us/step - loss: 0.0986 - val_loss: 0.0968\n",
            "Epoch 35/40\n",
            "60000/60000 [==============================] - 2s 38us/step - loss: 0.0983 - val_loss: 0.0966\n",
            "Epoch 36/40\n",
            "60000/60000 [==============================] - 2s 38us/step - loss: 0.0981 - val_loss: 0.0964\n",
            "Epoch 37/40\n",
            "60000/60000 [==============================] - 2s 37us/step - loss: 0.0978 - val_loss: 0.0961\n",
            "Epoch 38/40\n",
            "60000/60000 [==============================] - 2s 38us/step - loss: 0.0976 - val_loss: 0.0960\n",
            "Epoch 39/40\n",
            "60000/60000 [==============================] - 2s 38us/step - loss: 0.0974 - val_loss: 0.0958\n",
            "Epoch 40/40\n",
            "60000/60000 [==============================] - 2s 37us/step - loss: 0.0973 - val_loss: 0.0956\n"
          ],
          "name": "stdout"
        },
        {
          "output_type": "execute_result",
          "data": {
            "text/plain": [
              "<keras.callbacks.History at 0x7fd9975da128>"
            ]
          },
          "metadata": {
            "tags": []
          },
          "execution_count": 7
        }
      ]
    },
    {
      "cell_type": "code",
      "metadata": {
        "id": "Oaa90e1kN6cQ",
        "colab_type": "code",
        "colab": {}
      },
      "source": [
        "decoded_imgs = autoencoder.predict(X_test)"
      ],
      "execution_count": 0,
      "outputs": []
    },
    {
      "cell_type": "code",
      "metadata": {
        "id": "S7bZ3OIfOZvQ",
        "colab_type": "code",
        "colab": {
          "base_uri": "https://localhost:8080/",
          "height": 264
        },
        "outputId": "718cfa10-8c8a-4de0-8572-5fbf6a04bbf9"
      },
      "source": [
        "n = 10\n",
        "plt.figure(figsize = (20, 4))\n",
        "\n",
        "for i in range(1, n + 1):\n",
        "  ## Display original images\n",
        "  ax = plt.subplot(2, n, i)\n",
        "  plt.imshow(X_test[i].reshape(28, 28))\n",
        "  plt.gray()\n",
        "  ax.get_xaxis().set_visible(False)\n",
        "  ax.get_yaxis().set_visible(False)\n",
        "  \n",
        "  ## Display reconstructed images\n",
        "  ax = plt.subplot(2, n, i + n)\n",
        "  plt.imshow(decoded_imgs[i].reshape(28, 28))\n",
        "  plt.gray()\n",
        "  ax.get_xaxis().set_visible(False)\n",
        "  ax.get_yaxis().set_visible(False)\n",
        "plt.show()"
      ],
      "execution_count": 9,
      "outputs": [
        {
          "output_type": "display_data",
          "data": {
            "image/png": "[encoded data removed]",
            "text/plain": [
              "<Figure size 1440x288 with 20 Axes>"
            ]
          },
          "metadata": {
            "tags": []
          }
        }
      ]
    }
  ]
}