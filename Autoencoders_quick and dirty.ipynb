{
  "nbformat": 4,
  "nbformat_minor": 0,
  "metadata": {
    "colab": {
      "name": "Autoencoders - quick and dirty.ipynb",
      "version": "0.3.2",
      "provenance": [],
      "collapsed_sections": []
    },
    "kernelspec": {
      "name": "python3",
      "display_name": "Python 3"
    },
    "accelerator": "GPU"
  },
  "cells": [
    {
      "cell_type": "code",
      "metadata": {
        "id": "rF9J10pk_u4X",
        "colab_type": "code",
        "colab": {
          "base_uri": "https://localhost:8080/",
          "height": 35
        },
        "outputId": "084cad94-ea78-4ad2-9272-77da01b16b23"
      },
      "source": [
        "import numpy as np\n",
        "import matplotlib.pyplot as plt\n",
        "import cv2\n",
        "import sys\n",
        "import os\n",
        "\n",
        "from random import shuffle, randint, choice\n",
        "from keras.datasets import mnist\n",
        "from keras.layers import Input\n",
        "from keras.layers.core import Dense\n",
        "from keras.layers.convolutional import Conv2D, MaxPooling2D\n",
        "from keras.layers.convolutional import UpSampling2D\n",
        "from keras.models import Model, model_from_json\n",
        "from keras.callbacks import TensorBoard"
      ],
      "execution_count": 1,
      "outputs": [
        {
          "output_type": "stream",
          "text": [
            "Using TensorFlow backend.\n"
          ],
          "name": "stderr"
        }
      ]
    },
    {
      "cell_type": "code",
      "metadata": {
        "id": "i653eo5zAaQ5",
        "colab_type": "code",
        "colab": {}
      },
      "source": [
        "## Generates random image with squares and circles\n",
        "\n",
        "def getRandomImage():\n",
        "  imageSize = 100\n",
        "  size = 25\n",
        "  nbShapes = 5\n",
        "  \n",
        "  xy = lambda: randint(0, 100)\n",
        "  \n",
        "  # Create a white image\n",
        "  img = np.zeros((imageSize, imageSize, 3), np.uint8)\n",
        "  cv2.rectangle(img, (0, 0), (imageSize, imageSize), (122, 122, 122), -1)\n",
        "  \n",
        "  greyImg = np.copy(img)\n",
        "  \n",
        "  # Adds some shapes\n",
        "  for i in range(nbShapes):\n",
        "    x0, y0 = xy(), xy()\n",
        "    isRect = choice((True, False))\n",
        "    if isRect:\n",
        "      cv2.rectangle(img, (x0, y0), (x0 + size, y0 + size), (255, 0, 0), -1)\n",
        "      cv2.rectangle(greyImg, (x0, y0), (x0 + size, y0 + size), (255, 255, 255), -1)\n",
        "      \n",
        "    else:\n",
        "      cv2.circle(img, (x0, y0), int(size / 2), (0, 0, 255), -1)\n",
        "      cv2.circle(greyImg, (x0, y0), int(size / 2), (255, 255, 255), -1)\n",
        "      \n",
        "  return cv2.resize(img, (48, 48)), cv2.resize(greyImg, (48, 48))"
      ],
      "execution_count": 0,
      "outputs": []
    },
    {
      "cell_type": "code",
      "metadata": {
        "id": "3oRNBYN3DInp",
        "colab_type": "code",
        "colab": {}
      },
      "source": [
        "## Creates the dataset\n",
        "\n",
        "def getDataset(display = False):\n",
        "  # Show what the dataset looks like\n",
        "  if display:\n",
        "    colorImg, greyImg = getRandomImage()\n",
        "    img = np.hstack((colorImg, greyImg))\n",
        "    cv2.imshow(\"Dataset\", cv2.resize(img, (200, 100)))\n",
        "    cv2.waitKey(0)\n",
        "    cv2.destroyAllWindows()\n",
        "    \n",
        "  # for i in range\n",
        "  \n",
        "  x_train, x_test, y_train, y_test = [], [], [], []\n",
        "  \n",
        "  \n",
        "  # Add training examples\n",
        "  for i in range(10000):\n",
        "    colorImg, greyImg = getRandomImage()\n",
        "    greyImg = cv2.cvtColor(greyImg, cv2.COLOR_RGB2GRAY)\n",
        "    x_train.append(greyImg.astype('float32') / 255.)\n",
        "    y_train.append(colorImg.astype('float32') / 255.)\n",
        "    \n",
        "  # Add test examples\n",
        "  for i in range(1000):\n",
        "    colorImg, greyImg = getRandomImage()\n",
        "    greyImg = cv2.cvtColor(greyImg, cv2.COLOR_RGB2GRAY)\n",
        "    x_test.append(greyImg.astype('float32') / 255.)\n",
        "    y_test.append(colorImg.astype('float32') / 255.)\n",
        "    \n",
        "  \n",
        "  # Reshape\n",
        "  x_train = np.array(x_train).reshape((-1, 48, 48, 1))\n",
        "  x_test = np.array(x_test).reshape((-1, 48, 48, 1))\n",
        "  y_train = np.array(y_train).reshape((-1, 48, 48, 3))\n",
        "  y_test = np.array(y_test).reshape((-1, 48, 48, 3))\n",
        "  \n",
        "  return x_train, y_train, x_test, y_test"
      ],
      "execution_count": 0,
      "outputs": []
    },
    {
      "cell_type": "code",
      "metadata": {
        "id": "U593zNvcFHRZ",
        "colab_type": "code",
        "colab": {}
      },
      "source": [
        "## Creates the Convolutional Autoencoder\n",
        "\n",
        "def getModel():\n",
        "  input_img = Input(shape = (48, 48, 1))\n",
        "  x = Conv2D(16, (3, 3), activation = 'relu', padding = 'same')(input_img)\n",
        "  x = MaxPooling2D((2, 2), padding = 'same')(x)\n",
        "  x = Conv2D(32, (3, 3), activation = 'relu', padding = 'same')(x)\n",
        "  x = MaxPooling2D((2, 2), padding = 'same')(x)\n",
        "  x = Conv2D(64, (3, 3), activation = 'relu', padding = 'same')(x)\n",
        "  encoded = MaxPooling2D((2, 2), padding = 'same')(x)\n",
        "  \n",
        "  # 6x6x32 -- bottleneck\n",
        "  \n",
        "  x = Conv2D(64, (3, 3), activation = 'relu', padding = 'same')(encoded)\n",
        "  x = UpSampling2D((2, 2))(x)\n",
        "  x = Conv2D(32, (3, 3), activation = 'relu', padding = 'same')(x)\n",
        "  x = UpSampling2D((2, 2))(x)\n",
        "  x = Conv2D(16, (3, 3), activation = 'relu', padding = 'same')(x)\n",
        "  x = UpSampling2D((2, 2))(x)\n",
        "  decoded = Conv2D(3, (3, 3), activation = 'relu', padding = 'same')(x)\n",
        "  \n",
        "  \n",
        "  # Create model\n",
        "  autoencoder = Model(input_img, decoded)\n",
        "  return autoencoder"
      ],
      "execution_count": 0,
      "outputs": []
    },
    {
      "cell_type": "code",
      "metadata": {
        "id": "jI-VK4QOIWmw",
        "colab_type": "code",
        "colab": {}
      },
      "source": [
        "## Trains the model for 15 epochs\n",
        "\n",
        "def trainModel():\n",
        "  \n",
        "  # Load dataset\n",
        "  print(\"Loading dataset...\")\n",
        "  x_train_gray, x_train, x_test_gray, x_test = getDataset()\n",
        "  \n",
        "  # Create model description\n",
        "  print(\"Creating model...\")\n",
        "  model = getModel()\n",
        "  model.compile(optimizer = 'adam',\n",
        "                loss = 'binary_crossentropy',\n",
        "                metrics = ['accuracy'])\n",
        "  \n",
        "  # Train model\n",
        "  print(\"Training model...\")\n",
        "  model.fit(x_train_gray, x_train,\n",
        "            epochs = 15,\n",
        "            batch_size = 128,\n",
        "            shuffle = True,\n",
        "            validation_data = (x_test_gray, x_test),\n",
        "            callbacks = [TensorBoard(log_dir = '/tb', histogram_freq = 0, write_graph = False)])\n",
        "  \n",
        "  \n",
        "  # Evaluate loaded model on test data\n",
        "  print(\"Evaluating model...\")\n",
        "  score = model.evaluate(x_train_gray, x_train, verbose = 0)\n",
        "  print(\"{}: {} %\".format(model.metrics_names[1], score[1] * 100))\n",
        "  \n",
        "  \n",
        "  # Serialize model to JSON\n",
        "  print(\"Saving model...\")\n",
        "  model_json = model.to_json()\n",
        "  with open(\"model.json\", \"w\") as json_file:\n",
        "    json_file.write(model_json)\n",
        "    \n",
        "  \n",
        "  # Serialize weights to HDF5\n",
        "  print(\"Saving weights...\")\n",
        "  model.save_weights(\"model.h5\")"
      ],
      "execution_count": 0,
      "outputs": []
    },
    {
      "cell_type": "code",
      "metadata": {
        "id": "G8GegOzAKY1n",
        "colab_type": "code",
        "colab": {}
      },
      "source": [
        "## Tests the model and shows results\n",
        "\n",
        "def testModel():\n",
        "  # Load JSON model description\n",
        "  with open('model.json', 'r') as json_file:\n",
        "    modelJSON = json_file.read()\n",
        "    \n",
        "  \n",
        "  # Build model from JSON description\n",
        "  print(\"Loading model...\")\n",
        "  model = model_from_json(modelJSON)\n",
        "  \n",
        "  \n",
        "  # Load weights\n",
        "  print(\"Loading weights...\")\n",
        "  model.load_weights(\"model.h5\")\n",
        "  \n",
        "  \n",
        "  _, _, x_test_gray, x_test = getDataset()\n",
        "  x_test_gray = x_test_gray[:10]\n",
        "  x_test = x_test[:10]\n",
        "  \n",
        "  print(\"Making predictions...\")\n",
        "  predictions = model.predict(x_test_gray)\n",
        "  x_test_gray = [cv2.cvtColor(img, cv2.COLOR_GRAY2RGB) for img in x_test_gray]\n",
        "  \n",
        "  \n",
        "  img = np.vstack((np.hstack(x_test_gray),\n",
        "                   np.hstack(predictions),\n",
        "                   np.hstack(x_test)))\n",
        "  \n",
        "  \n",
        "  print(\"Input image, reconstructed image, and ground truth displayed top to bottom\")\n",
        "  plt.imshow(img)  "
      ],
      "execution_count": 0,
      "outputs": []
    },
    {
      "cell_type": "code",
      "metadata": {
        "id": "Y7vk8xpfL0Fp",
        "colab_type": "code",
        "outputId": "dd129bfc-c258-450b-dec8-8c378c92cd62",
        "colab": {
          "base_uri": "https://localhost:8080/",
          "height": 940
        }
      },
      "source": [
        "getRandomImage()\n",
        "getDataset()\n",
        "getModel()\n",
        "trainModel()\n",
        "testModel()"
      ],
      "execution_count": 8,
      "outputs": [
        {
          "output_type": "stream",
          "text": [
            "Loading dataset...\n",
            "Creating model...\n",
            "Training model...\n",
            "Train on 10000 samples, validate on 1000 samples\n",
            "Epoch 1/15\n",
            "10000/10000 [==============================] - 4s 365us/step - loss: 0.7921 - acc: 0.1178 - val_loss: 0.6886 - val_acc: 0.1280\n",
            "Epoch 2/15\n",
            "10000/10000 [==============================] - 3s 316us/step - loss: 0.6792 - acc: 0.1299 - val_loss: 0.6708 - val_acc: 0.1373\n",
            "Epoch 3/15\n",
            "10000/10000 [==============================] - 3s 313us/step - loss: 0.6623 - acc: 0.1457 - val_loss: 0.6483 - val_acc: 0.1637\n",
            "Epoch 4/15\n",
            "10000/10000 [==============================] - 3s 314us/step - loss: 0.6417 - acc: 0.1691 - val_loss: 0.6379 - val_acc: 0.1747\n",
            "Epoch 5/15\n",
            "10000/10000 [==============================] - 3s 314us/step - loss: 0.6293 - acc: 0.1738 - val_loss: 0.6422 - val_acc: 0.1723\n",
            "Epoch 6/15\n",
            "10000/10000 [==============================] - 3s 315us/step - loss: 0.6320 - acc: 0.1736 - val_loss: 0.6190 - val_acc: 0.1785\n",
            "Epoch 7/15\n",
            "10000/10000 [==============================] - 3s 315us/step - loss: 0.6172 - acc: 0.1782 - val_loss: 0.6139 - val_acc: 0.1807\n",
            "Epoch 8/15\n",
            "10000/10000 [==============================] - 3s 314us/step - loss: 0.6229 - acc: 0.1712 - val_loss: 0.6313 - val_acc: 0.1627\n",
            "Epoch 9/15\n",
            "10000/10000 [==============================] - 3s 314us/step - loss: 0.6171 - acc: 0.1776 - val_loss: 0.6299 - val_acc: 0.1764\n",
            "Epoch 10/15\n",
            "10000/10000 [==============================] - 3s 316us/step - loss: 0.6104 - acc: 0.1787 - val_loss: 0.6012 - val_acc: 0.1814\n",
            "Epoch 11/15\n",
            "10000/10000 [==============================] - 3s 314us/step - loss: 0.6062 - acc: 0.1787 - val_loss: 0.6079 - val_acc: 0.1799\n",
            "Epoch 12/15\n",
            "10000/10000 [==============================] - 3s 316us/step - loss: 0.6029 - acc: 0.1799 - val_loss: 0.6039 - val_acc: 0.1800\n",
            "Epoch 13/15\n",
            "10000/10000 [==============================] - 3s 314us/step - loss: 0.6076 - acc: 0.1780 - val_loss: 0.5996 - val_acc: 0.1810\n",
            "Epoch 14/15\n",
            "10000/10000 [==============================] - 3s 313us/step - loss: 0.6222 - acc: 0.1709 - val_loss: 0.6596 - val_acc: 0.1413\n",
            "Epoch 15/15\n",
            "10000/10000 [==============================] - 3s 314us/step - loss: 0.6244 - acc: 0.1699 - val_loss: 0.6048 - val_acc: 0.1800\n",
            "Evaluating model...\n",
            "acc: 17.873766486644747 %\n",
            "Saving model...\n",
            "Saving weights...\n",
            "Loading model...\n",
            "Loading weights...\n"
          ],
          "name": "stdout"
        },
        {
          "output_type": "stream",
          "text": [
            "W0808 16:16:38.542657 139742888171392 image.py:648] Clipping input data to the valid range for imshow with RGB data ([0..1] for floats or [0..255] for integers).\n"
          ],
          "name": "stderr"
        },
        {
          "output_type": "stream",
          "text": [
            "Making predictions...\n",
            "Input image, reconstructed image, and ground truth displayed top to bottom\n"
          ],
          "name": "stdout"
        },
        {
          "output_type": "display_data",
          "data": {
            "image/png": "[encoded data removed]",
            "text/plain": [
              "<Figure size 432x288 with 1 Axes>"
            ]
          },
          "metadata": {
            "tags": []
          }
        }
      ]
    }
  ]
}