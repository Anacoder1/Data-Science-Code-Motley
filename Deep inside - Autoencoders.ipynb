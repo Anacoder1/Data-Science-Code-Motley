{
  "nbformat": 4,
  "nbformat_minor": 0,
  "metadata": {
    "colab": {
      "name": "Deep inside: Autoencoders.ipynb",
      "version": "0.3.2",
      "provenance": [],
      "collapsed_sections": []
    },
    "kernelspec": {
      "name": "python3",
      "display_name": "Python 3"
    },
    "accelerator": "GPU"
  },
  "cells": [
    {
      "cell_type": "markdown",
      "metadata": {
        "id": "5JgFlNj-4qrv",
        "colab_type": "text"
      },
      "source": [
        "## Import the libraries"
      ]
    },
    {
      "cell_type": "code",
      "metadata": {
        "id": "aB6RU0ynjwrx",
        "colab_type": "code",
        "outputId": "86c6c152-b893-4922-849e-d266931603a4",
        "colab": {
          "base_uri": "https://localhost:8080/",
          "height": 35
        }
      },
      "source": [
        "import keras\n",
        "import numpy as np\n",
        "import matplotlib.pyplot as plt\n",
        "%matplotlib inline\n",
        "\n",
        "from keras.datasets import mnist\n",
        "from keras.models import Model\n",
        "from keras.layers import Input, add\n",
        "from keras.layers.core import Layer, Dense, Dropout\n",
        "from keras.layers.core import Activation, Flatten, Reshape\n",
        "from keras import regularizers\n",
        "from keras.regularizers import l2\n",
        "from keras.layers.convolutional import Conv2D, MaxPooling2D\n",
        "from keras.layers.convolutional import UpSampling2D, ZeroPadding2D\n",
        "from keras.utils import np_utils"
      ],
      "execution_count": 1,
      "outputs": [
        {
          "output_type": "stream",
          "text": [
            "Using TensorFlow backend.\n"
          ],
          "name": "stderr"
        }
      ]
    },
    {
      "cell_type": "markdown",
      "metadata": {
        "id": "76tcHwdS5Zmh",
        "colab_type": "text"
      },
      "source": [
        "## Load the data"
      ]
    },
    {
      "cell_type": "markdown",
      "metadata": {
        "id": "qvO7xaNp5cQk",
        "colab_type": "text"
      },
      "source": [
        "We don't need the labels as the autoencoders are an unsupervised network"
      ]
    },
    {
      "cell_type": "code",
      "metadata": {
        "id": "KG5MfWCW5TWE",
        "colab_type": "code",
        "colab": {}
      },
      "source": [
        "(X_train, _), (X_test, _) = mnist.load_data()\n",
        "\n",
        "X_train = X_train.reshape(X_train.shape[0], 28, 28, 1)\n",
        "X_test = X_test.reshape(X_test.shape[0], 28, 28, 1)"
      ],
      "execution_count": 0,
      "outputs": []
    },
    {
      "cell_type": "markdown",
      "metadata": {
        "id": "OJefX70e68kR",
        "colab_type": "text"
      },
      "source": [
        "## Normalize the data"
      ]
    },
    {
      "cell_type": "markdown",
      "metadata": {
        "id": "0ONfIJIn6-el",
        "colab_type": "text"
      },
      "source": [
        "We want the pixels values between 0 and 1 instead of between 0 and 255"
      ]
    },
    {
      "cell_type": "code",
      "metadata": {
        "id": "cQN8rg5J661w",
        "colab_type": "code",
        "outputId": "a894066b-cb86-41bc-9a4e-2be9764134cc",
        "colab": {
          "base_uri": "https://localhost:8080/",
          "height": 71
        }
      },
      "source": [
        "X_train = X_train.astype(\"float32\") / 255.\n",
        "X_test = X_test.astype(\"float32\") / 255.\n",
        "\n",
        "print('X_train shape: ', X_train.shape)\n",
        "print(X_train.shape[0], ' train samples')\n",
        "print(X_test.shape[0], ' test samples')"
      ],
      "execution_count": 3,
      "outputs": [
        {
          "output_type": "stream",
          "text": [
            "X_train shape:  (60000, 28, 28, 1)\n",
            "60000  train samples\n",
            "10000  test samples\n"
          ],
          "name": "stdout"
        }
      ]
    },
    {
      "cell_type": "markdown",
      "metadata": {
        "id": "QNTqK6767Zr_",
        "colab_type": "text"
      },
      "source": [
        "## Flatten the images for the Fully-Connected Networks"
      ]
    },
    {
      "cell_type": "code",
      "metadata": {
        "id": "GyMp_q1W7XvM",
        "colab_type": "code",
        "colab": {}
      },
      "source": [
        "X_train = X_train.reshape((len(X_train), np.prod(X_train.shape[1:])))\n",
        "\n",
        "X_test = X_test.reshape((len(X_test), np.prod(X_test.shape[1:])))"
      ],
      "execution_count": 0,
      "outputs": []
    },
    {
      "cell_type": "markdown",
      "metadata": {
        "id": "Mqxwmu8j72D9",
        "colab_type": "text"
      },
      "source": [
        "# Vanilla Autoencoder"
      ]
    },
    {
      "cell_type": "markdown",
      "metadata": {
        "id": "DlBsmseI743q",
        "colab_type": "text"
      },
      "source": [
        "## Create the network"
      ]
    },
    {
      "cell_type": "markdown",
      "metadata": {
        "id": "V9Zgln_077B1",
        "colab_type": "text"
      },
      "source": [
        "The first network is the most simple autoencoder.\n",
        "It has 3 layers - Input - encoded - decoded"
      ]
    },
    {
      "cell_type": "code",
      "metadata": {
        "id": "dOh-9WO_7uVa",
        "colab_type": "code",
        "colab": {}
      },
      "source": [
        "input_size = 784\n",
        "hidden_size = 64"
      ],
      "execution_count": 0,
      "outputs": []
    },
    {
      "cell_type": "code",
      "metadata": {
        "id": "6nGdcvW08Gvt",
        "colab_type": "code",
        "outputId": "d924ae52-fe28-48fe-81d9-6c2f9edfe1d9",
        "colab": {
          "base_uri": "https://localhost:8080/",
          "height": 198
        }
      },
      "source": [
        "x = Input(shape = (input_size, ))\n",
        "h = Dense(hidden_size, activation = 'relu')(x)\n",
        "r = Dense(input_size, activation = 'sigmoid')(h)\n",
        "\n",
        "autoencoder = Model(inputs = x, outputs = r)\n",
        "autoencoder.compile(optimizer = 'adam', loss = 'mse')"
      ],
      "execution_count": 6,
      "outputs": [
        {
          "output_type": "stream",
          "text": [
            "WARNING: Logging before flag parsing goes to stderr.\n",
            "W0807 20:06:33.377691 139991491549056 deprecation_wrapper.py:119] From /usr/local/lib/python3.6/dist-packages/keras/backend/tensorflow_backend.py:74: The name tf.get_default_graph is deprecated. Please use tf.compat.v1.get_default_graph instead.\n",
            "\n",
            "W0807 20:06:33.395208 139991491549056 deprecation_wrapper.py:119] From /usr/local/lib/python3.6/dist-packages/keras/backend/tensorflow_backend.py:517: The name tf.placeholder is deprecated. Please use tf.compat.v1.placeholder instead.\n",
            "\n",
            "W0807 20:06:33.400713 139991491549056 deprecation_wrapper.py:119] From /usr/local/lib/python3.6/dist-packages/keras/backend/tensorflow_backend.py:4138: The name tf.random_uniform is deprecated. Please use tf.random.uniform instead.\n",
            "\n",
            "W0807 20:06:33.425886 139991491549056 deprecation_wrapper.py:119] From /usr/local/lib/python3.6/dist-packages/keras/optimizers.py:790: The name tf.train.Optimizer is deprecated. Please use tf.compat.v1.train.Optimizer instead.\n",
            "\n"
          ],
          "name": "stderr"
        }
      ]
    },
    {
      "cell_type": "code",
      "metadata": {
        "id": "uaNLLzVC8b7w",
        "colab_type": "code",
        "outputId": "2bdd991d-d643-4736-828a-b9b44ba30def",
        "colab": {
          "base_uri": "https://localhost:8080/",
          "height": 276
        }
      },
      "source": [
        "from IPython.display import SVG\n",
        "from keras.utils.vis_utils import model_to_dot\n",
        "\n",
        "SVG(model_to_dot(autoencoder).create(prog = 'dot', format = 'svg'))"
      ],
      "execution_count": 7,
      "outputs": [
        {
          "output_type": "execute_result",
          "data": {
            "text/plain": [
              "<IPython.core.display.SVG object>"
            ],
            "image/svg+xml": "<svg height=\"191pt\" viewBox=\"0.00 0.00 141.00 191.00\" width=\"141pt\" xmlns=\"http://www.w3.org/2000/svg\" xmlns:xlink=\"http://www.w3.org/1999/xlink\">\n<g class=\"graph\" id=\"graph0\" transform=\"scale(1 1) rotate(0) translate(4 187)\">\n<title>G</title>\n<polygon fill=\"#ffffff\" points=\"-4,4 -4,-187 137,-187 137,4 -4,4\" stroke=\"transparent\"/>\n<!-- 139990240464064 -->\n<g class=\"node\" id=\"node1\">\n<title>139990240464064</title>\n<polygon fill=\"none\" points=\"0,-146.5 0,-182.5 133,-182.5 133,-146.5 0,-146.5\" stroke=\"#000000\"/>\n<text fill=\"#000000\" font-family=\"Times,serif\" font-size=\"14.00\" text-anchor=\"middle\" x=\"66.5\" y=\"-160.8\">input_1: InputLayer</text>\n</g>\n<!-- 139990240464344 -->\n<g class=\"node\" id=\"node2\">\n<title>139990240464344</title>\n<polygon fill=\"none\" points=\"13,-73.5 13,-109.5 120,-109.5 120,-73.5 13,-73.5\" stroke=\"#000000\"/>\n<text fill=\"#000000\" font-family=\"Times,serif\" font-size=\"14.00\" text-anchor=\"middle\" x=\"66.5\" y=\"-87.8\">dense_1: Dense</text>\n</g>\n<!-- 139990240464064&#45;&gt;139990240464344 -->\n<g class=\"edge\" id=\"edge1\">\n<title>139990240464064-&gt;139990240464344</title>\n<path d=\"M66.5,-146.4551C66.5,-138.3828 66.5,-128.6764 66.5,-119.6817\" fill=\"none\" stroke=\"#000000\"/>\n<polygon fill=\"#000000\" points=\"70.0001,-119.5903 66.5,-109.5904 63.0001,-119.5904 70.0001,-119.5903\" stroke=\"#000000\"/>\n</g>\n<!-- 139990240587848 -->\n<g class=\"node\" id=\"node3\">\n<title>139990240587848</title>\n<polygon fill=\"none\" points=\"13,-.5 13,-36.5 120,-36.5 120,-.5 13,-.5\" stroke=\"#000000\"/>\n<text fill=\"#000000\" font-family=\"Times,serif\" font-size=\"14.00\" text-anchor=\"middle\" x=\"66.5\" y=\"-14.8\">dense_2: Dense</text>\n</g>\n<!-- 139990240464344&#45;&gt;139990240587848 -->\n<g class=\"edge\" id=\"edge2\">\n<title>139990240464344-&gt;139990240587848</title>\n<path d=\"M66.5,-73.4551C66.5,-65.3828 66.5,-55.6764 66.5,-46.6817\" fill=\"none\" stroke=\"#000000\"/>\n<polygon fill=\"#000000\" points=\"70.0001,-46.5903 66.5,-36.5904 63.0001,-46.5904 70.0001,-46.5903\" stroke=\"#000000\"/>\n</g>\n</g>\n</svg>"
          },
          "metadata": {
            "tags": []
          },
          "execution_count": 7
        }
      ]
    },
    {
      "cell_type": "markdown",
      "metadata": {
        "id": "ccsKwQv58r7e",
        "colab_type": "text"
      },
      "source": [
        "## Train"
      ]
    },
    {
      "cell_type": "code",
      "metadata": {
        "id": "f8_sGhmG8ons",
        "colab_type": "code",
        "outputId": "1548d6fb-47bd-4151-ff41-79740689e30f",
        "colab": {
          "base_uri": "https://localhost:8080/",
          "height": 305
        }
      },
      "source": [
        "epochs = 5\n",
        "batch_size = 128\n",
        "\n",
        "history = autoencoder.fit(X_train, X_train,\n",
        "                          batch_size = batch_size,\n",
        "                          epochs = epochs,\n",
        "                          verbose = 1,\n",
        "                          validation_data = (X_test, X_test))"
      ],
      "execution_count": 8,
      "outputs": [
        {
          "output_type": "stream",
          "text": [
            "W0807 20:06:33.621917 139991491549056 deprecation_wrapper.py:119] From /usr/local/lib/python3.6/dist-packages/keras/backend/tensorflow_backend.py:986: The name tf.assign_add is deprecated. Please use tf.compat.v1.assign_add instead.\n",
            "\n",
            "W0807 20:06:33.687054 139991491549056 deprecation_wrapper.py:119] From /usr/local/lib/python3.6/dist-packages/keras/backend/tensorflow_backend.py:973: The name tf.assign is deprecated. Please use tf.compat.v1.assign instead.\n",
            "\n"
          ],
          "name": "stderr"
        },
        {
          "output_type": "stream",
          "text": [
            "Train on 60000 samples, validate on 10000 samples\n",
            "Epoch 1/5\n",
            "60000/60000 [==============================] - 3s 44us/step - loss: 0.0445 - val_loss: 0.0223\n",
            "Epoch 2/5\n",
            "60000/60000 [==============================] - 1s 24us/step - loss: 0.0173 - val_loss: 0.0129\n",
            "Epoch 3/5\n",
            "60000/60000 [==============================] - 1s 24us/step - loss: 0.0109 - val_loss: 0.0087\n",
            "Epoch 4/5\n",
            "60000/60000 [==============================] - 1s 24us/step - loss: 0.0078 - val_loss: 0.0066\n",
            "Epoch 5/5\n",
            "60000/60000 [==============================] - 1s 24us/step - loss: 0.0062 - val_loss: 0.0055\n"
          ],
          "name": "stdout"
        }
      ]
    },
    {
      "cell_type": "code",
      "metadata": {
        "id": "mdXNxXZ49DZa",
        "colab_type": "code",
        "outputId": "93f0941d-971d-4de0-88ca-aac86fc16471",
        "colab": {
          "base_uri": "https://localhost:8080/",
          "height": 409
        }
      },
      "source": [
        "conv_encoder = Model(x, h)\n",
        "encoded_imgs = conv_encoder.predict(X_test)\n",
        "\n",
        "n = 10\n",
        "plt.figure(figsize = (20, 8))\n",
        "for i in range(n):\n",
        "  ax = plt.subplot(1, n, i + 1)\n",
        "  plt.imshow(encoded_imgs[i].reshape(4, 16).T)\n",
        "  plt.gray()\n",
        "  ax.get_xaxis().set_visible(False)\n",
        "  ax.get_yaxis().set_visible(False)\n",
        "plt.show()"
      ],
      "execution_count": 9,
      "outputs": [
        {
          "output_type": "display_data",
          "data": {
            "image/png": "[encoded data removed]",
            "text/plain": [
              "<Figure size 1440x576 with 10 Axes>"
            ]
          },
          "metadata": {
            "tags": []
          }
        }
      ]
    },
    {
      "cell_type": "markdown",
      "metadata": {
        "id": "mzDtd7XK9yIm",
        "colab_type": "text"
      },
      "source": [
        "## Predict on the test set"
      ]
    },
    {
      "cell_type": "code",
      "metadata": {
        "id": "_KDDWK3D9kK_",
        "colab_type": "code",
        "colab": {}
      },
      "source": [
        "decoded_imgs = autoencoder.predict(X_test)"
      ],
      "execution_count": 0,
      "outputs": []
    },
    {
      "cell_type": "markdown",
      "metadata": {
        "id": "mCSATy7g-AW5",
        "colab_type": "text"
      },
      "source": [
        "## Plot"
      ]
    },
    {
      "cell_type": "code",
      "metadata": {
        "id": "h3HWnLen99L4",
        "colab_type": "code",
        "outputId": "211f325a-0cb2-427e-ac43-2d2cb888c9a6",
        "colab": {
          "base_uri": "https://localhost:8080/",
          "height": 241
        }
      },
      "source": [
        "n = 10\n",
        "plt.figure(figsize = (20, 6))\n",
        "\n",
        "for i in range(n):\n",
        "  # display original images\n",
        "  ax = plt.subplot(3, n, i + 1)\n",
        "  plt.imshow(X_test[i].reshape(28, 28))\n",
        "  plt.gray()\n",
        "  ax.get_xaxis().set_visible(False)\n",
        "  ax.get_yaxis().set_visible(False)\n",
        "  \n",
        "  # display reconstructed images\n",
        "  ax = plt.subplot(3, n, i + n + 1)\n",
        "  plt.imshow(decoded_imgs[i].reshape(28, 28))\n",
        "  plt.gray()\n",
        "  ax.get_xaxis().set_visible(False)\n",
        "  ax.get_yaxis().set_visible(False)\n",
        "\n",
        "plt.show()"
      ],
      "execution_count": 11,
      "outputs": [
        {
          "output_type": "display_data",
          "data": {
            "image/png": "[encoded data removed]",
            "text/plain": [
              "<Figure size 1440x432 with 20 Axes>"
            ]
          },
          "metadata": {
            "tags": []
          }
        }
      ]
    },
    {
      "cell_type": "markdown",
      "metadata": {
        "id": "qTYwfnfK-ozR",
        "colab_type": "text"
      },
      "source": [
        "## Plot the losses"
      ]
    },
    {
      "cell_type": "code",
      "metadata": {
        "id": "TSxKgTgO-ltE",
        "colab_type": "code",
        "outputId": "e147eac6-d841-45f9-f6e0-8631ff7034f3",
        "colab": {
          "base_uri": "https://localhost:8080/",
          "height": 313
        }
      },
      "source": [
        "print(history.history.keys())\n",
        "\n",
        "plt.plot(history.history['loss'])\n",
        "plt.plot(history.history['val_loss'])\n",
        "plt.title('model loss')\n",
        "plt.xlabel('epoch')\n",
        "plt.ylabel('loss')\n",
        "plt.legend(['train', 'validation'], loc = 'upper right')\n",
        "plt.show()"
      ],
      "execution_count": 12,
      "outputs": [
        {
          "output_type": "stream",
          "text": [
            "dict_keys(['val_loss', 'loss'])\n"
          ],
          "name": "stdout"
        },
        {
          "output_type": "display_data",
          "data": {
            "image/png": "[encoded data removed]",
            "text/plain": [
              "<Figure size 432x288 with 1 Axes>"
            ]
          },
          "metadata": {
            "tags": []
          }
        }
      ]
    },
    {
      "cell_type": "markdown",
      "metadata": {
        "id": "dBzX1QFFd5XS",
        "colab_type": "text"
      },
      "source": [
        "# Multilayer Autoencoder"
      ]
    },
    {
      "cell_type": "markdown",
      "metadata": {
        "id": "WDUDgJ4Td_Ks",
        "colab_type": "text"
      },
      "source": [
        "## Create the network"
      ]
    },
    {
      "cell_type": "markdown",
      "metadata": {
        "id": "ZmK1ZomceBwJ",
        "colab_type": "text"
      },
      "source": [
        "We extend the idea of the first network to more layers"
      ]
    },
    {
      "cell_type": "code",
      "metadata": {
        "id": "asOXpJDi_QL-",
        "colab_type": "code",
        "outputId": "91dc9375-8c3c-4af2-db45-c44a23b52cba",
        "colab": {
          "base_uri": "https://localhost:8080/",
          "height": 91
        }
      },
      "source": [
        "input_size = 784\n",
        "hidden_size = 128\n",
        "code_size = 64\n",
        "\n",
        "x = Input(shape = (input_size, ))\n",
        "hidden_1 = Dense(hidden_size, activation = 'relu')(x)\n",
        "code = Dense(code_size, activation = 'relu')(hidden_1)\n",
        "hidden_2 = Dense(hidden_size, activation = 'relu')(code)\n",
        "r = Dense(input_size, activation = 'sigmoid')(hidden_2)\n",
        "\n",
        "autoencoder = Model(inputs = x, outputs = r)\n",
        "autoencoder.compile(optimizer = 'adam', \n",
        "                    loss = 'binary_crossentropy')"
      ],
      "execution_count": 13,
      "outputs": [
        {
          "output_type": "stream",
          "text": [
            "W0807 20:06:43.951799 139991491549056 deprecation.py:323] From /usr/local/lib/python3.6/dist-packages/tensorflow/python/ops/nn_impl.py:180: add_dispatch_support.<locals>.wrapper (from tensorflow.python.ops.array_ops) is deprecated and will be removed in a future version.\n",
            "Instructions for updating:\n",
            "Use tf.where in 2.0, which has the same broadcast rule as np.where\n"
          ],
          "name": "stderr"
        }
      ]
    },
    {
      "cell_type": "code",
      "metadata": {
        "id": "pjnw5BfNezBh",
        "colab_type": "code",
        "outputId": "d5b31f24-1912-4795-8587-645e8b70fb4a",
        "colab": {
          "base_uri": "https://localhost:8080/",
          "height": 471
        }
      },
      "source": [
        "from IPython.display import SVG\n",
        "from keras.utils.vis_utils import model_to_dot\n",
        "\n",
        "SVG(model_to_dot(autoencoder).create(prog = 'dot', format = 'svg'))"
      ],
      "execution_count": 14,
      "outputs": [
        {
          "output_type": "execute_result",
          "data": {
            "text/plain": [
              "<IPython.core.display.SVG object>"
            ],
            "image/svg+xml": "<svg height=\"337pt\" viewBox=\"0.00 0.00 141.00 337.00\" width=\"141pt\" xmlns=\"http://www.w3.org/2000/svg\" xmlns:xlink=\"http://www.w3.org/1999/xlink\">\n<g class=\"graph\" id=\"graph0\" transform=\"scale(1 1) rotate(0) translate(4 333)\">\n<title>G</title>\n<polygon fill=\"#ffffff\" points=\"-4,4 -4,-333 137,-333 137,4 -4,4\" stroke=\"transparent\"/>\n<!-- 139990231194368 -->\n<g class=\"node\" id=\"node1\">\n<title>139990231194368</title>\n<polygon fill=\"none\" points=\"0,-292.5 0,-328.5 133,-328.5 133,-292.5 0,-292.5\" stroke=\"#000000\"/>\n<text fill=\"#000000\" font-family=\"Times,serif\" font-size=\"14.00\" text-anchor=\"middle\" x=\"66.5\" y=\"-306.8\">input_2: InputLayer</text>\n</g>\n<!-- 139990240463784 -->\n<g class=\"node\" id=\"node2\">\n<title>139990240463784</title>\n<polygon fill=\"none\" points=\"13,-219.5 13,-255.5 120,-255.5 120,-219.5 13,-219.5\" stroke=\"#000000\"/>\n<text fill=\"#000000\" font-family=\"Times,serif\" font-size=\"14.00\" text-anchor=\"middle\" x=\"66.5\" y=\"-233.8\">dense_3: Dense</text>\n</g>\n<!-- 139990231194368&#45;&gt;139990240463784 -->\n<g class=\"edge\" id=\"edge1\">\n<title>139990231194368-&gt;139990240463784</title>\n<path d=\"M66.5,-292.4551C66.5,-284.3828 66.5,-274.6764 66.5,-265.6817\" fill=\"none\" stroke=\"#000000\"/>\n<polygon fill=\"#000000\" points=\"70.0001,-265.5903 66.5,-255.5904 63.0001,-265.5904 70.0001,-265.5903\" stroke=\"#000000\"/>\n</g>\n<!-- 139989998052632 -->\n<g class=\"node\" id=\"node3\">\n<title>139989998052632</title>\n<polygon fill=\"none\" points=\"13,-146.5 13,-182.5 120,-182.5 120,-146.5 13,-146.5\" stroke=\"#000000\"/>\n<text fill=\"#000000\" font-family=\"Times,serif\" font-size=\"14.00\" text-anchor=\"middle\" x=\"66.5\" y=\"-160.8\">dense_4: Dense</text>\n</g>\n<!-- 139990240463784&#45;&gt;139989998052632 -->\n<g class=\"edge\" id=\"edge2\">\n<title>139990240463784-&gt;139989998052632</title>\n<path d=\"M66.5,-219.4551C66.5,-211.3828 66.5,-201.6764 66.5,-192.6817\" fill=\"none\" stroke=\"#000000\"/>\n<polygon fill=\"#000000\" points=\"70.0001,-192.5903 66.5,-182.5904 63.0001,-192.5904 70.0001,-192.5903\" stroke=\"#000000\"/>\n</g>\n<!-- 139989998052856 -->\n<g class=\"node\" id=\"node4\">\n<title>139989998052856</title>\n<polygon fill=\"none\" points=\"13,-73.5 13,-109.5 120,-109.5 120,-73.5 13,-73.5\" stroke=\"#000000\"/>\n<text fill=\"#000000\" font-family=\"Times,serif\" font-size=\"14.00\" text-anchor=\"middle\" x=\"66.5\" y=\"-87.8\">dense_5: Dense</text>\n</g>\n<!-- 139989998052632&#45;&gt;139989998052856 -->\n<g class=\"edge\" id=\"edge3\">\n<title>139989998052632-&gt;139989998052856</title>\n<path d=\"M66.5,-146.4551C66.5,-138.3828 66.5,-128.6764 66.5,-119.6817\" fill=\"none\" stroke=\"#000000\"/>\n<polygon fill=\"#000000\" points=\"70.0001,-119.5903 66.5,-109.5904 63.0001,-119.5904 70.0001,-119.5903\" stroke=\"#000000\"/>\n</g>\n<!-- 139989997798680 -->\n<g class=\"node\" id=\"node5\">\n<title>139989997798680</title>\n<polygon fill=\"none\" points=\"13,-.5 13,-36.5 120,-36.5 120,-.5 13,-.5\" stroke=\"#000000\"/>\n<text fill=\"#000000\" font-family=\"Times,serif\" font-size=\"14.00\" text-anchor=\"middle\" x=\"66.5\" y=\"-14.8\">dense_6: Dense</text>\n</g>\n<!-- 139989998052856&#45;&gt;139989997798680 -->\n<g class=\"edge\" id=\"edge4\">\n<title>139989998052856-&gt;139989997798680</title>\n<path d=\"M66.5,-73.4551C66.5,-65.3828 66.5,-55.6764 66.5,-46.6817\" fill=\"none\" stroke=\"#000000\"/>\n<polygon fill=\"#000000\" points=\"70.0001,-46.5903 66.5,-36.5904 63.0001,-46.5904 70.0001,-46.5903\" stroke=\"#000000\"/>\n</g>\n</g>\n</svg>"
          },
          "metadata": {
            "tags": []
          },
          "execution_count": 14
        }
      ]
    },
    {
      "cell_type": "markdown",
      "metadata": {
        "id": "h9swyjFXfIGa",
        "colab_type": "text"
      },
      "source": [
        "## Train the network"
      ]
    },
    {
      "cell_type": "code",
      "metadata": {
        "id": "CIvuLlpWfEPJ",
        "colab_type": "code",
        "outputId": "8216bcf0-6b8e-45a8-d9a2-d2763055e5c9",
        "colab": {
          "base_uri": "https://localhost:8080/",
          "height": 214
        }
      },
      "source": [
        "epochs = 5\n",
        "batch_size = 128\n",
        "\n",
        "history = autoencoder.fit(X_train, X_train,\n",
        "                          batch_size = batch_size,\n",
        "                          epochs = epochs,\n",
        "                          verbose = 1,\n",
        "                          validation_data = (X_test, X_test))"
      ],
      "execution_count": 15,
      "outputs": [
        {
          "output_type": "stream",
          "text": [
            "Train on 60000 samples, validate on 10000 samples\n",
            "Epoch 1/5\n",
            "60000/60000 [==============================] - 2s 38us/step - loss: 0.1814 - val_loss: 0.1170\n",
            "Epoch 2/5\n",
            "60000/60000 [==============================] - 2s 33us/step - loss: 0.1078 - val_loss: 0.0997\n",
            "Epoch 3/5\n",
            "60000/60000 [==============================] - 2s 33us/step - loss: 0.0970 - val_loss: 0.0925\n",
            "Epoch 4/5\n",
            "60000/60000 [==============================] - 2s 33us/step - loss: 0.0911 - val_loss: 0.0880\n",
            "Epoch 5/5\n",
            "60000/60000 [==============================] - 2s 33us/step - loss: 0.0875 - val_loss: 0.0850\n"
          ],
          "name": "stdout"
        }
      ]
    },
    {
      "cell_type": "markdown",
      "metadata": {
        "id": "pUCqeBXJfttU",
        "colab_type": "text"
      },
      "source": [
        "## Predict on the test set"
      ]
    },
    {
      "cell_type": "code",
      "metadata": {
        "id": "-Hudb5fgffv7",
        "colab_type": "code",
        "colab": {}
      },
      "source": [
        "decoded_imgs = autoencoder.predict(X_test)"
      ],
      "execution_count": 0,
      "outputs": []
    },
    {
      "cell_type": "markdown",
      "metadata": {
        "id": "lciPzHUMf3_1",
        "colab_type": "text"
      },
      "source": [
        "## Plot"
      ]
    },
    {
      "cell_type": "code",
      "metadata": {
        "id": "g_wgTzLLf2Vs",
        "colab_type": "code",
        "outputId": "d7efaae9-384d-42f9-ec2e-ce0b7c79fc2e",
        "colab": {
          "base_uri": "https://localhost:8080/",
          "height": 241
        }
      },
      "source": [
        "n = 10\n",
        "plt.figure(figsize = (20, 6))\n",
        "\n",
        "for i in range(n):\n",
        "  # Displaying original images\n",
        "  ax = plt.subplot(3, n, i + 1)\n",
        "  plt.imshow(X_test[i].reshape(28, 28))\n",
        "  plt.gray()\n",
        "  ax.get_xaxis().set_visible(False)\n",
        "  ax.get_yaxis().set_visible(False)\n",
        "  \n",
        "  # Displaying reconstructed images\n",
        "  ax = plt.subplot(3, n, i + n + 1)\n",
        "  plt.imshow(decoded_imgs[i].reshape(28, 28))\n",
        "  plt.gray()\n",
        "  ax.get_xaxis().set_visible(False)\n",
        "  ax.get_yaxis().set_visible(False)\n",
        "  \n",
        "plt.show()"
      ],
      "execution_count": 17,
      "outputs": [
        {
          "output_type": "display_data",
          "data": {
            "image/png": "[encoded data removed]",
            "text/plain": [
              "<Figure size 1440x432 with 20 Axes>"
            ]
          },
          "metadata": {
            "tags": []
          }
        }
      ]
    },
    {
      "cell_type": "markdown",
      "metadata": {
        "id": "EjcDn1CThjQ-",
        "colab_type": "text"
      },
      "source": [
        "## Plot the losses"
      ]
    },
    {
      "cell_type": "code",
      "metadata": {
        "id": "FuuzDTeaheaR",
        "colab_type": "code",
        "outputId": "4a2dd5f6-db3e-4a6d-a8f1-62d2eb6d9d71",
        "colab": {
          "base_uri": "https://localhost:8080/",
          "height": 313
        }
      },
      "source": [
        "print(history.history.keys())\n",
        "\n",
        "plt.plot(history.history['loss'])\n",
        "plt.plot(history.history['val_loss'])\n",
        "plt.title('model loss')\n",
        "plt.xlabel('epochs')\n",
        "plt.ylabel('loss')\n",
        "plt.legend(['train, validation'], loc = 'upper right')\n",
        "plt.show()"
      ],
      "execution_count": 18,
      "outputs": [
        {
          "output_type": "stream",
          "text": [
            "dict_keys(['val_loss', 'loss'])\n"
          ],
          "name": "stdout"
        },
        {
          "output_type": "display_data",
          "data": {
            "image/png": "[encoded data removed]",
            "text/plain": [
              "<Figure size 432x288 with 1 Axes>"
            ]
          },
          "metadata": {
            "tags": []
          }
        }
      ]
    },
    {
      "cell_type": "markdown",
      "metadata": {
        "id": "qZqlpWp1lT8o",
        "colab_type": "text"
      },
      "source": [
        "# Convolutional Autoencoder"
      ]
    },
    {
      "cell_type": "code",
      "metadata": {
        "id": "1XkyeOymh6v6",
        "colab_type": "code",
        "outputId": "2097ab18-3e66-4036-82c4-9cdbe2712b25",
        "colab": {
          "base_uri": "https://localhost:8080/",
          "height": 71
        }
      },
      "source": [
        "num_classes = 10\n",
        "\n",
        "(X_train, y_train), (X_test, y_test) = mnist.load_data()\n",
        "\n",
        "X_train = X_train.reshape(X_train.shape[0], 28, 28, 1)\n",
        "X_test = X_test.reshape(X_test.shape[0], 28, 28, 1)\n",
        "X_train = X_train.astype(\"float32\") / 255.\n",
        "X_test = X_test.astype(\"float32\") /255.\n",
        "\n",
        "print('X_train shape: ', X_train.shape)\n",
        "print(X_train.shape[0], 'train samples')\n",
        "print(X_test.shape[0], 'test samples')\n",
        "\n",
        "y_train = np_utils.to_categorical(y_train, num_classes)\n",
        "y_test = np_utils.to_categorical(y_test, num_classes)"
      ],
      "execution_count": 19,
      "outputs": [
        {
          "output_type": "stream",
          "text": [
            "X_train shape:  (60000, 28, 28, 1)\n",
            "60000 train samples\n",
            "10000 test samples\n"
          ],
          "name": "stdout"
        }
      ]
    },
    {
      "cell_type": "markdown",
      "metadata": {
        "id": "U8xBDTgEmLM_",
        "colab_type": "text"
      },
      "source": [
        "## Create the network"
      ]
    },
    {
      "cell_type": "markdown",
      "metadata": {
        "id": "0gpB7yoQmONA",
        "colab_type": "text"
      },
      "source": [
        "This network does not take flattened vectors as an input, but 3D images instead"
      ]
    },
    {
      "cell_type": "code",
      "metadata": {
        "id": "advx4QXRmIrR",
        "colab_type": "code",
        "outputId": "34227717-d19c-49f7-8d33-5d9a26bda15d",
        "colab": {
          "base_uri": "https://localhost:8080/",
          "height": 108
        }
      },
      "source": [
        "x = Input(shape = (28, 28, 1))\n",
        "\n",
        "# Encoder\n",
        "conv1_1 = Conv2D(16, (3, 3), activation = 'relu', padding = 'same')(x)\n",
        "pool1 = MaxPooling2D((2, 2), padding = 'same')(conv1_1)\n",
        "conv1_2 = Conv2D(8, (3, 3), activation = 'relu', padding = 'same')(pool1)\n",
        "pool2 = MaxPooling2D((2, 2), padding = 'same')(conv1_2)\n",
        "conv1_3 = Conv2D(8, (3, 3), activation = 'relu', padding = 'same')(pool2)\n",
        "h = MaxPooling2D((2, 2), padding = 'same')(conv1_3)\n",
        "\n",
        "# Decoder\n",
        "conv2_1 = Conv2D(8, (3, 3), activation = 'relu', padding = 'same')(h)\n",
        "up1 = UpSampling2D((2, 2))(conv2_1)\n",
        "conv2_2 = Conv2D(8, (3, 3), activation = 'relu', padding = 'same')(up1)\n",
        "up2 = UpSampling2D((2, 2))(conv2_2)\n",
        "conv2_3 = Conv2D(16, (3, 3), activation = 'relu')(up2)\n",
        "up3 = UpSampling2D((2, 2))(conv2_3)\n",
        "r = Conv2D(1, (3, 3), activation = 'sigmoid', padding = 'same')(up3)\n",
        "\n",
        "autoencoder = Model(inputs = x, outputs = r)\n",
        "autoencoder.compile(optimizer = 'adadelta', \n",
        "                    loss = 'binary_crossentropy')"
      ],
      "execution_count": 20,
      "outputs": [
        {
          "output_type": "stream",
          "text": [
            "W0807 20:06:56.263381 139991491549056 deprecation_wrapper.py:119] From /usr/local/lib/python3.6/dist-packages/keras/backend/tensorflow_backend.py:3976: The name tf.nn.max_pool is deprecated. Please use tf.nn.max_pool2d instead.\n",
            "\n",
            "W0807 20:06:56.307431 139991491549056 deprecation_wrapper.py:119] From /usr/local/lib/python3.6/dist-packages/keras/backend/tensorflow_backend.py:2018: The name tf.image.resize_nearest_neighbor is deprecated. Please use tf.compat.v1.image.resize_nearest_neighbor instead.\n",
            "\n"
          ],
          "name": "stderr"
        }
      ]
    },
    {
      "cell_type": "code",
      "metadata": {
        "id": "-Atw30DYoVRz",
        "colab_type": "code",
        "outputId": "cbff2584-ce3d-4f3a-92c3-9ffd17ba6628",
        "colab": {
          "base_uri": "https://localhost:8080/",
          "height": 1000
        }
      },
      "source": [
        "from IPython.display import SVG\n",
        "from keras.utils.vis_utils import model_to_dot\n",
        "\n",
        "SVG(model_to_dot(autoencoder).create(prog = 'dot', format = 'svg'))"
      ],
      "execution_count": 21,
      "outputs": [
        {
          "output_type": "execute_result",
          "data": {
            "text/plain": [
              "<IPython.core.display.SVG object>"
            ],
            "image/svg+xml": "<svg height=\"994pt\" viewBox=\"0.00 0.00 229.00 994.00\" width=\"229pt\" xmlns=\"http://www.w3.org/2000/svg\" xmlns:xlink=\"http://www.w3.org/1999/xlink\">\n<g class=\"graph\" id=\"graph0\" transform=\"scale(1 1) rotate(0) translate(4 990)\">\n<title>G</title>\n<polygon fill=\"#ffffff\" points=\"-4,4 -4,-990 225,-990 225,4 -4,4\" stroke=\"transparent\"/>\n<!-- 139988710256088 -->\n<g class=\"node\" id=\"node1\">\n<title>139988710256088</title>\n<polygon fill=\"none\" points=\"44,-949.5 44,-985.5 177,-985.5 177,-949.5 44,-949.5\" stroke=\"#000000\"/>\n<text fill=\"#000000\" font-family=\"Times,serif\" font-size=\"14.00\" text-anchor=\"middle\" x=\"110.5\" y=\"-963.8\">input_3: InputLayer</text>\n</g>\n<!-- 139988710256032 -->\n<g class=\"node\" id=\"node2\">\n<title>139988710256032</title>\n<polygon fill=\"none\" points=\"44,-876.5 44,-912.5 177,-912.5 177,-876.5 44,-876.5\" stroke=\"#000000\"/>\n<text fill=\"#000000\" font-family=\"Times,serif\" font-size=\"14.00\" text-anchor=\"middle\" x=\"110.5\" y=\"-890.8\">conv2d_1: Conv2D</text>\n</g>\n<!-- 139988710256088&#45;&gt;139988710256032 -->\n<g class=\"edge\" id=\"edge1\">\n<title>139988710256088-&gt;139988710256032</title>\n<path d=\"M110.5,-949.4551C110.5,-941.3828 110.5,-931.6764 110.5,-922.6817\" fill=\"none\" stroke=\"#000000\"/>\n<polygon fill=\"#000000\" points=\"114.0001,-922.5903 110.5,-912.5904 107.0001,-922.5904 114.0001,-922.5903\" stroke=\"#000000\"/>\n</g>\n<!-- 139988710256200 -->\n<g class=\"node\" id=\"node3\">\n<title>139988710256200</title>\n<polygon fill=\"none\" points=\"0,-803.5 0,-839.5 221,-839.5 221,-803.5 0,-803.5\" stroke=\"#000000\"/>\n<text fill=\"#000000\" font-family=\"Times,serif\" font-size=\"14.00\" text-anchor=\"middle\" x=\"110.5\" y=\"-817.8\">max_pooling2d_1: MaxPooling2D</text>\n</g>\n<!-- 139988710256032&#45;&gt;139988710256200 -->\n<g class=\"edge\" id=\"edge2\">\n<title>139988710256032-&gt;139988710256200</title>\n<path d=\"M110.5,-876.4551C110.5,-868.3828 110.5,-858.6764 110.5,-849.6817\" fill=\"none\" stroke=\"#000000\"/>\n<polygon fill=\"#000000\" points=\"114.0001,-849.5903 110.5,-839.5904 107.0001,-849.5904 114.0001,-849.5903\" stroke=\"#000000\"/>\n</g>\n<!-- 139988710256592 -->\n<g class=\"node\" id=\"node4\">\n<title>139988710256592</title>\n<polygon fill=\"none\" points=\"44,-730.5 44,-766.5 177,-766.5 177,-730.5 44,-730.5\" stroke=\"#000000\"/>\n<text fill=\"#000000\" font-family=\"Times,serif\" font-size=\"14.00\" text-anchor=\"middle\" x=\"110.5\" y=\"-744.8\">conv2d_2: Conv2D</text>\n</g>\n<!-- 139988710256200&#45;&gt;139988710256592 -->\n<g class=\"edge\" id=\"edge3\">\n<title>139988710256200-&gt;139988710256592</title>\n<path d=\"M110.5,-803.4551C110.5,-795.3828 110.5,-785.6764 110.5,-776.6817\" fill=\"none\" stroke=\"#000000\"/>\n<polygon fill=\"#000000\" points=\"114.0001,-776.5903 110.5,-766.5904 107.0001,-776.5904 114.0001,-776.5903\" stroke=\"#000000\"/>\n</g>\n<!-- 139988710261088 -->\n<g class=\"node\" id=\"node5\">\n<title>139988710261088</title>\n<polygon fill=\"none\" points=\"0,-657.5 0,-693.5 221,-693.5 221,-657.5 0,-657.5\" stroke=\"#000000\"/>\n<text fill=\"#000000\" font-family=\"Times,serif\" font-size=\"14.00\" text-anchor=\"middle\" x=\"110.5\" y=\"-671.8\">max_pooling2d_2: MaxPooling2D</text>\n</g>\n<!-- 139988710256592&#45;&gt;139988710261088 -->\n<g class=\"edge\" id=\"edge4\">\n<title>139988710256592-&gt;139988710261088</title>\n<path d=\"M110.5,-730.4551C110.5,-722.3828 110.5,-712.6764 110.5,-703.6817\" fill=\"none\" stroke=\"#000000\"/>\n<polygon fill=\"#000000\" points=\"114.0001,-703.5903 110.5,-693.5904 107.0001,-703.5904 114.0001,-703.5903\" stroke=\"#000000\"/>\n</g>\n<!-- 139988710295872 -->\n<g class=\"node\" id=\"node6\">\n<title>139988710295872</title>\n<polygon fill=\"none\" points=\"44,-584.5 44,-620.5 177,-620.5 177,-584.5 44,-584.5\" stroke=\"#000000\"/>\n<text fill=\"#000000\" font-family=\"Times,serif\" font-size=\"14.00\" text-anchor=\"middle\" x=\"110.5\" y=\"-598.8\">conv2d_3: Conv2D</text>\n</g>\n<!-- 139988710261088&#45;&gt;139988710295872 -->\n<g class=\"edge\" id=\"edge5\">\n<title>139988710261088-&gt;139988710295872</title>\n<path d=\"M110.5,-657.4551C110.5,-649.3828 110.5,-639.6764 110.5,-630.6817\" fill=\"none\" stroke=\"#000000\"/>\n<polygon fill=\"#000000\" points=\"114.0001,-630.5903 110.5,-620.5904 107.0001,-630.5904 114.0001,-630.5903\" stroke=\"#000000\"/>\n</g>\n<!-- 139988710296096 -->\n<g class=\"node\" id=\"node7\">\n<title>139988710296096</title>\n<polygon fill=\"none\" points=\"0,-511.5 0,-547.5 221,-547.5 221,-511.5 0,-511.5\" stroke=\"#000000\"/>\n<text fill=\"#000000\" font-family=\"Times,serif\" font-size=\"14.00\" text-anchor=\"middle\" x=\"110.5\" y=\"-525.8\">max_pooling2d_3: MaxPooling2D</text>\n</g>\n<!-- 139988710295872&#45;&gt;139988710296096 -->\n<g class=\"edge\" id=\"edge6\">\n<title>139988710295872-&gt;139988710296096</title>\n<path d=\"M110.5,-584.4551C110.5,-576.3828 110.5,-566.6764 110.5,-557.6817\" fill=\"none\" stroke=\"#000000\"/>\n<polygon fill=\"#000000\" points=\"114.0001,-557.5903 110.5,-547.5904 107.0001,-557.5904 114.0001,-557.5903\" stroke=\"#000000\"/>\n</g>\n<!-- 139988710400520 -->\n<g class=\"node\" id=\"node8\">\n<title>139988710400520</title>\n<polygon fill=\"none\" points=\"44,-438.5 44,-474.5 177,-474.5 177,-438.5 44,-438.5\" stroke=\"#000000\"/>\n<text fill=\"#000000\" font-family=\"Times,serif\" font-size=\"14.00\" text-anchor=\"middle\" x=\"110.5\" y=\"-452.8\">conv2d_4: Conv2D</text>\n</g>\n<!-- 139988710296096&#45;&gt;139988710400520 -->\n<g class=\"edge\" id=\"edge7\">\n<title>139988710296096-&gt;139988710400520</title>\n<path d=\"M110.5,-511.4551C110.5,-503.3828 110.5,-493.6764 110.5,-484.6817\" fill=\"none\" stroke=\"#000000\"/>\n<polygon fill=\"#000000\" points=\"114.0001,-484.5903 110.5,-474.5904 107.0001,-484.5904 114.0001,-484.5903\" stroke=\"#000000\"/>\n</g>\n<!-- 139988710466392 -->\n<g class=\"node\" id=\"node9\">\n<title>139988710466392</title>\n<polygon fill=\"none\" points=\"0,-365.5 0,-401.5 221,-401.5 221,-365.5 0,-365.5\" stroke=\"#000000\"/>\n<text fill=\"#000000\" font-family=\"Times,serif\" font-size=\"14.00\" text-anchor=\"middle\" x=\"110.5\" y=\"-379.8\">up_sampling2d_1: UpSampling2D</text>\n</g>\n<!-- 139988710400520&#45;&gt;139988710466392 -->\n<g class=\"edge\" id=\"edge8\">\n<title>139988710400520-&gt;139988710466392</title>\n<path d=\"M110.5,-438.4551C110.5,-430.3828 110.5,-420.6764 110.5,-411.6817\" fill=\"none\" stroke=\"#000000\"/>\n<polygon fill=\"#000000\" points=\"114.0001,-411.5903 110.5,-401.5904 107.0001,-411.5904 114.0001,-411.5903\" stroke=\"#000000\"/>\n</g>\n<!-- 139988710469304 -->\n<g class=\"node\" id=\"node10\">\n<title>139988710469304</title>\n<polygon fill=\"none\" points=\"44,-292.5 44,-328.5 177,-328.5 177,-292.5 44,-292.5\" stroke=\"#000000\"/>\n<text fill=\"#000000\" font-family=\"Times,serif\" font-size=\"14.00\" text-anchor=\"middle\" x=\"110.5\" y=\"-306.8\">conv2d_5: Conv2D</text>\n</g>\n<!-- 139988710466392&#45;&gt;139988710469304 -->\n<g class=\"edge\" id=\"edge9\">\n<title>139988710466392-&gt;139988710469304</title>\n<path d=\"M110.5,-365.4551C110.5,-357.3828 110.5,-347.6764 110.5,-338.6817\" fill=\"none\" stroke=\"#000000\"/>\n<polygon fill=\"#000000\" points=\"114.0001,-338.5903 110.5,-328.5904 107.0001,-338.5904 114.0001,-338.5903\" stroke=\"#000000\"/>\n</g>\n<!-- 139988710037768 -->\n<g class=\"node\" id=\"node11\">\n<title>139988710037768</title>\n<polygon fill=\"none\" points=\"0,-219.5 0,-255.5 221,-255.5 221,-219.5 0,-219.5\" stroke=\"#000000\"/>\n<text fill=\"#000000\" font-family=\"Times,serif\" font-size=\"14.00\" text-anchor=\"middle\" x=\"110.5\" y=\"-233.8\">up_sampling2d_2: UpSampling2D</text>\n</g>\n<!-- 139988710469304&#45;&gt;139988710037768 -->\n<g class=\"edge\" id=\"edge10\">\n<title>139988710469304-&gt;139988710037768</title>\n<path d=\"M110.5,-292.4551C110.5,-284.3828 110.5,-274.6764 110.5,-265.6817\" fill=\"none\" stroke=\"#000000\"/>\n<polygon fill=\"#000000\" points=\"114.0001,-265.5903 110.5,-255.5904 107.0001,-265.5904 114.0001,-265.5903\" stroke=\"#000000\"/>\n</g>\n<!-- 139988710204696 -->\n<g class=\"node\" id=\"node12\">\n<title>139988710204696</title>\n<polygon fill=\"none\" points=\"44,-146.5 44,-182.5 177,-182.5 177,-146.5 44,-146.5\" stroke=\"#000000\"/>\n<text fill=\"#000000\" font-family=\"Times,serif\" font-size=\"14.00\" text-anchor=\"middle\" x=\"110.5\" y=\"-160.8\">conv2d_6: Conv2D</text>\n</g>\n<!-- 139988710037768&#45;&gt;139988710204696 -->\n<g class=\"edge\" id=\"edge11\">\n<title>139988710037768-&gt;139988710204696</title>\n<path d=\"M110.5,-219.4551C110.5,-211.3828 110.5,-201.6764 110.5,-192.6817\" fill=\"none\" stroke=\"#000000\"/>\n<polygon fill=\"#000000\" points=\"114.0001,-192.5903 110.5,-182.5904 107.0001,-192.5904 114.0001,-192.5903\" stroke=\"#000000\"/>\n</g>\n<!-- 139988710205704 -->\n<g class=\"node\" id=\"node13\">\n<title>139988710205704</title>\n<polygon fill=\"none\" points=\"0,-73.5 0,-109.5 221,-109.5 221,-73.5 0,-73.5\" stroke=\"#000000\"/>\n<text fill=\"#000000\" font-family=\"Times,serif\" font-size=\"14.00\" text-anchor=\"middle\" x=\"110.5\" y=\"-87.8\">up_sampling2d_3: UpSampling2D</text>\n</g>\n<!-- 139988710204696&#45;&gt;139988710205704 -->\n<g class=\"edge\" id=\"edge12\">\n<title>139988710204696-&gt;139988710205704</title>\n<path d=\"M110.5,-146.4551C110.5,-138.3828 110.5,-128.6764 110.5,-119.6817\" fill=\"none\" stroke=\"#000000\"/>\n<polygon fill=\"#000000\" points=\"114.0001,-119.5903 110.5,-109.5904 107.0001,-119.5904 114.0001,-119.5903\" stroke=\"#000000\"/>\n</g>\n<!-- 139988709881840 -->\n<g class=\"node\" id=\"node14\">\n<title>139988709881840</title>\n<polygon fill=\"none\" points=\"44,-.5 44,-36.5 177,-36.5 177,-.5 44,-.5\" stroke=\"#000000\"/>\n<text fill=\"#000000\" font-family=\"Times,serif\" font-size=\"14.00\" text-anchor=\"middle\" x=\"110.5\" y=\"-14.8\">conv2d_7: Conv2D</text>\n</g>\n<!-- 139988710205704&#45;&gt;139988709881840 -->\n<g class=\"edge\" id=\"edge13\">\n<title>139988710205704-&gt;139988709881840</title>\n<path d=\"M110.5,-73.4551C110.5,-65.3828 110.5,-55.6764 110.5,-46.6817\" fill=\"none\" stroke=\"#000000\"/>\n<polygon fill=\"#000000\" points=\"114.0001,-46.5903 110.5,-36.5904 107.0001,-46.5904 114.0001,-46.5903\" stroke=\"#000000\"/>\n</g>\n</g>\n</svg>"
          },
          "metadata": {
            "tags": []
          },
          "execution_count": 21
        }
      ]
    },
    {
      "cell_type": "markdown",
      "metadata": {
        "id": "3xyrDIgxorb_",
        "colab_type": "text"
      },
      "source": [
        "## Train"
      ]
    },
    {
      "cell_type": "code",
      "metadata": {
        "id": "msVB0uRvojoW",
        "colab_type": "code",
        "outputId": "4470bcff-662f-40c7-900c-4caa7d7c9e58",
        "colab": {
          "base_uri": "https://localhost:8080/",
          "height": 214
        }
      },
      "source": [
        "epochs = 5\n",
        "batch_size = 128\n",
        "\n",
        "history = autoencoder.fit(X_train, X_train,\n",
        "                          batch_size = batch_size,\n",
        "                          epochs = epochs,\n",
        "                          verbose = 1,\n",
        "                          validation_data = (X_test, X_test))"
      ],
      "execution_count": 22,
      "outputs": [
        {
          "output_type": "stream",
          "text": [
            "Train on 60000 samples, validate on 10000 samples\n",
            "Epoch 1/5\n",
            "60000/60000 [==============================] - 5s 91us/step - loss: 0.2135 - val_loss: 0.1648\n",
            "Epoch 2/5\n",
            "60000/60000 [==============================] - 3s 53us/step - loss: 0.1558 - val_loss: 0.1423\n",
            "Epoch 3/5\n",
            "60000/60000 [==============================] - 3s 53us/step - loss: 0.1415 - val_loss: 0.1360\n",
            "Epoch 4/5\n",
            "60000/60000 [==============================] - 3s 53us/step - loss: 0.1343 - val_loss: 0.1328\n",
            "Epoch 5/5\n",
            "60000/60000 [==============================] - 3s 53us/step - loss: 0.1300 - val_loss: 0.1269\n"
          ],
          "name": "stdout"
        }
      ]
    },
    {
      "cell_type": "code",
      "metadata": {
        "id": "sgXi6yKBo-5P",
        "colab_type": "code",
        "colab": {}
      },
      "source": [
        "decoded_imgs = autoencoder.predict(X_test)"
      ],
      "execution_count": 0,
      "outputs": []
    },
    {
      "cell_type": "markdown",
      "metadata": {
        "id": "wd7Bdj17pXWi",
        "colab_type": "text"
      },
      "source": [
        "## Plot"
      ]
    },
    {
      "cell_type": "code",
      "metadata": {
        "id": "B9o2aTVRpU0h",
        "colab_type": "code",
        "outputId": "1a15bcb2-ac46-4bbd-8185-fe57863a9191",
        "colab": {
          "base_uri": "https://localhost:8080/",
          "height": 241
        }
      },
      "source": [
        "n = 10\n",
        "plt.figure(figsize = (20, 6))\n",
        "\n",
        "for i in range(n):\n",
        "  # Displaying original images\n",
        "  ax = plt.subplot(3, n, i + 1)\n",
        "  plt.imshow(X_test[i].reshape(28, 28))\n",
        "  plt.gray()\n",
        "  ax.get_xaxis().set_visible(False)\n",
        "  ax.get_yaxis().set_visible(False)\n",
        "  \n",
        "  # Displaying reconstructed images\n",
        "  ax = plt.subplot(3, n, i + n + 1)\n",
        "  plt.imshow(decoded_imgs[i].reshape(28, 28))\n",
        "  plt.gray()\n",
        "  ax.get_xaxis().set_visible(False)\n",
        "  ax.get_yaxis().set_visible(False)\n",
        "  \n",
        "plt.show()"
      ],
      "execution_count": 24,
      "outputs": [
        {
          "output_type": "display_data",
          "data": {
            "image/png": "[encoded data removed]",
            "text/plain": [
              "<Figure size 1440x432 with 20 Axes>"
            ]
          },
          "metadata": {
            "tags": []
          }
        }
      ]
    },
    {
      "cell_type": "markdown",
      "metadata": {
        "id": "qriB8n3-qJxT",
        "colab_type": "text"
      },
      "source": [
        "## Plot the losses"
      ]
    },
    {
      "cell_type": "code",
      "metadata": {
        "id": "ZTFf0bv7qFQb",
        "colab_type": "code",
        "outputId": "6d58e9a1-61aa-4c63-c178-18fa03cc0915",
        "colab": {
          "base_uri": "https://localhost:8080/",
          "height": 313
        }
      },
      "source": [
        "print(history.history.keys())\n",
        "\n",
        "plt.plot(history.history['loss'])\n",
        "plt.plot(history.history['val_loss'])\n",
        "plt.title('model loss')\n",
        "plt.xlabel('epochs')\n",
        "plt.ylabel('loss')\n",
        "plt.legend(['train', 'validation'], loc = 'upper right')\n",
        "plt.show()"
      ],
      "execution_count": 25,
      "outputs": [
        {
          "output_type": "stream",
          "text": [
            "dict_keys(['val_loss', 'loss'])\n"
          ],
          "name": "stdout"
        },
        {
          "output_type": "display_data",
          "data": {
            "image/png": "[encoded data removed]",
            "text/plain": [
              "<Figure size 432x288 with 1 Axes>"
            ]
          },
          "metadata": {
            "tags": []
          }
        }
      ]
    },
    {
      "cell_type": "markdown",
      "metadata": {
        "id": "jfud9ue45xc0",
        "colab_type": "text"
      },
      "source": [
        "# Sparse Autoencoder"
      ]
    },
    {
      "cell_type": "markdown",
      "metadata": {
        "id": "grPPcQmD572J",
        "colab_type": "text"
      },
      "source": [
        "## Create the network"
      ]
    },
    {
      "cell_type": "code",
      "metadata": {
        "id": "kWakF75WqiX4",
        "colab_type": "code",
        "colab": {}
      },
      "source": [
        "input_size = 784\n",
        "hidden_size = 32"
      ],
      "execution_count": 0,
      "outputs": []
    },
    {
      "cell_type": "markdown",
      "metadata": {
        "id": "r7-VzH9q8yh0",
        "colab_type": "text"
      },
      "source": [
        "## Normalizing the data, flattening the images"
      ]
    },
    {
      "cell_type": "code",
      "metadata": {
        "id": "G9Wmm9827r4q",
        "colab_type": "code",
        "colab": {}
      },
      "source": [
        "X_train = X_train.reshape(X_train.shape[0], 28, 28, 1)\n",
        "X_test = X_test.reshape(X_test.shape[0], 28, 28, 1)\n",
        "\n",
        "X_train = X_train.astype(\"float32\") / 255.\n",
        "X_test = X_test.astype(\"float32\") / 255.\n",
        "\n",
        "X_train = X_train.reshape((len(X_train), np.prod(X_train.shape[1:])))\n",
        "X_test = X_test.reshape((len(X_test), np.prod(X_test.shape[1:])))"
      ],
      "execution_count": 0,
      "outputs": []
    },
    {
      "cell_type": "code",
      "metadata": {
        "id": "DfIYtyiF6Ipf",
        "colab_type": "code",
        "colab": {}
      },
      "source": [
        "x = Input(shape = (input_size, ))\n",
        "h = Dense(hidden_size, activation = 'relu',\n",
        "          activity_regularizer = regularizers.l1(10e-6))(x)\n",
        "r = Dense(input_size, activation = 'sigmoid')(h)\n",
        "\n",
        "autoencoder = Model(inputs = x, outputs = r)\n",
        "autoencoder.compile(optimizer = 'Adam', \n",
        "                    loss = 'binary_crossentropy')"
      ],
      "execution_count": 0,
      "outputs": []
    },
    {
      "cell_type": "code",
      "metadata": {
        "id": "Gb0lKPBk6myU",
        "colab_type": "code",
        "outputId": "4569ce16-6899-4331-976b-4ea1786f0054",
        "colab": {
          "base_uri": "https://localhost:8080/",
          "height": 276
        }
      },
      "source": [
        "from IPython.display import SVG\n",
        "from keras.utils.vis_utils import model_to_dot\n",
        "\n",
        "SVG(model_to_dot(autoencoder).create(prog = 'dot', format = 'svg'))"
      ],
      "execution_count": 29,
      "outputs": [
        {
          "output_type": "execute_result",
          "data": {
            "text/plain": [
              "<IPython.core.display.SVG object>"
            ],
            "image/svg+xml": "<svg height=\"191pt\" viewBox=\"0.00 0.00 141.00 191.00\" width=\"141pt\" xmlns=\"http://www.w3.org/2000/svg\" xmlns:xlink=\"http://www.w3.org/1999/xlink\">\n<g class=\"graph\" id=\"graph0\" transform=\"scale(1 1) rotate(0) translate(4 187)\">\n<title>G</title>\n<polygon fill=\"#ffffff\" points=\"-4,4 -4,-187 137,-187 137,4 -4,4\" stroke=\"transparent\"/>\n<!-- 139988702464656 -->\n<g class=\"node\" id=\"node1\">\n<title>139988702464656</title>\n<polygon fill=\"none\" points=\"0,-146.5 0,-182.5 133,-182.5 133,-146.5 0,-146.5\" stroke=\"#000000\"/>\n<text fill=\"#000000\" font-family=\"Times,serif\" font-size=\"14.00\" text-anchor=\"middle\" x=\"66.5\" y=\"-160.8\">input_4: InputLayer</text>\n</g>\n<!-- 139988702464544 -->\n<g class=\"node\" id=\"node2\">\n<title>139988702464544</title>\n<polygon fill=\"none\" points=\"13,-73.5 13,-109.5 120,-109.5 120,-73.5 13,-73.5\" stroke=\"#000000\"/>\n<text fill=\"#000000\" font-family=\"Times,serif\" font-size=\"14.00\" text-anchor=\"middle\" x=\"66.5\" y=\"-87.8\">dense_7: Dense</text>\n</g>\n<!-- 139988702464656&#45;&gt;139988702464544 -->\n<g class=\"edge\" id=\"edge1\">\n<title>139988702464656-&gt;139988702464544</title>\n<path d=\"M66.5,-146.4551C66.5,-138.3828 66.5,-128.6764 66.5,-119.6817\" fill=\"none\" stroke=\"#000000\"/>\n<polygon fill=\"#000000\" points=\"70.0001,-119.5903 66.5,-109.5904 63.0001,-119.5904 70.0001,-119.5903\" stroke=\"#000000\"/>\n</g>\n<!-- 139988708902336 -->\n<g class=\"node\" id=\"node3\">\n<title>139988708902336</title>\n<polygon fill=\"none\" points=\"13,-.5 13,-36.5 120,-36.5 120,-.5 13,-.5\" stroke=\"#000000\"/>\n<text fill=\"#000000\" font-family=\"Times,serif\" font-size=\"14.00\" text-anchor=\"middle\" x=\"66.5\" y=\"-14.8\">dense_8: Dense</text>\n</g>\n<!-- 139988702464544&#45;&gt;139988708902336 -->\n<g class=\"edge\" id=\"edge2\">\n<title>139988702464544-&gt;139988708902336</title>\n<path d=\"M66.5,-73.4551C66.5,-65.3828 66.5,-55.6764 66.5,-46.6817\" fill=\"none\" stroke=\"#000000\"/>\n<polygon fill=\"#000000\" points=\"70.0001,-46.5903 66.5,-36.5904 63.0001,-46.5904 70.0001,-46.5903\" stroke=\"#000000\"/>\n</g>\n</g>\n</svg>"
          },
          "metadata": {
            "tags": []
          },
          "execution_count": 29
        }
      ]
    },
    {
      "cell_type": "code",
      "metadata": {
        "id": "TCBmemdu67mO",
        "colab_type": "code",
        "outputId": "a36a1e3d-43d2-48ad-a5a2-de2fb58a074a",
        "colab": {
          "base_uri": "https://localhost:8080/",
          "height": 571
        }
      },
      "source": [
        "epochs = 15\n",
        "batch_size = 128\n",
        "\n",
        "history = autoencoder.fit(X_train, X_train,\n",
        "                          batch_size = batch_size,\n",
        "                          epochs = epochs,\n",
        "                          verbose = 1,\n",
        "                          validation_data = (X_test, X_test))"
      ],
      "execution_count": 30,
      "outputs": [
        {
          "output_type": "stream",
          "text": [
            "Train on 60000 samples, validate on 10000 samples\n",
            "Epoch 1/15\n",
            "60000/60000 [==============================] - 2s 35us/step - loss: 0.5888 - val_loss: 0.4959\n",
            "Epoch 2/15\n",
            "60000/60000 [==============================] - 2s 29us/step - loss: 0.4239 - val_loss: 0.3600\n",
            "Epoch 3/15\n",
            "60000/60000 [==============================] - 2s 29us/step - loss: 0.3104 - val_loss: 0.2663\n",
            "Epoch 4/15\n",
            "60000/60000 [==============================] - 2s 29us/step - loss: 0.2318 - val_loss: 0.2009\n",
            "Epoch 5/15\n",
            "60000/60000 [==============================] - 2s 29us/step - loss: 0.1763 - val_loss: 0.1541\n",
            "Epoch 6/15\n",
            "60000/60000 [==============================] - 2s 29us/step - loss: 0.1362 - val_loss: 0.1200\n",
            "Epoch 7/15\n",
            "60000/60000 [==============================] - 2s 29us/step - loss: 0.1067 - val_loss: 0.0946\n",
            "Epoch 8/15\n",
            "60000/60000 [==============================] - 2s 30us/step - loss: 0.0846 - val_loss: 0.0754\n",
            "Epoch 9/15\n",
            "60000/60000 [==============================] - 2s 29us/step - loss: 0.0677 - val_loss: 0.0606\n",
            "Epoch 10/15\n",
            "60000/60000 [==============================] - 2s 28us/step - loss: 0.0547 - val_loss: 0.0492\n",
            "Epoch 11/15\n",
            "60000/60000 [==============================] - 2s 29us/step - loss: 0.0445 - val_loss: 0.0401\n",
            "Epoch 12/15\n",
            "60000/60000 [==============================] - 2s 30us/step - loss: 0.0364 - val_loss: 0.0330\n",
            "Epoch 13/15\n",
            "60000/60000 [==============================] - 2s 30us/step - loss: 0.0300 - val_loss: 0.0273\n",
            "Epoch 14/15\n",
            "60000/60000 [==============================] - 2s 30us/step - loss: 0.0249 - val_loss: 0.0227\n",
            "Epoch 15/15\n",
            "60000/60000 [==============================] - 2s 30us/step - loss: 0.0208 - val_loss: 0.0191\n"
          ],
          "name": "stdout"
        }
      ]
    },
    {
      "cell_type": "markdown",
      "metadata": {
        "id": "OGXEEr5n8ifY",
        "colab_type": "text"
      },
      "source": [
        "## Predict on the test set"
      ]
    },
    {
      "cell_type": "code",
      "metadata": {
        "id": "lWxn1y8y7dl5",
        "colab_type": "code",
        "colab": {}
      },
      "source": [
        "decoded_imgs = autoencoder.predict(X_test)"
      ],
      "execution_count": 0,
      "outputs": []
    },
    {
      "cell_type": "markdown",
      "metadata": {
        "id": "dDV9q8xZ9Ym3",
        "colab_type": "text"
      },
      "source": [
        "## Plot"
      ]
    },
    {
      "cell_type": "code",
      "metadata": {
        "id": "yitjYIVz8pzU",
        "colab_type": "code",
        "outputId": "3da5a793-f3b4-484c-85c8-e8ecba1c5fe3",
        "colab": {
          "base_uri": "https://localhost:8080/",
          "height": 241
        }
      },
      "source": [
        "n = 10\n",
        "plt.figure(figsize = (20, 6))\n",
        "\n",
        "for i in range(n):\n",
        "  # Displaying original images\n",
        "  ax = plt.subplot(3, n, i + 1)\n",
        "  plt.imshow(X_test[i].reshape(28, 28))\n",
        "  plt.gray()\n",
        "  ax.get_xaxis().set_visible(False)\n",
        "  ax.get_yaxis().set_visible(False)\n",
        "  \n",
        "  # Displaying reconstructed images\n",
        "  ax = plt.subplot(3, n, i + n + 1)\n",
        "  plt.imshow(decoded_imgs[i].reshape(28, 28))\n",
        "  plt.gray()\n",
        "  ax.get_xaxis().set_visible(False)\n",
        "  ax.get_yaxis().set_visible(False)\n",
        "  \n",
        "plt.show()"
      ],
      "execution_count": 32,
      "outputs": [
        {
          "output_type": "display_data",
          "data": {
            "image/png": "[encoded data removed]",
            "text/plain": [
              "<Figure size 1440x432 with 20 Axes>"
            ]
          },
          "metadata": {
            "tags": []
          }
        }
      ]
    },
    {
      "cell_type": "markdown",
      "metadata": {
        "id": "opy1IVgdM-Dm",
        "colab_type": "text"
      },
      "source": [
        "I don't know what the fuck is wrong, if anybody figures it out, please help me out."
      ]
    },
    {
      "cell_type": "markdown",
      "metadata": {
        "id": "kM9kqm_zNJGN",
        "colab_type": "text"
      },
      "source": [
        "## Plot the losses"
      ]
    },
    {
      "cell_type": "code",
      "metadata": {
        "id": "HRLLzjidAVWN",
        "colab_type": "code",
        "colab": {
          "base_uri": "https://localhost:8080/",
          "height": 313
        },
        "outputId": "734e8e76-38d7-4423-d0b5-f9c50bd1a0d9"
      },
      "source": [
        "print(history.history.keys())\n",
        "\n",
        "plt.plot(history.history['loss'])\n",
        "plt.plot(history.history['val_loss'])\n",
        "plt.title('model loss')\n",
        "plt.xlabel('epochs')\n",
        "plt.ylabel('loss')\n",
        "plt.legend(['train', 'validation'], loc = 'upper right')\n",
        "plt.show()"
      ],
      "execution_count": 33,
      "outputs": [
        {
          "output_type": "stream",
          "text": [
            "dict_keys(['val_loss', 'loss'])\n"
          ],
          "name": "stdout"
        },
        {
          "output_type": "display_data",
          "data": {
            "image/png": "[encoded data removed]",
            "text/plain": [
              "<Figure size 432x288 with 1 Axes>"
            ]
          },
          "metadata": {
            "tags": []
          }
        }
      ]
    },
    {
      "cell_type": "markdown",
      "metadata": {
        "id": "NHvsvzRoQvba",
        "colab_type": "text"
      },
      "source": [
        "# Denoising Autoencoder"
      ]
    },
    {
      "cell_type": "code",
      "metadata": {
        "id": "LEjtc7pkNfOM",
        "colab_type": "code",
        "colab": {}
      },
      "source": [
        "(X_train, _), (X_test, _) = mnist.load_data()\n",
        "\n",
        "X_train = X_train.reshape(X_train.shape[0], 28, 28, 1)\n",
        "X_test = X_test.reshape(X_test.shape[0], 28, 28, 1)\n",
        "\n",
        "X_train = X_train.astype(\"float32\") / 255.\n",
        "X_test = X_test.astype(\"float32\") / 255."
      ],
      "execution_count": 0,
      "outputs": []
    },
    {
      "cell_type": "markdown",
      "metadata": {
        "id": "ufcUnY5oi0hb",
        "colab_type": "text"
      },
      "source": [
        "## Create noisy data"
      ]
    },
    {
      "cell_type": "code",
      "metadata": {
        "id": "24E60Sl6V5oI",
        "colab_type": "code",
        "colab": {
          "base_uri": "https://localhost:8080/",
          "height": 228
        },
        "outputId": "1df08121-78a6-4d7d-ad91-ca47d91eef6d"
      },
      "source": [
        "noise_factor = 0.5\n",
        "\n",
        "X_train_noisy = X_train + noise_factor * np.random.normal(size = X_train.shape)\n",
        "X_test_noisy = X_test + noise_factor * np.random.normal(size = X_test.shape)\n",
        "\n",
        "X_train_noisy = np.clip(X_train_noisy, 0.0, 1.0)\n",
        "X_test_noisy = np.clip(X_test_noisy, 0.0, 1.0)\n",
        "\n",
        "n = 10\n",
        "plt.figure(figsize = (10, 4.5))\n",
        "for i in range(n):\n",
        "  # Plotting original images\n",
        "  ax = plt.subplot(2, n, i + 1)\n",
        "  plt.imshow(X_test[i].reshape(28, 28))\n",
        "  plt.gray()\n",
        "  ax.get_xaxis().set_visible(False)\n",
        "  ax.get_yaxis().set_visible(False)\n",
        "  if i == n/2:\n",
        "    ax.set_title('Original Images')\n",
        "    \n",
        "  # Plotting noisy images\n",
        "  ax = plt.subplot(2, n, i + 1 + n)\n",
        "  plt.imshow(X_test_noisy[i].reshape(28, 28))\n",
        "  plt.gray()\n",
        "  ax.get_xaxis().set_visible(False)\n",
        "  ax.get_yaxis().set_visible(False)\n",
        "  if i == n/2:\n",
        "    ax.set_title('Noisy Input')"
      ],
      "execution_count": 35,
      "outputs": [
        {
          "output_type": "display_data",
          "data": {
            "image/png": "[encoded data removed]",
            "text/plain": [
              "<Figure size 720x324 with 20 Axes>"
            ]
          },
          "metadata": {
            "tags": []
          }
        }
      ]
    },
    {
      "cell_type": "markdown",
      "metadata": {
        "id": "xuPIwwNGkiDk",
        "colab_type": "text"
      },
      "source": [
        "## Create the network"
      ]
    },
    {
      "cell_type": "code",
      "metadata": {
        "id": "Z0fiXqRojXEi",
        "colab_type": "code",
        "colab": {}
      },
      "source": [
        "x = Input(shape = (28, 28, 1))\n",
        "\n",
        "# Encoder\n",
        "conv1_1 = Conv2D(32, (3, 3), activation = 'relu', padding = 'same')(x)\n",
        "pool1 = MaxPooling2D((2, 2), padding = 'same')(conv1_1)\n",
        "conv1_2 = Conv2D(32, (3, 3), activation = 'relu', padding = 'same')(pool1)\n",
        "h = MaxPooling2D((2, 2), padding = 'same')(conv1_2)\n",
        "\n",
        "# Decoder\n",
        "conv2_1 = Conv2D(32, (3, 3), activation = 'relu', padding = 'same')(h)\n",
        "up1 = UpSampling2D((2, 2))(conv2_1)\n",
        "conv2_2 = Conv2D(32, (3, 3), activation = 'relu', padding = 'same')(up1)\n",
        "up2 = UpSampling2D((2, 2))(conv2_2)\n",
        "r = Conv2D(1, (3, 3), activation = 'sigmoid', padding = 'same')(up2)\n",
        "\n",
        "autoencoder = Model(inputs = x, outputs = r)\n",
        "autoencoder.compile(optimizer = 'adadelta', \n",
        "                    loss = 'binary_crossentropy')"
      ],
      "execution_count": 0,
      "outputs": []
    },
    {
      "cell_type": "code",
      "metadata": {
        "id": "2rf8BFFYmAAh",
        "colab_type": "code",
        "colab": {
          "base_uri": "https://localhost:8080/",
          "height": 957
        },
        "outputId": "98006f8d-01d5-423d-f805-53620e1715d8"
      },
      "source": [
        "from IPython.display import SVG\n",
        "from keras.utils.vis_utils import model_to_dot\n",
        "\n",
        "SVG(model_to_dot(autoencoder).create(prog = 'dot', format = 'svg'))"
      ],
      "execution_count": 37,
      "outputs": [
        {
          "output_type": "execute_result",
          "data": {
            "text/plain": [
              "<IPython.core.display.SVG object>"
            ],
            "image/svg+xml": "<svg height=\"702pt\" viewBox=\"0.00 0.00 229.00 702.00\" width=\"229pt\" xmlns=\"http://www.w3.org/2000/svg\" xmlns:xlink=\"http://www.w3.org/1999/xlink\">\n<g class=\"graph\" id=\"graph0\" transform=\"scale(1 1) rotate(0) translate(4 698)\">\n<title>G</title>\n<polygon fill=\"#ffffff\" points=\"-4,4 -4,-698 225,-698 225,4 -4,4\" stroke=\"transparent\"/>\n<!-- 139988694194944 -->\n<g class=\"node\" id=\"node1\">\n<title>139988694194944</title>\n<polygon fill=\"none\" points=\"44,-657.5 44,-693.5 177,-693.5 177,-657.5 44,-657.5\" stroke=\"#000000\"/>\n<text fill=\"#000000\" font-family=\"Times,serif\" font-size=\"14.00\" text-anchor=\"middle\" x=\"110.5\" y=\"-671.8\">input_5: InputLayer</text>\n</g>\n<!-- 139988694195952 -->\n<g class=\"node\" id=\"node2\">\n<title>139988694195952</title>\n<polygon fill=\"none\" points=\"44,-584.5 44,-620.5 177,-620.5 177,-584.5 44,-584.5\" stroke=\"#000000\"/>\n<text fill=\"#000000\" font-family=\"Times,serif\" font-size=\"14.00\" text-anchor=\"middle\" x=\"110.5\" y=\"-598.8\">conv2d_8: Conv2D</text>\n</g>\n<!-- 139988694194944&#45;&gt;139988694195952 -->\n<g class=\"edge\" id=\"edge1\">\n<title>139988694194944-&gt;139988694195952</title>\n<path d=\"M110.5,-657.4551C110.5,-649.3828 110.5,-639.6764 110.5,-630.6817\" fill=\"none\" stroke=\"#000000\"/>\n<polygon fill=\"#000000\" points=\"114.0001,-630.5903 110.5,-620.5904 107.0001,-630.5904 114.0001,-630.5903\" stroke=\"#000000\"/>\n</g>\n<!-- 139988694194664 -->\n<g class=\"node\" id=\"node3\">\n<title>139988694194664</title>\n<polygon fill=\"none\" points=\"0,-511.5 0,-547.5 221,-547.5 221,-511.5 0,-511.5\" stroke=\"#000000\"/>\n<text fill=\"#000000\" font-family=\"Times,serif\" font-size=\"14.00\" text-anchor=\"middle\" x=\"110.5\" y=\"-525.8\">max_pooling2d_4: MaxPooling2D</text>\n</g>\n<!-- 139988694195952&#45;&gt;139988694194664 -->\n<g class=\"edge\" id=\"edge2\">\n<title>139988694195952-&gt;139988694194664</title>\n<path d=\"M110.5,-584.4551C110.5,-576.3828 110.5,-566.6764 110.5,-557.6817\" fill=\"none\" stroke=\"#000000\"/>\n<polygon fill=\"#000000\" points=\"114.0001,-557.5903 110.5,-547.5904 107.0001,-557.5904 114.0001,-557.5903\" stroke=\"#000000\"/>\n</g>\n<!-- 139988694192256 -->\n<g class=\"node\" id=\"node4\">\n<title>139988694192256</title>\n<polygon fill=\"none\" points=\"44,-438.5 44,-474.5 177,-474.5 177,-438.5 44,-438.5\" stroke=\"#000000\"/>\n<text fill=\"#000000\" font-family=\"Times,serif\" font-size=\"14.00\" text-anchor=\"middle\" x=\"110.5\" y=\"-452.8\">conv2d_9: Conv2D</text>\n</g>\n<!-- 139988694194664&#45;&gt;139988694192256 -->\n<g class=\"edge\" id=\"edge3\">\n<title>139988694194664-&gt;139988694192256</title>\n<path d=\"M110.5,-511.4551C110.5,-503.3828 110.5,-493.6764 110.5,-484.6817\" fill=\"none\" stroke=\"#000000\"/>\n<polygon fill=\"#000000\" points=\"114.0001,-484.5903 110.5,-474.5904 107.0001,-484.5904 114.0001,-484.5903\" stroke=\"#000000\"/>\n</g>\n<!-- 139988701789824 -->\n<g class=\"node\" id=\"node5\">\n<title>139988701789824</title>\n<polygon fill=\"none\" points=\"0,-365.5 0,-401.5 221,-401.5 221,-365.5 0,-365.5\" stroke=\"#000000\"/>\n<text fill=\"#000000\" font-family=\"Times,serif\" font-size=\"14.00\" text-anchor=\"middle\" x=\"110.5\" y=\"-379.8\">max_pooling2d_5: MaxPooling2D</text>\n</g>\n<!-- 139988694192256&#45;&gt;139988701789824 -->\n<g class=\"edge\" id=\"edge4\">\n<title>139988694192256-&gt;139988701789824</title>\n<path d=\"M110.5,-438.4551C110.5,-430.3828 110.5,-420.6764 110.5,-411.6817\" fill=\"none\" stroke=\"#000000\"/>\n<polygon fill=\"#000000\" points=\"114.0001,-411.5903 110.5,-401.5904 107.0001,-411.5904 114.0001,-411.5903\" stroke=\"#000000\"/>\n</g>\n<!-- 139990001602400 -->\n<g class=\"node\" id=\"node6\">\n<title>139990001602400</title>\n<polygon fill=\"none\" points=\"40.5,-292.5 40.5,-328.5 180.5,-328.5 180.5,-292.5 40.5,-292.5\" stroke=\"#000000\"/>\n<text fill=\"#000000\" font-family=\"Times,serif\" font-size=\"14.00\" text-anchor=\"middle\" x=\"110.5\" y=\"-306.8\">conv2d_10: Conv2D</text>\n</g>\n<!-- 139988701789824&#45;&gt;139990001602400 -->\n<g class=\"edge\" id=\"edge5\">\n<title>139988701789824-&gt;139990001602400</title>\n<path d=\"M110.5,-365.4551C110.5,-357.3828 110.5,-347.6764 110.5,-338.6817\" fill=\"none\" stroke=\"#000000\"/>\n<polygon fill=\"#000000\" points=\"114.0001,-338.5903 110.5,-328.5904 107.0001,-338.5904 114.0001,-338.5903\" stroke=\"#000000\"/>\n</g>\n<!-- 139990001602456 -->\n<g class=\"node\" id=\"node7\">\n<title>139990001602456</title>\n<polygon fill=\"none\" points=\"0,-219.5 0,-255.5 221,-255.5 221,-219.5 0,-219.5\" stroke=\"#000000\"/>\n<text fill=\"#000000\" font-family=\"Times,serif\" font-size=\"14.00\" text-anchor=\"middle\" x=\"110.5\" y=\"-233.8\">up_sampling2d_4: UpSampling2D</text>\n</g>\n<!-- 139990001602400&#45;&gt;139990001602456 -->\n<g class=\"edge\" id=\"edge6\">\n<title>139990001602400-&gt;139990001602456</title>\n<path d=\"M110.5,-292.4551C110.5,-284.3828 110.5,-274.6764 110.5,-265.6817\" fill=\"none\" stroke=\"#000000\"/>\n<polygon fill=\"#000000\" points=\"114.0001,-265.5903 110.5,-255.5904 107.0001,-265.5904 114.0001,-265.5903\" stroke=\"#000000\"/>\n</g>\n<!-- 139990001636912 -->\n<g class=\"node\" id=\"node8\">\n<title>139990001636912</title>\n<polygon fill=\"none\" points=\"40.5,-146.5 40.5,-182.5 180.5,-182.5 180.5,-146.5 40.5,-146.5\" stroke=\"#000000\"/>\n<text fill=\"#000000\" font-family=\"Times,serif\" font-size=\"14.00\" text-anchor=\"middle\" x=\"110.5\" y=\"-160.8\">conv2d_11: Conv2D</text>\n</g>\n<!-- 139990001602456&#45;&gt;139990001636912 -->\n<g class=\"edge\" id=\"edge7\">\n<title>139990001602456-&gt;139990001636912</title>\n<path d=\"M110.5,-219.4551C110.5,-211.3828 110.5,-201.6764 110.5,-192.6817\" fill=\"none\" stroke=\"#000000\"/>\n<polygon fill=\"#000000\" points=\"114.0001,-192.5903 110.5,-182.5904 107.0001,-192.5904 114.0001,-192.5903\" stroke=\"#000000\"/>\n</g>\n<!-- 139989897447296 -->\n<g class=\"node\" id=\"node9\">\n<title>139989897447296</title>\n<polygon fill=\"none\" points=\"0,-73.5 0,-109.5 221,-109.5 221,-73.5 0,-73.5\" stroke=\"#000000\"/>\n<text fill=\"#000000\" font-family=\"Times,serif\" font-size=\"14.00\" text-anchor=\"middle\" x=\"110.5\" y=\"-87.8\">up_sampling2d_5: UpSampling2D</text>\n</g>\n<!-- 139990001636912&#45;&gt;139989897447296 -->\n<g class=\"edge\" id=\"edge8\">\n<title>139990001636912-&gt;139989897447296</title>\n<path d=\"M110.5,-146.4551C110.5,-138.3828 110.5,-128.6764 110.5,-119.6817\" fill=\"none\" stroke=\"#000000\"/>\n<polygon fill=\"#000000\" points=\"114.0001,-119.5903 110.5,-109.5904 107.0001,-119.5904 114.0001,-119.5903\" stroke=\"#000000\"/>\n</g>\n<!-- 139989897514344 -->\n<g class=\"node\" id=\"node10\">\n<title>139989897514344</title>\n<polygon fill=\"none\" points=\"40.5,-.5 40.5,-36.5 180.5,-36.5 180.5,-.5 40.5,-.5\" stroke=\"#000000\"/>\n<text fill=\"#000000\" font-family=\"Times,serif\" font-size=\"14.00\" text-anchor=\"middle\" x=\"110.5\" y=\"-14.8\">conv2d_12: Conv2D</text>\n</g>\n<!-- 139989897447296&#45;&gt;139989897514344 -->\n<g class=\"edge\" id=\"edge9\">\n<title>139989897447296-&gt;139989897514344</title>\n<path d=\"M110.5,-73.4551C110.5,-65.3828 110.5,-55.6764 110.5,-46.6817\" fill=\"none\" stroke=\"#000000\"/>\n<polygon fill=\"#000000\" points=\"114.0001,-46.5903 110.5,-36.5904 107.0001,-46.5904 114.0001,-46.5903\" stroke=\"#000000\"/>\n</g>\n</g>\n</svg>"
          },
          "metadata": {
            "tags": []
          },
          "execution_count": 37
        }
      ]
    },
    {
      "cell_type": "markdown",
      "metadata": {
        "id": "qpihNbmymQQ9",
        "colab_type": "text"
      },
      "source": [
        "## Train the network"
      ]
    },
    {
      "cell_type": "code",
      "metadata": {
        "id": "aj7lzpffmLNb",
        "colab_type": "code",
        "colab": {
          "base_uri": "https://localhost:8080/",
          "height": 214
        },
        "outputId": "d65206a2-8b0b-4cdd-bf8e-568c74f93061"
      },
      "source": [
        "epochs = 5\n",
        "batch_size = 128\n",
        "\n",
        "history = autoencoder.fit(X_train_noisy, X_train,\n",
        "                          batch_size = batch_size,\n",
        "                          epochs = epochs,\n",
        "                          verbose = 1,\n",
        "                          validation_data = (X_test_noisy, X_test))"
      ],
      "execution_count": 38,
      "outputs": [
        {
          "output_type": "stream",
          "text": [
            "Train on 60000 samples, validate on 10000 samples\n",
            "Epoch 1/5\n",
            "60000/60000 [==============================] - 4s 73us/step - loss: 0.1827 - val_loss: 0.1274\n",
            "Epoch 2/5\n",
            "60000/60000 [==============================] - 4s 60us/step - loss: 0.1210 - val_loss: 0.1129\n",
            "Epoch 3/5\n",
            "60000/60000 [==============================] - 4s 61us/step - loss: 0.1127 - val_loss: 0.1099\n",
            "Epoch 4/5\n",
            "60000/60000 [==============================] - 4s 61us/step - loss: 0.1090 - val_loss: 0.1104\n",
            "Epoch 5/5\n",
            "60000/60000 [==============================] - 4s 60us/step - loss: 0.1065 - val_loss: 0.1067\n"
          ],
          "name": "stdout"
        }
      ]
    },
    {
      "cell_type": "code",
      "metadata": {
        "id": "DJYFu4xWmh0V",
        "colab_type": "code",
        "colab": {}
      },
      "source": [
        "decoded_imgs = autoencoder.predict(X_test_noisy)"
      ],
      "execution_count": 0,
      "outputs": []
    },
    {
      "cell_type": "markdown",
      "metadata": {
        "id": "hz0Avtetmzzi",
        "colab_type": "text"
      },
      "source": [
        "## Plot"
      ]
    },
    {
      "cell_type": "code",
      "metadata": {
        "id": "9hcf9Yaamxoy",
        "colab_type": "code",
        "colab": {
          "base_uri": "https://localhost:8080/",
          "height": 363
        },
        "outputId": "e2c200d1-45e1-4767-dd6a-199fb0160064"
      },
      "source": [
        "n = 10\n",
        "plt.figure(figsize = (10, 7))\n",
        "\n",
        "for i in range(n):\n",
        "  # Plotting original images\n",
        "  ax = plt.subplot(3, n, i + 1)\n",
        "  plt.imshow(X_test[i].reshape(28, 28))\n",
        "  plt.gray()\n",
        "  ax.get_xaxis().set_visible(False)\n",
        "  ax.get_yaxis().set_visible(False)\n",
        "  if i == n/2:\n",
        "    ax.set_title('Original Images')\n",
        "    \n",
        "  # Plotting noisy images\n",
        "  ax = plt.subplot(3, n, i + n + 1)\n",
        "  plt.imshow(X_test_noisy[i].reshape(28, 28))\n",
        "  plt.gray()\n",
        "  ax.get_xaxis().set_visible(False)\n",
        "  ax.get_yaxis().set_visible(False)\n",
        "  if i == n/2:\n",
        "    ax.set_title('Noisy Input')\n",
        "    \n",
        "  # Plotting reconstructed images\n",
        "  ax = plt.subplot(3, n, i + 2*n + 1)\n",
        "  plt.imshow(decoded_imgs[i].reshape(28, 28))\n",
        "  plt.gray()\n",
        "  ax.get_xaxis().set_visible(False)\n",
        "  ax.get_yaxis().set_visible(False)\n",
        "  if i == n/2:\n",
        "    ax.set_title('Reconstructed Images')"
      ],
      "execution_count": 40,
      "outputs": [
        {
          "output_type": "display_data",
          "data": {
            "image/png": "[encoded data removed]",
            "text/plain": [
              "<Figure size 720x504 with 30 Axes>"
            ]
          },
          "metadata": {
            "tags": []
          }
        }
      ]
    },
    {
      "cell_type": "markdown",
      "metadata": {
        "id": "4JFBn_zWoRZc",
        "colab_type": "text"
      },
      "source": [
        "## Plot the losses"
      ]
    },
    {
      "cell_type": "code",
      "metadata": {
        "id": "mFZDtH5koL4n",
        "colab_type": "code",
        "colab": {
          "base_uri": "https://localhost:8080/",
          "height": 313
        },
        "outputId": "d27bfe2d-63d8-4b91-fb0c-6edccdcbf5d2"
      },
      "source": [
        "print(history.history.keys())\n",
        "\n",
        "plt.plot(history.history['loss'])\n",
        "plt.plot(history.history['val_loss'])\n",
        "plt.title('model loss')\n",
        "plt.xlabel('epochs')\n",
        "plt.ylabel('loss')\n",
        "plt.legend(['train', 'validation'], loc = 'upper right')\n",
        "plt.show()"
      ],
      "execution_count": 41,
      "outputs": [
        {
          "output_type": "stream",
          "text": [
            "dict_keys(['val_loss', 'loss'])\n"
          ],
          "name": "stdout"
        },
        {
          "output_type": "display_data",
          "data": {
            "image/png": "[encoded data removed]",
            "text/plain": [
              "<Figure size 432x288 with 1 Axes>"
            ]
          },
          "metadata": {
            "tags": []
          }
        }
      ]
    }
  ]
}